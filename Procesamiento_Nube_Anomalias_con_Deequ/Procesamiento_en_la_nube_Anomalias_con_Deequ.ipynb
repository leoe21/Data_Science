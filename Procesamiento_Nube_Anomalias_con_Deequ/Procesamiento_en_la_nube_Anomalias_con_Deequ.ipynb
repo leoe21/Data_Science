{
  "nbformat": 4,
  "nbformat_minor": 0,
  "metadata": {
    "colab": {
      "provenance": []
    },
    "kernelspec": {
      "name": "python3",
      "display_name": "Python 3"
    },
    "language_info": {
      "name": "python"
    }
  },
  "cells": [
    {
      "cell_type": "markdown",
      "source": [
        "# **Trabajo práctico: Procesamiento en la nube**\n",
        "\n",
        "- Fabian Salazar\n",
        "- Raul Echeverry\n",
        "- Esteban Ordoñez\n",
        "\n",
        "<br></br>\n",
        "### **Introducción**\n",
        "\n",
        "En el presente trabajo se aborda un análisis y detección de anomalías en un conjunto de datos utilizando la biblioteca Deequ, desarrollada por Amazon. Deequ es una herramienta poderosa para evaluar la calidad de los datos mediante la creación de métricas estadísticas y el uso de técnicas automatizadas para identificar irregularidades. Este análisis sigue una metodología estructurada que incluye las siguientes etapas:\n",
        "\n",
        "1. **Selección del Dataset**:\n",
        "Se ha seleccionado un conjunto de datos que contiene diferentes tipos de información (numérica, categórica, y posiblemente temporal), con el fin de maximizar la riqueza y diversidad del análisis. Una parte de este dataset será destinada a representar datos \"nuevos\", mientras que otra parte servirá como referencia histórica. Esto permitirá aplicar técnicas de detección de anomalías, evaluando la consistencia entre datos actuales y pasados.\n",
        "\n",
        "2. **Aplicación de Deequ Profiling**:\n",
        "En esta etapa, se utilizará Deequ para realizar un perfilado inicial del dataset. Este proceso permitirá obtener una visión global de la distribución de los datos, su integridad, la existencia de valores atípicos, y otras métricas relevantes. Estas métricas iniciales proporcionan la base para establecer criterios de calidad.\n",
        "\n",
        "3. **Uso de Deequ Analyzer**:\n",
        "Posteriormente, se aplicarán los análisis del módulo Analyzer de Deequ, que permite extraer métricas específicas del dataset. Estas métricas incluyen estadísticas descriptivas avanzadas, correlaciones y otras propiedades de los datos. Los resultados serán fundamentales para establecer reglas de calidad.\n",
        "\n",
        "4. **Detección de Anomalías con Deequ**:\n",
        "Finalmente, mediante el módulo de detección de anomalías de Deequ, se identificarán patrones inesperados en los datos nuevos en comparación con los históricos. Esta etapa tiene como objetivo detectar desviaciones significativas que podrían señalar problemas de calidad, errores en los datos o tendencias fuera de lo común.\n",
        "\n",
        "A través de este enfoque, se busca demostrar cómo Deequ puede ser utilizado de manera eficiente para evaluar y garantizar la calidad de los datos, proporcionando un marco práctico y robusto para el análisis de grandes volúmenes de información.\n",
        "\n",
        "\n"
      ],
      "metadata": {
        "id": "r_I5VTq3XC-e"
      }
    },
    {
      "cell_type": "markdown",
      "source": [
        "#### **Preparación de entorno**\n",
        "\n",
        "En esta sección se configura el entorno necesario para utilizar PyDeequ, se instala OpenJDK 8, ya que Spark requiere Java para ejecutarse; PySpark, que permite interactuar con Spark desde Python; y PyDeequ, que facilita la aplicación de métricas de calidad, análisis estadísticos y detección de anomalías en los datos, aprovechando el procesamiento distribuido de Spark. Esta configuración prepara el entorno para las siguientes fases del análisis descritas en este trabajo."
      ],
      "metadata": {
        "id": "esrU3kKFYYtN"
      }
    },
    {
      "cell_type": "code",
      "source": [
        "!apt-get install openjdk-8-jdk-headless -qq > /dev/null\n",
        "!pip install pyspark\n",
        "!pip install pydeequ"
      ],
      "metadata": {
        "colab": {
          "base_uri": "https://localhost:8080/"
        },
        "id": "LznSV84OL3yt",
        "outputId": "c54d5c82-5918-4628-e5bc-17066b8c350e"
      },
      "execution_count": 1,
      "outputs": [
        {
          "output_type": "stream",
          "name": "stdout",
          "text": [
            "Requirement already satisfied: pyspark in /usr/local/lib/python3.10/dist-packages (3.3.0)\n",
            "Requirement already satisfied: py4j==0.10.9.5 in /usr/local/lib/python3.10/dist-packages (from pyspark) (0.10.9.5)\n",
            "Requirement already satisfied: pydeequ in /usr/local/lib/python3.10/dist-packages (1.4.0)\n",
            "Requirement already satisfied: numpy>=1.14.1 in /usr/local/lib/python3.10/dist-packages (from pydeequ) (1.26.4)\n",
            "Requirement already satisfied: pandas>=0.23.0 in /usr/local/lib/python3.10/dist-packages (from pydeequ) (2.2.2)\n",
            "Requirement already satisfied: python-dateutil>=2.8.2 in /usr/local/lib/python3.10/dist-packages (from pandas>=0.23.0->pydeequ) (2.8.2)\n",
            "Requirement already satisfied: pytz>=2020.1 in /usr/local/lib/python3.10/dist-packages (from pandas>=0.23.0->pydeequ) (2024.2)\n",
            "Requirement already satisfied: tzdata>=2022.7 in /usr/local/lib/python3.10/dist-packages (from pandas>=0.23.0->pydeequ) (2024.2)\n",
            "Requirement already satisfied: six>=1.5 in /usr/local/lib/python3.10/dist-packages (from python-dateutil>=2.8.2->pandas>=0.23.0->pydeequ) (1.16.0)\n"
          ]
        }
      ]
    },
    {
      "cell_type": "code",
      "execution_count": 4,
      "metadata": {
        "id": "cXYqaPRaLz4A"
      },
      "outputs": [],
      "source": [
        "# Se crea variable de entorno\n",
        "import os\n",
        "\n",
        "os.environ[\"JAVA_HOME\"] = \"/usr/lib/jvm/java-8-openjdk-amd64\"\n",
        "os.environ[\"SPARK_HOME\"] = \"/usr/local/lib/python3.10/dist-packages/pyspark\"\n",
        "os.environ[\"SPARK_VERSION\"] = \"3.2\""
      ]
    },
    {
      "cell_type": "code",
      "source": [
        "!pip install sagemaker-pyspark"
      ],
      "metadata": {
        "colab": {
          "base_uri": "https://localhost:8080/"
        },
        "id": "Wt2MfkbzhRNr",
        "outputId": "2c0aeea6-be9b-4004-fe18-1497d7d215a4"
      },
      "execution_count": 5,
      "outputs": [
        {
          "output_type": "stream",
          "name": "stdout",
          "text": [
            "Requirement already satisfied: sagemaker-pyspark in /usr/local/lib/python3.10/dist-packages (1.4.5)\n",
            "Requirement already satisfied: pyspark==3.3.0 in /usr/local/lib/python3.10/dist-packages (from sagemaker-pyspark) (3.3.0)\n",
            "Requirement already satisfied: numpy in /usr/local/lib/python3.10/dist-packages (from sagemaker-pyspark) (1.26.4)\n",
            "Requirement already satisfied: py4j==0.10.9.5 in /usr/local/lib/python3.10/dist-packages (from pyspark==3.3.0->sagemaker-pyspark) (0.10.9.5)\n"
          ]
        }
      ]
    },
    {
      "cell_type": "markdown",
      "source": [
        "#### **Importación de librerias**\n"
      ],
      "metadata": {
        "id": "mPBGA1dMhIVl"
      }
    },
    {
      "cell_type": "code",
      "source": [
        "import pydeequ\n",
        "import sagemaker_pyspark\n",
        "from pyspark.sql import SparkSession, Row\n",
        "from pydeequ.profiles import *\n",
        "from pyspark.sql.types import *\n",
        "from pyspark.sql.functions import col, when, expr\n",
        "from pydeequ.analyzers import *\n",
        "from pydeequ.analyzers import AnalysisRunner, Minimum, Maximum, Mean, Size\n",
        "from pydeequ.repository import *\n",
        "from pydeequ.verification import *\n",
        "from pydeequ.anomaly_detection import *\n",
        "\n",
        "import matplotlib.pyplot as plt\n",
        "import math\n",
        "import pandas as pd"
      ],
      "metadata": {
        "id": "4tNGSH4QhOM7"
      },
      "execution_count": 6,
      "outputs": []
    },
    {
      "cell_type": "markdown",
      "source": [
        "# **1. Dataset**\n",
        "El dataset seleccionado es adecuado para este análisis, ya que incluye una diversidad de tipos de variables, lo que permite aplicar técnicas avanzadas de calidad de datos y detección de anomalías. A continuación, se describe cada columna con su tipo de variable y su relevancia:\n",
        "\n",
        "- ***ID:*** Identificador único de tipo categórica nominal que distingue a cada cliente. Es crucial para mantener la integridad de los registros, pero no interviene en el análisis predictivo directamente.\n",
        "- ***Sector_Actividad:*** Variable categórica nominal que indica el sector económico al que pertenece el cliente. Es útil para analizar tendencias en sectores específicos.\n",
        "- ***Sexo:*** Variable categórica nominal que representa el género del cliente (Hombre o Mujer), relevante para estudios demográficos.\n",
        "- ***Estado_Civil:*** Variable categórica nominal que clasifica a los clientes según su estado civil (e.g., Soltero/a, Casado/a, Unión Libre). Permite analizar patrones de mora según el estado civil.\n",
        "- ***Tipo_Vivienda:*** Variable categórica nominal que describe el tipo de vivienda del cliente (Arrendada, Familiar, etc.). Es útil para identificar correlaciones con la capacidad de pago.\n",
        "- ***Tipo_cliente:*** Variable categórica nominal que clasifica a los clientes según su relación con el banco (e.g., Nuevo). Esto ayuda a entender el comportamiento de diferentes tipos de clientes.\n",
        "- ***Edad:*** Variable numérica continua que representa la edad del cliente en años. Permite analizar cómo la edad influye en el riesgo de mora.\n",
        "- ***Personas_a_Cargo:*** Variable numérica discreta que indica el número de personas dependientes del cliente. Es importante para evaluar la carga económica.\n",
        "- ***Tasa:*** Variable numérica continua que corresponde a la tasa de interés asociada al crédito. Puede influir directamente en la capacidad del cliente para pagar.\n",
        "- ***Monto:*** Variable numérica continua que describe el valor del crédito solicitado. Es clave para analizar la relación entre el tamaño del crédito y la probabilidad de incumplimiento.\n",
        "- ***Plazo_Meses:*** Variable numérica discreta que especifica el plazo del crédito en meses. Permite evaluar el impacto de los términos del crédito en la probabilidad de mora.\n",
        "\n",
        "Este dataset es idóneo para el análisis, ya que combina variables numéricas y categóricas, lo que enriquece las posibilidades de evaluación y detección de anomalías. Además, las variables seleccionadas tienen una relación lógica con la problemática de estudio: el riesgo de mora.\n",
        "\n",
        "El dataset seleccionado contiene un total de ***8.000 registros***, cada uno correspondiente a un cliente de una entidad bancaria. Estos registros serán divididos en dos subconjuntos de igual tamaño: ***4.000 registros se utilizarán como datos históricos, mientras que los 4.000 registros restantes representarán datos \"nuevos\"***. Esta división es esencial para la detección de anomalías, ya que permite comparar los patrones y métricas estadísticas de los datos nuevos frente a los históricos, identificando irregularidades o comportamientos atípicos en las características de los clientes.\n",
        "\n",
        "La riqueza del dataset y su volumen lo hacen ideal para aplicar técnicas de análisis avanzado, asegurando la robustez de las métricas de calidad y las conclusiones derivadas del estudio."
      ],
      "metadata": {
        "id": "Fx5RlyfnjljN"
      }
    },
    {
      "cell_type": "code",
      "source": [
        "# Cargar el archivo Excel usando pandas\n",
        "url = \"https://github.com/leoe21/Data_Science/raw/refs/heads/main/Procesamiento_Nube_Anomalias_con_Deequ/Base_Banco_Nube.xlsx\"\n",
        "dataset = pd.read_excel(url, sheet_name=\"Historica\")\n",
        "dataset"
      ],
      "metadata": {
        "colab": {
          "base_uri": "https://localhost:8080/",
          "height": 461
        },
        "id": "4Gn4WHEbloCN",
        "outputId": "257c8354-901f-4266-b600-dc8d04fc4d28"
      },
      "execution_count": 7,
      "outputs": [
        {
          "output_type": "execute_result",
          "data": {
            "text/plain": [
              "        ID Sector_Actividad    Sexo Estado_Civil     Tipo_Vivienda  \\\n",
              "0        1         COMERCIO   Mujer  Unión Libre         Arrendada   \n",
              "1        2      AGRICULTURA   Mujer     Casado/a         Arrendada   \n",
              "2        3         COMERCIO   Mujer    Soltero/a         Arrendada   \n",
              "3        4       ARTESANÍAS  Hombre    Soltero/a          Familiar   \n",
              "4        5        SERVICIOS   Mujer    Soltero/a          Familiar   \n",
              "...    ...              ...     ...          ...               ...   \n",
              "3995  3996         PECUARIO   Mujer    Soltero/a  Propia sin Deuda   \n",
              "3996  3997        SERVICIOS  Hombre    Soltero/a          Familiar   \n",
              "3997  3998         COMERCIO  Hombre    Soltero/a         Arrendada   \n",
              "3998  3999      AGRICULTURA  Hombre  Unión Libre         Arrendada   \n",
              "3999  4000        SERVICIOS  Hombre    Soltero/a          Familiar   \n",
              "\n",
              "     Tipo_cliente  Edad  Personas_a_Cargo   Tasa      Monto  Plazo_Meses  \n",
              "0           Nuevo    24                 0  52.89  2400000.0           12  \n",
              "1           Nuevo    34                 1  55.00  5582000.0           23  \n",
              "2           Nuevo    23                 0  52.39  2300000.0           20  \n",
              "3           Nuevo    22                 0  55.20  1774000.0           16  \n",
              "4           Nuevo    21                 0  63.00  2000000.0           14  \n",
              "...           ...   ...               ...    ...        ...          ...  \n",
              "3995        Nuevo    36                 0  48.50  5914000.0           30  \n",
              "3996        Nuevo    25                 0  49.04  2120000.0            6  \n",
              "3997        Nuevo    20                 0  46.80  8400000.0           24  \n",
              "3998        Nuevo    20                 0  52.39  5480000.0           28  \n",
              "3999        Nuevo    21                 0  52.39  4588240.0           24  \n",
              "\n",
              "[4000 rows x 11 columns]"
            ],
            "text/html": [
              "\n",
              "  <div id=\"df-d991713a-79c9-423f-ac75-606d2aec723c\" class=\"colab-df-container\">\n",
              "    <div>\n",
              "<style scoped>\n",
              "    .dataframe tbody tr th:only-of-type {\n",
              "        vertical-align: middle;\n",
              "    }\n",
              "\n",
              "    .dataframe tbody tr th {\n",
              "        vertical-align: top;\n",
              "    }\n",
              "\n",
              "    .dataframe thead th {\n",
              "        text-align: right;\n",
              "    }\n",
              "</style>\n",
              "<table border=\"1\" class=\"dataframe\">\n",
              "  <thead>\n",
              "    <tr style=\"text-align: right;\">\n",
              "      <th></th>\n",
              "      <th>ID</th>\n",
              "      <th>Sector_Actividad</th>\n",
              "      <th>Sexo</th>\n",
              "      <th>Estado_Civil</th>\n",
              "      <th>Tipo_Vivienda</th>\n",
              "      <th>Tipo_cliente</th>\n",
              "      <th>Edad</th>\n",
              "      <th>Personas_a_Cargo</th>\n",
              "      <th>Tasa</th>\n",
              "      <th>Monto</th>\n",
              "      <th>Plazo_Meses</th>\n",
              "    </tr>\n",
              "  </thead>\n",
              "  <tbody>\n",
              "    <tr>\n",
              "      <th>0</th>\n",
              "      <td>1</td>\n",
              "      <td>COMERCIO</td>\n",
              "      <td>Mujer</td>\n",
              "      <td>Unión Libre</td>\n",
              "      <td>Arrendada</td>\n",
              "      <td>Nuevo</td>\n",
              "      <td>24</td>\n",
              "      <td>0</td>\n",
              "      <td>52.89</td>\n",
              "      <td>2400000.0</td>\n",
              "      <td>12</td>\n",
              "    </tr>\n",
              "    <tr>\n",
              "      <th>1</th>\n",
              "      <td>2</td>\n",
              "      <td>AGRICULTURA</td>\n",
              "      <td>Mujer</td>\n",
              "      <td>Casado/a</td>\n",
              "      <td>Arrendada</td>\n",
              "      <td>Nuevo</td>\n",
              "      <td>34</td>\n",
              "      <td>1</td>\n",
              "      <td>55.00</td>\n",
              "      <td>5582000.0</td>\n",
              "      <td>23</td>\n",
              "    </tr>\n",
              "    <tr>\n",
              "      <th>2</th>\n",
              "      <td>3</td>\n",
              "      <td>COMERCIO</td>\n",
              "      <td>Mujer</td>\n",
              "      <td>Soltero/a</td>\n",
              "      <td>Arrendada</td>\n",
              "      <td>Nuevo</td>\n",
              "      <td>23</td>\n",
              "      <td>0</td>\n",
              "      <td>52.39</td>\n",
              "      <td>2300000.0</td>\n",
              "      <td>20</td>\n",
              "    </tr>\n",
              "    <tr>\n",
              "      <th>3</th>\n",
              "      <td>4</td>\n",
              "      <td>ARTESANÍAS</td>\n",
              "      <td>Hombre</td>\n",
              "      <td>Soltero/a</td>\n",
              "      <td>Familiar</td>\n",
              "      <td>Nuevo</td>\n",
              "      <td>22</td>\n",
              "      <td>0</td>\n",
              "      <td>55.20</td>\n",
              "      <td>1774000.0</td>\n",
              "      <td>16</td>\n",
              "    </tr>\n",
              "    <tr>\n",
              "      <th>4</th>\n",
              "      <td>5</td>\n",
              "      <td>SERVICIOS</td>\n",
              "      <td>Mujer</td>\n",
              "      <td>Soltero/a</td>\n",
              "      <td>Familiar</td>\n",
              "      <td>Nuevo</td>\n",
              "      <td>21</td>\n",
              "      <td>0</td>\n",
              "      <td>63.00</td>\n",
              "      <td>2000000.0</td>\n",
              "      <td>14</td>\n",
              "    </tr>\n",
              "    <tr>\n",
              "      <th>...</th>\n",
              "      <td>...</td>\n",
              "      <td>...</td>\n",
              "      <td>...</td>\n",
              "      <td>...</td>\n",
              "      <td>...</td>\n",
              "      <td>...</td>\n",
              "      <td>...</td>\n",
              "      <td>...</td>\n",
              "      <td>...</td>\n",
              "      <td>...</td>\n",
              "      <td>...</td>\n",
              "    </tr>\n",
              "    <tr>\n",
              "      <th>3995</th>\n",
              "      <td>3996</td>\n",
              "      <td>PECUARIO</td>\n",
              "      <td>Mujer</td>\n",
              "      <td>Soltero/a</td>\n",
              "      <td>Propia sin Deuda</td>\n",
              "      <td>Nuevo</td>\n",
              "      <td>36</td>\n",
              "      <td>0</td>\n",
              "      <td>48.50</td>\n",
              "      <td>5914000.0</td>\n",
              "      <td>30</td>\n",
              "    </tr>\n",
              "    <tr>\n",
              "      <th>3996</th>\n",
              "      <td>3997</td>\n",
              "      <td>SERVICIOS</td>\n",
              "      <td>Hombre</td>\n",
              "      <td>Soltero/a</td>\n",
              "      <td>Familiar</td>\n",
              "      <td>Nuevo</td>\n",
              "      <td>25</td>\n",
              "      <td>0</td>\n",
              "      <td>49.04</td>\n",
              "      <td>2120000.0</td>\n",
              "      <td>6</td>\n",
              "    </tr>\n",
              "    <tr>\n",
              "      <th>3997</th>\n",
              "      <td>3998</td>\n",
              "      <td>COMERCIO</td>\n",
              "      <td>Hombre</td>\n",
              "      <td>Soltero/a</td>\n",
              "      <td>Arrendada</td>\n",
              "      <td>Nuevo</td>\n",
              "      <td>20</td>\n",
              "      <td>0</td>\n",
              "      <td>46.80</td>\n",
              "      <td>8400000.0</td>\n",
              "      <td>24</td>\n",
              "    </tr>\n",
              "    <tr>\n",
              "      <th>3998</th>\n",
              "      <td>3999</td>\n",
              "      <td>AGRICULTURA</td>\n",
              "      <td>Hombre</td>\n",
              "      <td>Unión Libre</td>\n",
              "      <td>Arrendada</td>\n",
              "      <td>Nuevo</td>\n",
              "      <td>20</td>\n",
              "      <td>0</td>\n",
              "      <td>52.39</td>\n",
              "      <td>5480000.0</td>\n",
              "      <td>28</td>\n",
              "    </tr>\n",
              "    <tr>\n",
              "      <th>3999</th>\n",
              "      <td>4000</td>\n",
              "      <td>SERVICIOS</td>\n",
              "      <td>Hombre</td>\n",
              "      <td>Soltero/a</td>\n",
              "      <td>Familiar</td>\n",
              "      <td>Nuevo</td>\n",
              "      <td>21</td>\n",
              "      <td>0</td>\n",
              "      <td>52.39</td>\n",
              "      <td>4588240.0</td>\n",
              "      <td>24</td>\n",
              "    </tr>\n",
              "  </tbody>\n",
              "</table>\n",
              "<p>4000 rows × 11 columns</p>\n",
              "</div>\n",
              "    <div class=\"colab-df-buttons\">\n",
              "\n",
              "  <div class=\"colab-df-container\">\n",
              "    <button class=\"colab-df-convert\" onclick=\"convertToInteractive('df-d991713a-79c9-423f-ac75-606d2aec723c')\"\n",
              "            title=\"Convert this dataframe to an interactive table.\"\n",
              "            style=\"display:none;\">\n",
              "\n",
              "  <svg xmlns=\"http://www.w3.org/2000/svg\" height=\"24px\" viewBox=\"0 -960 960 960\">\n",
              "    <path d=\"M120-120v-720h720v720H120Zm60-500h600v-160H180v160Zm220 220h160v-160H400v160Zm0 220h160v-160H400v160ZM180-400h160v-160H180v160Zm440 0h160v-160H620v160ZM180-180h160v-160H180v160Zm440 0h160v-160H620v160Z\"/>\n",
              "  </svg>\n",
              "    </button>\n",
              "\n",
              "  <style>\n",
              "    .colab-df-container {\n",
              "      display:flex;\n",
              "      gap: 12px;\n",
              "    }\n",
              "\n",
              "    .colab-df-convert {\n",
              "      background-color: #E8F0FE;\n",
              "      border: none;\n",
              "      border-radius: 50%;\n",
              "      cursor: pointer;\n",
              "      display: none;\n",
              "      fill: #1967D2;\n",
              "      height: 32px;\n",
              "      padding: 0 0 0 0;\n",
              "      width: 32px;\n",
              "    }\n",
              "\n",
              "    .colab-df-convert:hover {\n",
              "      background-color: #E2EBFA;\n",
              "      box-shadow: 0px 1px 2px rgba(60, 64, 67, 0.3), 0px 1px 3px 1px rgba(60, 64, 67, 0.15);\n",
              "      fill: #174EA6;\n",
              "    }\n",
              "\n",
              "    .colab-df-buttons div {\n",
              "      margin-bottom: 4px;\n",
              "    }\n",
              "\n",
              "    [theme=dark] .colab-df-convert {\n",
              "      background-color: #3B4455;\n",
              "      fill: #D2E3FC;\n",
              "    }\n",
              "\n",
              "    [theme=dark] .colab-df-convert:hover {\n",
              "      background-color: #434B5C;\n",
              "      box-shadow: 0px 1px 3px 1px rgba(0, 0, 0, 0.15);\n",
              "      filter: drop-shadow(0px 1px 2px rgba(0, 0, 0, 0.3));\n",
              "      fill: #FFFFFF;\n",
              "    }\n",
              "  </style>\n",
              "\n",
              "    <script>\n",
              "      const buttonEl =\n",
              "        document.querySelector('#df-d991713a-79c9-423f-ac75-606d2aec723c button.colab-df-convert');\n",
              "      buttonEl.style.display =\n",
              "        google.colab.kernel.accessAllowed ? 'block' : 'none';\n",
              "\n",
              "      async function convertToInteractive(key) {\n",
              "        const element = document.querySelector('#df-d991713a-79c9-423f-ac75-606d2aec723c');\n",
              "        const dataTable =\n",
              "          await google.colab.kernel.invokeFunction('convertToInteractive',\n",
              "                                                    [key], {});\n",
              "        if (!dataTable) return;\n",
              "\n",
              "        const docLinkHtml = 'Like what you see? Visit the ' +\n",
              "          '<a target=\"_blank\" href=https://colab.research.google.com/notebooks/data_table.ipynb>data table notebook</a>'\n",
              "          + ' to learn more about interactive tables.';\n",
              "        element.innerHTML = '';\n",
              "        dataTable['output_type'] = 'display_data';\n",
              "        await google.colab.output.renderOutput(dataTable, element);\n",
              "        const docLink = document.createElement('div');\n",
              "        docLink.innerHTML = docLinkHtml;\n",
              "        element.appendChild(docLink);\n",
              "      }\n",
              "    </script>\n",
              "  </div>\n",
              "\n",
              "\n",
              "<div id=\"df-07214834-30d9-4a95-89a8-42755a597cd4\">\n",
              "  <button class=\"colab-df-quickchart\" onclick=\"quickchart('df-07214834-30d9-4a95-89a8-42755a597cd4')\"\n",
              "            title=\"Suggest charts\"\n",
              "            style=\"display:none;\">\n",
              "\n",
              "<svg xmlns=\"http://www.w3.org/2000/svg\" height=\"24px\"viewBox=\"0 0 24 24\"\n",
              "     width=\"24px\">\n",
              "    <g>\n",
              "        <path d=\"M19 3H5c-1.1 0-2 .9-2 2v14c0 1.1.9 2 2 2h14c1.1 0 2-.9 2-2V5c0-1.1-.9-2-2-2zM9 17H7v-7h2v7zm4 0h-2V7h2v10zm4 0h-2v-4h2v4z\"/>\n",
              "    </g>\n",
              "</svg>\n",
              "  </button>\n",
              "\n",
              "<style>\n",
              "  .colab-df-quickchart {\n",
              "      --bg-color: #E8F0FE;\n",
              "      --fill-color: #1967D2;\n",
              "      --hover-bg-color: #E2EBFA;\n",
              "      --hover-fill-color: #174EA6;\n",
              "      --disabled-fill-color: #AAA;\n",
              "      --disabled-bg-color: #DDD;\n",
              "  }\n",
              "\n",
              "  [theme=dark] .colab-df-quickchart {\n",
              "      --bg-color: #3B4455;\n",
              "      --fill-color: #D2E3FC;\n",
              "      --hover-bg-color: #434B5C;\n",
              "      --hover-fill-color: #FFFFFF;\n",
              "      --disabled-bg-color: #3B4455;\n",
              "      --disabled-fill-color: #666;\n",
              "  }\n",
              "\n",
              "  .colab-df-quickchart {\n",
              "    background-color: var(--bg-color);\n",
              "    border: none;\n",
              "    border-radius: 50%;\n",
              "    cursor: pointer;\n",
              "    display: none;\n",
              "    fill: var(--fill-color);\n",
              "    height: 32px;\n",
              "    padding: 0;\n",
              "    width: 32px;\n",
              "  }\n",
              "\n",
              "  .colab-df-quickchart:hover {\n",
              "    background-color: var(--hover-bg-color);\n",
              "    box-shadow: 0 1px 2px rgba(60, 64, 67, 0.3), 0 1px 3px 1px rgba(60, 64, 67, 0.15);\n",
              "    fill: var(--button-hover-fill-color);\n",
              "  }\n",
              "\n",
              "  .colab-df-quickchart-complete:disabled,\n",
              "  .colab-df-quickchart-complete:disabled:hover {\n",
              "    background-color: var(--disabled-bg-color);\n",
              "    fill: var(--disabled-fill-color);\n",
              "    box-shadow: none;\n",
              "  }\n",
              "\n",
              "  .colab-df-spinner {\n",
              "    border: 2px solid var(--fill-color);\n",
              "    border-color: transparent;\n",
              "    border-bottom-color: var(--fill-color);\n",
              "    animation:\n",
              "      spin 1s steps(1) infinite;\n",
              "  }\n",
              "\n",
              "  @keyframes spin {\n",
              "    0% {\n",
              "      border-color: transparent;\n",
              "      border-bottom-color: var(--fill-color);\n",
              "      border-left-color: var(--fill-color);\n",
              "    }\n",
              "    20% {\n",
              "      border-color: transparent;\n",
              "      border-left-color: var(--fill-color);\n",
              "      border-top-color: var(--fill-color);\n",
              "    }\n",
              "    30% {\n",
              "      border-color: transparent;\n",
              "      border-left-color: var(--fill-color);\n",
              "      border-top-color: var(--fill-color);\n",
              "      border-right-color: var(--fill-color);\n",
              "    }\n",
              "    40% {\n",
              "      border-color: transparent;\n",
              "      border-right-color: var(--fill-color);\n",
              "      border-top-color: var(--fill-color);\n",
              "    }\n",
              "    60% {\n",
              "      border-color: transparent;\n",
              "      border-right-color: var(--fill-color);\n",
              "    }\n",
              "    80% {\n",
              "      border-color: transparent;\n",
              "      border-right-color: var(--fill-color);\n",
              "      border-bottom-color: var(--fill-color);\n",
              "    }\n",
              "    90% {\n",
              "      border-color: transparent;\n",
              "      border-bottom-color: var(--fill-color);\n",
              "    }\n",
              "  }\n",
              "</style>\n",
              "\n",
              "  <script>\n",
              "    async function quickchart(key) {\n",
              "      const quickchartButtonEl =\n",
              "        document.querySelector('#' + key + ' button');\n",
              "      quickchartButtonEl.disabled = true;  // To prevent multiple clicks.\n",
              "      quickchartButtonEl.classList.add('colab-df-spinner');\n",
              "      try {\n",
              "        const charts = await google.colab.kernel.invokeFunction(\n",
              "            'suggestCharts', [key], {});\n",
              "      } catch (error) {\n",
              "        console.error('Error during call to suggestCharts:', error);\n",
              "      }\n",
              "      quickchartButtonEl.classList.remove('colab-df-spinner');\n",
              "      quickchartButtonEl.classList.add('colab-df-quickchart-complete');\n",
              "    }\n",
              "    (() => {\n",
              "      let quickchartButtonEl =\n",
              "        document.querySelector('#df-07214834-30d9-4a95-89a8-42755a597cd4 button');\n",
              "      quickchartButtonEl.style.display =\n",
              "        google.colab.kernel.accessAllowed ? 'block' : 'none';\n",
              "    })();\n",
              "  </script>\n",
              "</div>\n",
              "\n",
              "  <div id=\"id_2bdb63c7-012f-4d40-b012-776487d8306a\">\n",
              "    <style>\n",
              "      .colab-df-generate {\n",
              "        background-color: #E8F0FE;\n",
              "        border: none;\n",
              "        border-radius: 50%;\n",
              "        cursor: pointer;\n",
              "        display: none;\n",
              "        fill: #1967D2;\n",
              "        height: 32px;\n",
              "        padding: 0 0 0 0;\n",
              "        width: 32px;\n",
              "      }\n",
              "\n",
              "      .colab-df-generate:hover {\n",
              "        background-color: #E2EBFA;\n",
              "        box-shadow: 0px 1px 2px rgba(60, 64, 67, 0.3), 0px 1px 3px 1px rgba(60, 64, 67, 0.15);\n",
              "        fill: #174EA6;\n",
              "      }\n",
              "\n",
              "      [theme=dark] .colab-df-generate {\n",
              "        background-color: #3B4455;\n",
              "        fill: #D2E3FC;\n",
              "      }\n",
              "\n",
              "      [theme=dark] .colab-df-generate:hover {\n",
              "        background-color: #434B5C;\n",
              "        box-shadow: 0px 1px 3px 1px rgba(0, 0, 0, 0.15);\n",
              "        filter: drop-shadow(0px 1px 2px rgba(0, 0, 0, 0.3));\n",
              "        fill: #FFFFFF;\n",
              "      }\n",
              "    </style>\n",
              "    <button class=\"colab-df-generate\" onclick=\"generateWithVariable('dataset')\"\n",
              "            title=\"Generate code using this dataframe.\"\n",
              "            style=\"display:none;\">\n",
              "\n",
              "  <svg xmlns=\"http://www.w3.org/2000/svg\" height=\"24px\"viewBox=\"0 0 24 24\"\n",
              "       width=\"24px\">\n",
              "    <path d=\"M7,19H8.4L18.45,9,17,7.55,7,17.6ZM5,21V16.75L18.45,3.32a2,2,0,0,1,2.83,0l1.4,1.43a1.91,1.91,0,0,1,.58,1.4,1.91,1.91,0,0,1-.58,1.4L9.25,21ZM18.45,9,17,7.55Zm-12,3A5.31,5.31,0,0,0,4.9,8.1,5.31,5.31,0,0,0,1,6.5,5.31,5.31,0,0,0,4.9,4.9,5.31,5.31,0,0,0,6.5,1,5.31,5.31,0,0,0,8.1,4.9,5.31,5.31,0,0,0,12,6.5,5.46,5.46,0,0,0,6.5,12Z\"/>\n",
              "  </svg>\n",
              "    </button>\n",
              "    <script>\n",
              "      (() => {\n",
              "      const buttonEl =\n",
              "        document.querySelector('#id_2bdb63c7-012f-4d40-b012-776487d8306a button.colab-df-generate');\n",
              "      buttonEl.style.display =\n",
              "        google.colab.kernel.accessAllowed ? 'block' : 'none';\n",
              "\n",
              "      buttonEl.onclick = () => {\n",
              "        google.colab.notebook.generateWithVariable('dataset');\n",
              "      }\n",
              "      })();\n",
              "    </script>\n",
              "  </div>\n",
              "\n",
              "    </div>\n",
              "  </div>\n"
            ],
            "application/vnd.google.colaboratory.intrinsic+json": {
              "type": "dataframe",
              "variable_name": "dataset",
              "summary": "{\n  \"name\": \"dataset\",\n  \"rows\": 4000,\n  \"fields\": [\n    {\n      \"column\": \"ID\",\n      \"properties\": {\n        \"dtype\": \"number\",\n        \"std\": 1154,\n        \"min\": 1,\n        \"max\": 4000,\n        \"num_unique_values\": 4000,\n        \"samples\": [\n          556,\n          3492,\n          528\n        ],\n        \"semantic_type\": \"\",\n        \"description\": \"\"\n      }\n    },\n    {\n      \"column\": \"Sector_Actividad\",\n      \"properties\": {\n        \"dtype\": \"category\",\n        \"num_unique_values\": 13,\n        \"samples\": [\n          \"MADERA\",\n          \"CUEROS\",\n          \"COMERCIO\"\n        ],\n        \"semantic_type\": \"\",\n        \"description\": \"\"\n      }\n    },\n    {\n      \"column\": \"Sexo\",\n      \"properties\": {\n        \"dtype\": \"category\",\n        \"num_unique_values\": 2,\n        \"samples\": [\n          \"Hombre\",\n          \"Mujer\"\n        ],\n        \"semantic_type\": \"\",\n        \"description\": \"\"\n      }\n    },\n    {\n      \"column\": \"Estado_Civil\",\n      \"properties\": {\n        \"dtype\": \"category\",\n        \"num_unique_values\": 5,\n        \"samples\": [\n          \"Casado/a\",\n          \"Separado/a\"\n        ],\n        \"semantic_type\": \"\",\n        \"description\": \"\"\n      }\n    },\n    {\n      \"column\": \"Tipo_Vivienda\",\n      \"properties\": {\n        \"dtype\": \"category\",\n        \"num_unique_values\": 5,\n        \"samples\": [\n          \"Familiar\",\n          \"Anticresis\"\n        ],\n        \"semantic_type\": \"\",\n        \"description\": \"\"\n      }\n    },\n    {\n      \"column\": \"Tipo_cliente\",\n      \"properties\": {\n        \"dtype\": \"category\",\n        \"num_unique_values\": 2,\n        \"samples\": [\n          \"Preferencial\",\n          \"Nuevo\"\n        ],\n        \"semantic_type\": \"\",\n        \"description\": \"\"\n      }\n    },\n    {\n      \"column\": \"Edad\",\n      \"properties\": {\n        \"dtype\": \"number\",\n        \"std\": 4,\n        \"min\": 18,\n        \"max\": 65,\n        \"num_unique_values\": 37,\n        \"samples\": [\n          44,\n          65\n        ],\n        \"semantic_type\": \"\",\n        \"description\": \"\"\n      }\n    },\n    {\n      \"column\": \"Personas_a_Cargo\",\n      \"properties\": {\n        \"dtype\": \"number\",\n        \"std\": 0,\n        \"min\": 0,\n        \"max\": 5,\n        \"num_unique_values\": 6,\n        \"samples\": [\n          0,\n          1\n        ],\n        \"semantic_type\": \"\",\n        \"description\": \"\"\n      }\n    },\n    {\n      \"column\": \"Tasa\",\n      \"properties\": {\n        \"dtype\": \"number\",\n        \"std\": 6.1281226151971655,\n        \"min\": 20.0,\n        \"max\": 63.0,\n        \"num_unique_values\": 100,\n        \"samples\": [\n          29.5,\n          48.3\n        ],\n        \"semantic_type\": \"\",\n        \"description\": \"\"\n      }\n    },\n    {\n      \"column\": \"Monto\",\n      \"properties\": {\n        \"dtype\": \"number\",\n        \"std\": 3217575.980016922,\n        \"min\": 500000.0,\n        \"max\": 60000000.0,\n        \"num_unique_values\": 1575,\n        \"samples\": [\n          1930960.0,\n          4149200.0\n        ],\n        \"semantic_type\": \"\",\n        \"description\": \"\"\n      }\n    },\n    {\n      \"column\": \"Plazo_Meses\",\n      \"properties\": {\n        \"dtype\": \"number\",\n        \"std\": 6,\n        \"min\": 6,\n        \"max\": 48,\n        \"num_unique_values\": 39,\n        \"samples\": [\n          37,\n          41\n        ],\n        \"semantic_type\": \"\",\n        \"description\": \"\"\n      }\n    }\n  ]\n}"
            }
          },
          "metadata": {},
          "execution_count": 7
        }
      ]
    },
    {
      "cell_type": "code",
      "source": [
        "# Revisar tipos de datos\n",
        "print(dataset.dtypes)\n"
      ],
      "metadata": {
        "colab": {
          "base_uri": "https://localhost:8080/"
        },
        "id": "p4ygQzLFl8LE",
        "outputId": "bdffa2fe-0663-4987-a134-52f1d544920f"
      },
      "execution_count": 8,
      "outputs": [
        {
          "output_type": "stream",
          "name": "stdout",
          "text": [
            "ID                    int64\n",
            "Sector_Actividad     object\n",
            "Sexo                 object\n",
            "Estado_Civil         object\n",
            "Tipo_Vivienda        object\n",
            "Tipo_cliente         object\n",
            "Edad                  int64\n",
            "Personas_a_Cargo      int64\n",
            "Tasa                float64\n",
            "Monto               float64\n",
            "Plazo_Meses           int64\n",
            "dtype: object\n"
          ]
        }
      ]
    },
    {
      "cell_type": "code",
      "source": [
        "# Convertir el DataFrame de pandas a una lista de diccionarios\n",
        "data_list = dataset.to_dict(orient='records')"
      ],
      "metadata": {
        "id": "y1aAYvfBmBPd"
      },
      "execution_count": 9,
      "outputs": []
    },
    {
      "cell_type": "markdown",
      "source": [
        "### Crear esquema para pyspark"
      ],
      "metadata": {
        "id": "v1JX9zuCmI6s"
      }
    },
    {
      "cell_type": "code",
      "source": [
        "# Definir el esquema\n",
        "schema = StructType([\n",
        "    StructField(\"ID\", IntegerType(), True),                     # Identificador único (entero)\n",
        "    StructField(\"Sector_Actividad\", StringType(), True),        # Sector de actividad (texto)\n",
        "    StructField(\"Sexo\", StringType(), True),                    # Sexo (texto: Mujer/Hombre)\n",
        "    StructField(\"Estado_Civil\", StringType(), True),            # Estado civil (texto: Unión Libre, Casado/a, etc.)\n",
        "    StructField(\"Tipo_Vivienda\", StringType(), True),           # Tipo de vivienda (texto: Arrendada, Familiar, etc.)\n",
        "    StructField(\"Tipo_cliente\", StringType(), True),            # Tipo de cliente (texto: Nuevo, etc.)\n",
        "    StructField(\"Edad\", IntegerType(), True),                   # Edad (entero)\n",
        "    StructField(\"Personas_a_Cargo\", IntegerType(), True),       # Personas a cargo (entero)\n",
        "    StructField(\"Tasa\", FloatType(), True),                     # Tasa de interés (decimal con coma o punto)\n",
        "    StructField(\"Monto\", FloatType(), True),                    # Monto (decimal)\n",
        "    StructField(\"Plazo_Meses\", IntegerType(), True)             # Plazo en meses (entero)\n",
        "])"
      ],
      "metadata": {
        "id": "qURefE3QmOaE"
      },
      "execution_count": 10,
      "outputs": []
    },
    {
      "cell_type": "markdown",
      "source": [
        "# **2. Profiling**"
      ],
      "metadata": {
        "id": "DA4BWhUGe5vz"
      }
    },
    {
      "cell_type": "code",
      "source": [
        "classpath = \":\".join(sagemaker_pyspark.classpath_jars()) # aws-specific jars\n",
        "\n",
        "spark = (SparkSession\n",
        "    .builder\n",
        "    .config(\"spark.driver.extraClassPath\", classpath)\n",
        "    .config(\"spark.jars.packages\", pydeequ.deequ_maven_coord)\n",
        "    .config(\"spark.jars.excludes\", pydeequ.f2j_maven_coord)\n",
        "    .getOrCreate())"
      ],
      "metadata": {
        "id": "ofYyXjDKMrDa"
      },
      "execution_count": 11,
      "outputs": []
    },
    {
      "cell_type": "code",
      "source": [
        "# Crear el DataFrame de PySpark desde la lista de datos y el esquema\n",
        "spark_df = spark.createDataFrame(data_list, schema)"
      ],
      "metadata": {
        "id": "3qgiJtm7ougc"
      },
      "execution_count": 12,
      "outputs": []
    },
    {
      "cell_type": "code",
      "source": [
        "# Mostrar las primeras filas del DataFrame de PySpark\n",
        "spark_df.show(5)"
      ],
      "metadata": {
        "colab": {
          "base_uri": "https://localhost:8080/"
        },
        "id": "lyg9Bit6oyqs",
        "outputId": "605579c2-21a8-4cb0-f237-fe0f7578d48e"
      },
      "execution_count": 13,
      "outputs": [
        {
          "output_type": "stream",
          "name": "stdout",
          "text": [
            "+---+----------------+------+------------+-------------+------------+----+----------------+-----+---------+-----------+\n",
            "| ID|Sector_Actividad|  Sexo|Estado_Civil|Tipo_Vivienda|Tipo_cliente|Edad|Personas_a_Cargo| Tasa|    Monto|Plazo_Meses|\n",
            "+---+----------------+------+------------+-------------+------------+----+----------------+-----+---------+-----------+\n",
            "|  1|        COMERCIO| Mujer| Unión Libre|    Arrendada|       Nuevo|  24|               0|52.89|2400000.0|         12|\n",
            "|  2|     AGRICULTURA| Mujer|    Casado/a|    Arrendada|       Nuevo|  34|               1| 55.0|5582000.0|         23|\n",
            "|  3|        COMERCIO| Mujer|   Soltero/a|    Arrendada|       Nuevo|  23|               0|52.39|2300000.0|         20|\n",
            "|  4|      ARTESANÍAS|Hombre|   Soltero/a|     Familiar|       Nuevo|  22|               0| 55.2|1774000.0|         16|\n",
            "|  5|       SERVICIOS| Mujer|   Soltero/a|     Familiar|       Nuevo|  21|               0| 63.0|2000000.0|         14|\n",
            "+---+----------------+------+------------+-------------+------------+----+----------------+-----+---------+-----------+\n",
            "only showing top 5 rows\n",
            "\n"
          ]
        }
      ]
    },
    {
      "cell_type": "markdown",
      "source": [
        "### Revisando la completitud y tipos de datos del dataset"
      ],
      "metadata": {
        "id": "ZzXQTouPYJOO"
      }
    },
    {
      "cell_type": "code",
      "source": [
        "# Ejecutar el perfilador de columnas\n",
        "result = ColumnProfilerRunner(spark) \\\n",
        "    .onData(spark_df) \\\n",
        "    .run()\n",
        "\n",
        "# Mostrar estadísticas de todas las columnas excepto 'ID'\n",
        "for col, profile in result.profiles.items():\n",
        "    if col != \"ID\":  # Excluir la columna 'ID'\n",
        "        print(f'Columna: \\'{col}\\'')\n",
        "        print('\\t', f'Completitud: {profile.completeness}')  # Proporción de valores no nulos\n",
        "        print('\\t', f'Número aproximado de valores únicos: {profile.approximateNumDistinctValues}')\n",
        "        print('\\t', f'Tipo de dato: {profile.dataType}')\n",
        "        print()  # Línea en blanco para separar columnas\n"
      ],
      "metadata": {
        "colab": {
          "base_uri": "https://localhost:8080/"
        },
        "id": "UCyfQzD3U-cX",
        "outputId": "253ba6e4-9f1b-4539-b306-ccce8b015d2f"
      },
      "execution_count": 14,
      "outputs": [
        {
          "output_type": "stream",
          "name": "stdout",
          "text": [
            "Columna: 'Sector_Actividad'\n",
            "\t Completitud: 1.0\n",
            "\t Número aproximado de valores únicos: 13\n",
            "\t Tipo de dato: String\n",
            "\n",
            "Columna: 'Edad'\n",
            "\t Completitud: 1.0\n",
            "\t Número aproximado de valores únicos: 37\n",
            "\t Tipo de dato: Integral\n",
            "\n",
            "Columna: 'Tipo_Vivienda'\n",
            "\t Completitud: 1.0\n",
            "\t Número aproximado de valores únicos: 5\n",
            "\t Tipo de dato: String\n",
            "\n",
            "Columna: 'Monto'\n",
            "\t Completitud: 1.0\n",
            "\t Número aproximado de valores únicos: 1543\n",
            "\t Tipo de dato: Fractional\n",
            "\n",
            "Columna: 'Personas_a_Cargo'\n",
            "\t Completitud: 1.0\n",
            "\t Número aproximado de valores únicos: 6\n",
            "\t Tipo de dato: Integral\n",
            "\n",
            "Columna: 'Sexo'\n",
            "\t Completitud: 1.0\n",
            "\t Número aproximado de valores únicos: 2\n",
            "\t Tipo de dato: String\n",
            "\n",
            "Columna: 'Tasa'\n",
            "\t Completitud: 1.0\n",
            "\t Número aproximado de valores únicos: 104\n",
            "\t Tipo de dato: Fractional\n",
            "\n",
            "Columna: 'Estado_Civil'\n",
            "\t Completitud: 1.0\n",
            "\t Número aproximado de valores únicos: 5\n",
            "\t Tipo de dato: String\n",
            "\n",
            "Columna: 'Tipo_cliente'\n",
            "\t Completitud: 1.0\n",
            "\t Número aproximado de valores únicos: 2\n",
            "\t Tipo de dato: String\n",
            "\n",
            "Columna: 'Plazo_Meses'\n",
            "\t Completitud: 1.0\n",
            "\t Número aproximado de valores únicos: 39\n",
            "\t Tipo de dato: Integral\n",
            "\n"
          ]
        }
      ]
    },
    {
      "cell_type": "markdown",
      "source": [
        "El dataset tien data completa, la mayor cantidad de valores únicos se encuentran en la variable \"monto\" del crédito y la de menores valores únicos es la de \"Tipo_cliente\""
      ],
      "metadata": {
        "id": "9nSab8oTiJ78"
      }
    },
    {
      "cell_type": "markdown",
      "source": [
        "### Estadísticas básicas de las columnas tipo numéricas"
      ],
      "metadata": {
        "id": "xDIhrirQXuil"
      }
    },
    {
      "cell_type": "code",
      "source": [
        "# Crear un DataFrame temporal con columnas numéricas para graficar\n",
        "numeric_columns = {}\n",
        "\n",
        "# Iterar sobre todas las columnas con perfiles generados por PyDeequ\n",
        "for col, profile in result.profiles.items():\n",
        "    # Verificar si el tipo de dato es numérico y no es la columna ID\n",
        "    if col != \"ID\" and (profile.dataType == \"Integral\" or profile.dataType == \"Fractional\"):\n",
        "        print(f'Estadísticas \\'{col}\\':')\n",
        "        print('\\t', f\"Mínimo: {profile.minimum}\")\n",
        "        print('\\t', f\"Máximo: {profile.maximum}\")\n",
        "        print('\\t', f\"Media: {profile.mean}\")\n",
        "        print('\\t', f\"Desviación estandar: {profile.stdDev}\")\n",
        "        print()  # Línea en blanco para separar columnas\n",
        "        # Agregar los valores de la columna al diccionario\n",
        "        numeric_columns[col] = spark_df.select(col).rdd.flatMap(lambda x: x).collect()\n"
      ],
      "metadata": {
        "colab": {
          "base_uri": "https://localhost:8080/"
        },
        "id": "9recZjISVxKh",
        "outputId": "2a64a502-e4a2-4f47-d8a8-e8aeaca904c6"
      },
      "execution_count": 15,
      "outputs": [
        {
          "output_type": "stream",
          "name": "stdout",
          "text": [
            "Estadísticas 'Edad':\n",
            "\t Mínimo: 18.0\n",
            "\t Máximo: 65.0\n",
            "\t Media: 23.87525\n",
            "\t Desviación estandar: 4.7894871789681215\n",
            "\n",
            "Estadísticas 'Monto':\n",
            "\t Mínimo: 500000.0\n",
            "\t Máximo: 60000000.0\n",
            "\t Media: 3489418.47978125\n",
            "\t Desviación estandar: 3217173.757889141\n",
            "\n",
            "Estadísticas 'Personas_a_Cargo':\n",
            "\t Mínimo: 0.0\n",
            "\t Máximo: 5.0\n",
            "\t Media: 0.49025\n",
            "\t Desviación estandar: 0.7732431296170694\n",
            "\n",
            "Estadísticas 'Tasa':\n",
            "\t Mínimo: 20.0\n",
            "\t Máximo: 63.0\n",
            "\t Media: 51.46771736431122\n",
            "\t Desviación estandar: 6.127356578577153\n",
            "\n",
            "Estadísticas 'Plazo_Meses':\n",
            "\t Mínimo: 6.0\n",
            "\t Máximo: 48.0\n",
            "\t Media: 16.63375\n",
            "\t Desviación estandar: 6.544739180250047\n",
            "\n"
          ]
        }
      ]
    },
    {
      "cell_type": "code",
      "source": [
        "# Convertir a DataFrame de pandas para graficar\n",
        "numeric_df = pd.DataFrame(numeric_columns)\n",
        "\n",
        "# Determinar el número total de columnas y filas necesarias\n",
        "columns_per_row = 2\n",
        "num_columns = len(numeric_df.columns)\n",
        "num_rows = math.ceil(num_columns / columns_per_row)\n",
        "\n",
        "# Crear la figura y los ejes\n",
        "fig, axes = plt.subplots(num_rows, columns_per_row, figsize=(14, 5 * num_rows))\n",
        "axes = axes.flatten()  # Aplanar para iterar fácilmente si es necesario\n",
        "\n",
        "# Graficar cada columna numérica\n",
        "for idx, column in enumerate(numeric_df.columns):\n",
        "    axes[idx].boxplot(numeric_df[column], vert=True, patch_artist=True, boxprops=dict(facecolor=\"skyblue\"))\n",
        "    axes[idx].set_title(f\"Diagrama de Caja y Bigotes: {column}\")\n",
        "    axes[idx].set_ylabel(\"Valores\")\n",
        "    axes[idx].set_xlabel(column)\n",
        "    axes[idx].grid(True)\n",
        "\n",
        "# Ocultar ejes no usados (si hay un número impar de columnas)\n",
        "for idx in range(num_columns, len(axes)):\n",
        "    fig.delaxes(axes[idx])\n",
        "\n",
        "# Ajustar diseño y mostrar la gráfica\n",
        "plt.tight_layout()\n",
        "plt.show()\n",
        "\n"
      ],
      "metadata": {
        "colab": {
          "base_uri": "https://localhost:8080/",
          "height": 1000
        },
        "id": "WT3Xd-EnY1Yx",
        "outputId": "a6f85bca-ecf2-4f4c-b1d0-3ee85dd8cdd4"
      },
      "execution_count": 16,
      "outputs": [
        {
          "output_type": "display_data",
          "data": {
            "text/plain": [
              "<Figure size 1400x1500 with 5 Axes>"
            ],
            "image/png": "[encoded data removed]"
          },
          "metadata": {}
        }
      ]
    },
    {
      "cell_type": "markdown",
      "source": [
        "*Conclusiones:*\n",
        "1. La población objetivo parece ser principalmente joven. Los valores atípicos podrían corresponder a clientes mayores con características inusuales para este perfil.\n",
        "\n",
        "2. La mayoría de los clientes solicitan montos pequeños o moderados, pero hay un pequeño grupo que representa préstamos significativamente altos, lo que podría ser un segmento distinto (como empresas o clientes preferenciales).\n",
        "\n",
        "3. La base de clientes incluye personas independientes o con pocas responsabilidades familiares, pero hay excepciones de clientes con muchas personas dependientes.\n",
        "\n",
        "4. La mayoría de los clientes reciben tasas estándar, pero las tasas fuera de este rango podrían reflejar condiciones excepcionales (descuentos especiales o riesgos elevados).\n",
        "\n",
        "5. Los préstamos a corto y mediano plazo parecen ser los más comunes, mientras que los plazos extendidos son excepcionales y podrían ser casos especiales o asociados con montos más altos."
      ],
      "metadata": {
        "id": "YVt602nBmtys"
      }
    },
    {
      "cell_type": "markdown",
      "source": [
        "### Estadísticas básicas de las columnas tipo string"
      ],
      "metadata": {
        "id": "txVCclh2YfSW"
      }
    },
    {
      "cell_type": "code",
      "source": [
        "# Identificar las columnas de tipo string en el esquema\n",
        "string_columns = [field.name for field in spark_df.schema.fields if isinstance(field.dataType, StringType)]\n",
        "\n",
        "# Iterar sobre las columnas categóricas y generar gráficos\n",
        "for col in string_columns:\n",
        "    # Obtener el perfil de la columna\n",
        "    column_profile = result.profiles[col]\n",
        "\n",
        "    # Crear listas para valores únicos y sus frecuencias\n",
        "    values = [unique_entry.value for unique_entry in column_profile.histogram]\n",
        "    counts = [unique_entry.count for unique_entry in column_profile.histogram]\n",
        "\n",
        "    # Imprimir la distribución en texto\n",
        "    print()\n",
        "    print(f\"Valores distribuidos en la columna '{col}':\")\n",
        "    for value, count in zip(values, counts):\n",
        "        print(f\" - {value}: ocurre {count} veces\")\n"
      ],
      "metadata": {
        "colab": {
          "base_uri": "https://localhost:8080/"
        },
        "id": "oyzcD-tVjlUs",
        "outputId": "e293161d-d876-485f-fdd6-aaa273eb392b"
      },
      "execution_count": 17,
      "outputs": [
        {
          "output_type": "stream",
          "name": "stdout",
          "text": [
            "\n",
            "Valores distribuidos en la columna 'Sector_Actividad':\n",
            " - SERVICIOS: ocurre 885 veces\n",
            " - ACTIVIDADES DEPENDIENTES: ocurre 444 veces\n",
            " - PESCA: ocurre 4 veces\n",
            " - AGRICULTURA: ocurre 1172 veces\n",
            " - ARTESANÍAS: ocurre 18 veces\n",
            " - CUEROS: ocurre 7 veces\n",
            " - MADERA: ocurre 17 veces\n",
            " - PECUARIO: ocurre 484 veces\n",
            " - INDUSTRIA: ocurre 76 veces\n",
            " - AGROINDUSTRIA: ocurre 72 veces\n",
            " - COMERCIO: ocurre 781 veces\n",
            " - CONFECCIONES: ocurre 35 veces\n",
            " - ALFARERÍA: ocurre 5 veces\n",
            "\n",
            "Valores distribuidos en la columna 'Sexo':\n",
            " - Mujer: ocurre 1859 veces\n",
            " - Hombre: ocurre 2141 veces\n",
            "\n",
            "Valores distribuidos en la columna 'Estado_Civil':\n",
            " - Soltero/a: ocurre 2570 veces\n",
            " - Viudo/a: ocurre 8 veces\n",
            " - Casado/a: ocurre 155 veces\n",
            " - Unión Libre: ocurre 1208 veces\n",
            " - Separado/a: ocurre 59 veces\n",
            "\n",
            "Valores distribuidos en la columna 'Tipo_Vivienda':\n",
            " - Propia sin Deuda: ocurre 571 veces\n",
            " - Arrendada: ocurre 1000 veces\n",
            " - Familiar: ocurre 2192 veces\n",
            " - Anticresis: ocurre 2 veces\n",
            " - Propia con Deuda: ocurre 235 veces\n",
            "\n",
            "Valores distribuidos en la columna 'Tipo_cliente':\n",
            " - Nuevo: ocurre 3902 veces\n",
            " - Preferencial: ocurre 98 veces\n"
          ]
        }
      ]
    },
    {
      "cell_type": "code",
      "source": [
        "# Configuración para gráficos en filas de 2 columnas\n",
        "num_cols = 2\n",
        "num_rows = (len(string_columns) + 1) // num_cols  # Calcular el número de filas necesarias\n",
        "\n",
        "# Crear el canvas para todos los gráficos\n",
        "fig, axes = plt.subplots(num_rows, num_cols, figsize=(14, 6 * num_rows))\n",
        "axes = axes.flatten()  # Aplanar para iterar fácilmente si hay varias filas\n",
        "\n",
        "# Iterar sobre las columnas categóricas y generar gráficos\n",
        "for idx, col in enumerate(string_columns):\n",
        "    # Obtener el perfil de la columna\n",
        "    column_profile = result.profiles[col]\n",
        "\n",
        "    # Crear listas para valores únicos y sus frecuencias\n",
        "    values = [unique_entry.value for unique_entry in column_profile.histogram]\n",
        "    counts = [unique_entry.count for unique_entry in column_profile.histogram]\n",
        "    total = sum(counts)\n",
        "\n",
        "    # Calcular porcentajes\n",
        "    percentages = [(count / total) * 100 for count in counts]\n",
        "\n",
        "    # Ordenar por porcentaje de mayor a menor\n",
        "    sorted_data = sorted(zip(percentages, counts, values), reverse=True, key=lambda x: x[0])\n",
        "    percentages, counts, values = zip(*sorted_data)\n",
        "\n",
        "    # Generar el gráfico de barras horizontal\n",
        "    ax = axes[idx]\n",
        "    bars = ax.barh(values, counts, color='skyblue')\n",
        "\n",
        "    # Agregar etiquetas con porcentajes en las barras\n",
        "    for bar, pct in zip(bars, percentages):\n",
        "        ax.text(bar.get_width() + 0.5, bar.get_y() + bar.get_height() / 2,\n",
        "                f'{pct:.1f}%', va='center', fontsize=10)\n",
        "\n",
        "    # Configuración del gráfico\n",
        "    ax.set_xlabel('Frecuencia')\n",
        "    ax.set_ylabel(col)\n",
        "    ax.set_title(f'Distribución por {col}')\n",
        "    ax.invert_yaxis()  # Invertir eje Y para mejor visualización\n",
        "\n",
        "# Ocultar ejes vacíos si no hay suficientes columnas\n",
        "for idx in range(len(string_columns), len(axes)):\n",
        "    fig.delaxes(axes[idx])\n",
        "\n",
        "# Ajustar diseño y mostrar gráficos\n",
        "plt.tight_layout()\n",
        "plt.show()\n"
      ],
      "metadata": {
        "colab": {
          "base_uri": "https://localhost:8080/",
          "height": 1000
        },
        "id": "iNfLpZW5kGZk",
        "outputId": "b7367030-e114-4ce1-a738-fc6140ba2985"
      },
      "execution_count": 18,
      "outputs": [
        {
          "output_type": "display_data",
          "data": {
            "text/plain": [
              "<Figure size 1400x1800 with 5 Axes>"
            ],
            "image/png": "[encoded data removed]"
          },
          "metadata": {}
        }
      ]
    },
    {
      "cell_type": "markdown",
      "source": [
        "*Conclusiones:*\n",
        "\n",
        "1. Las actividades económicas están dominadas por sectores tradicionales como agricultura, servicios y comercio, lo cual refleja un enfoque económico basado en actividades básicas.\n",
        "\n",
        "2. Existe una participación equitativa de géneros con una ligera inclinación hacia hombres.\n",
        "\n",
        "3. La población de clientes parece estar dominada por personas jóvenes o no casadas, lo que podría ser indicativo del mercado objetivo.\n",
        "\n",
        "4. La mayoría de los clientes parecen depender de viviendas familiares o arriendos, reflejando un nivel de estabilidad económica moderado.\n",
        "\n",
        "5. La entidad parece estar enfocada en la adquisición de nuevos clientes, mientras que la fidelización de clientes preferenciales es mínima."
      ],
      "metadata": {
        "id": "V6Pfue7mmA_j"
      }
    },
    {
      "cell_type": "markdown",
      "source": [
        "# **3. Analyzers**"
      ],
      "metadata": {
        "id": "IQGuzKcyfEJ6"
      }
    },
    {
      "cell_type": "code",
      "source": [
        "# Crear la sesión de Spark\n",
        "spark = (SparkSession.builder\n",
        "    .appName(\"PyDeequ Analyzers\")\n",
        "    .config(\"spark.driver.extraClassPath\", \":\".join([\"path/to/pydeequ\", \"path/to/other/jars\"]))  # Ajusta el classpath según tu entorno\n",
        "    .getOrCreate())"
      ],
      "metadata": {
        "id": "dCEtZUilfI6D"
      },
      "execution_count": 19,
      "outputs": []
    },
    {
      "cell_type": "code",
      "source": [
        "# Excluir la columna 'ID'\n",
        "columns_to_analyze = [col for col in spark_df.columns if col != \"ID\"]\n",
        "\n",
        "# Configurar el análisis dinámico para las columnas\n",
        "analysis = AnalysisRunner(spark).onData(spark_df)\n",
        "\n",
        "# Agregar analizadores dinámicamente\n",
        "for column in columns_to_analyze:\n",
        "    analysis = analysis.addAnalyzer(Completeness(column))  # Completitud\n",
        "    if spark_df.schema[column].dataType in (IntegerType(), FloatType()):  # Solo para columnas numéricas\n",
        "        analysis = analysis.addAnalyzer(Mean(column))  # Media\n",
        "        analysis = analysis.addAnalyzer(ApproxCountDistinct(column))  # Conteo único aproximado\n",
        "\n",
        "# Ejecutar el análisis\n",
        "analysisResult = analysis.run()\n",
        "\n",
        "# Convertir los resultados a un DataFrame de PySpark\n",
        "analysisResult_df = AnalyzerContext.successMetricsAsDataFrame(spark, analysisResult)\n",
        "\n",
        "# Mostrar los resultados\n",
        "analysisResult_df.show()\n",
        "\n"
      ],
      "metadata": {
        "colab": {
          "base_uri": "https://localhost:8080/"
        },
        "id": "1KR3MF7ehDJv",
        "outputId": "44a46566-6137-494e-ee46-09221d23ebc5"
      },
      "execution_count": 20,
      "outputs": [
        {
          "output_type": "stream",
          "name": "stdout",
          "text": [
            "+------+----------------+-------------------+-----------------+\n",
            "|entity|        instance|               name|            value|\n",
            "+------+----------------+-------------------+-----------------+\n",
            "|Column|           Monto|       Completeness|              1.0|\n",
            "|Column|            Edad|       Completeness|              1.0|\n",
            "|Column|    Tipo_cliente|       Completeness|              1.0|\n",
            "|Column|   Tipo_Vivienda|       Completeness|              1.0|\n",
            "|Column|            Sexo|       Completeness|              1.0|\n",
            "|Column|            Tasa|               Mean|51.46771736431122|\n",
            "|Column|            Tasa|ApproxCountDistinct|            104.0|\n",
            "|Column|            Tasa|       Completeness|              1.0|\n",
            "|Column|            Edad|               Mean|         23.87525|\n",
            "|Column|            Edad|ApproxCountDistinct|             37.0|\n",
            "|Column|     Plazo_Meses|               Mean|         16.63375|\n",
            "|Column|     Plazo_Meses|ApproxCountDistinct|             39.0|\n",
            "|Column|    Estado_Civil|       Completeness|              1.0|\n",
            "|Column|           Monto|               Mean| 3489418.47978125|\n",
            "|Column|           Monto|ApproxCountDistinct|           1543.0|\n",
            "|Column|Sector_Actividad|       Completeness|              1.0|\n",
            "|Column|     Plazo_Meses|       Completeness|              1.0|\n",
            "|Column|Personas_a_Cargo|               Mean|          0.49025|\n",
            "|Column|Personas_a_Cargo|ApproxCountDistinct|              6.0|\n",
            "|Column|Personas_a_Cargo|       Completeness|              1.0|\n",
            "+------+----------------+-------------------+-----------------+\n",
            "\n"
          ]
        },
        {
          "output_type": "stream",
          "name": "stderr",
          "text": [
            "/usr/local/lib/python3.10/dist-packages/pyspark/sql/dataframe.py:127: UserWarning: DataFrame constructor is internal. Do not directly use it.\n",
            "  warnings.warn(\"DataFrame constructor is internal. Do not directly use it.\")\n"
          ]
        }
      ]
    },
    {
      "cell_type": "code",
      "source": [
        "# Convertir los resultados a un DataFrame de pandas\n",
        "analysisResult_pandas_df = AnalyzerContext.successMetricsAsDataFrame(spark, analysisResult, pandas=True)\n",
        "\n",
        "# Mostrar los resultados en pandas\n",
        "analysisResult_pandas_df\n"
      ],
      "metadata": {
        "colab": {
          "base_uri": "https://localhost:8080/",
          "height": 677
        },
        "id": "uEhgv3zZhrfg",
        "outputId": "5ce137d5-16e5-46cd-ad77-f89ed7ba3dcb"
      },
      "execution_count": 21,
      "outputs": [
        {
          "output_type": "execute_result",
          "data": {
            "text/plain": [
              "    entity          instance                 name         value\n",
              "0   Column             Monto         Completeness  1.000000e+00\n",
              "1   Column              Edad         Completeness  1.000000e+00\n",
              "2   Column      Tipo_cliente         Completeness  1.000000e+00\n",
              "3   Column     Tipo_Vivienda         Completeness  1.000000e+00\n",
              "4   Column              Sexo         Completeness  1.000000e+00\n",
              "5   Column              Tasa                 Mean  5.146772e+01\n",
              "6   Column              Tasa  ApproxCountDistinct  1.040000e+02\n",
              "7   Column              Tasa         Completeness  1.000000e+00\n",
              "8   Column              Edad                 Mean  2.387525e+01\n",
              "9   Column              Edad  ApproxCountDistinct  3.700000e+01\n",
              "10  Column       Plazo_Meses                 Mean  1.663375e+01\n",
              "11  Column       Plazo_Meses  ApproxCountDistinct  3.900000e+01\n",
              "12  Column      Estado_Civil         Completeness  1.000000e+00\n",
              "13  Column             Monto                 Mean  3.489418e+06\n",
              "14  Column             Monto  ApproxCountDistinct  1.543000e+03\n",
              "15  Column  Sector_Actividad         Completeness  1.000000e+00\n",
              "16  Column       Plazo_Meses         Completeness  1.000000e+00\n",
              "17  Column  Personas_a_Cargo                 Mean  4.902500e-01\n",
              "18  Column  Personas_a_Cargo  ApproxCountDistinct  6.000000e+00\n",
              "19  Column  Personas_a_Cargo         Completeness  1.000000e+00"
            ],
            "text/html": [
              "\n",
              "  <div id=\"df-59a33250-d148-4eff-a438-3e25bb256322\" class=\"colab-df-container\">\n",
              "    <div>\n",
              "<style scoped>\n",
              "    .dataframe tbody tr th:only-of-type {\n",
              "        vertical-align: middle;\n",
              "    }\n",
              "\n",
              "    .dataframe tbody tr th {\n",
              "        vertical-align: top;\n",
              "    }\n",
              "\n",
              "    .dataframe thead th {\n",
              "        text-align: right;\n",
              "    }\n",
              "</style>\n",
              "<table border=\"1\" class=\"dataframe\">\n",
              "  <thead>\n",
              "    <tr style=\"text-align: right;\">\n",
              "      <th></th>\n",
              "      <th>entity</th>\n",
              "      <th>instance</th>\n",
              "      <th>name</th>\n",
              "      <th>value</th>\n",
              "    </tr>\n",
              "  </thead>\n",
              "  <tbody>\n",
              "    <tr>\n",
              "      <th>0</th>\n",
              "      <td>Column</td>\n",
              "      <td>Monto</td>\n",
              "      <td>Completeness</td>\n",
              "      <td>1.000000e+00</td>\n",
              "    </tr>\n",
              "    <tr>\n",
              "      <th>1</th>\n",
              "      <td>Column</td>\n",
              "      <td>Edad</td>\n",
              "      <td>Completeness</td>\n",
              "      <td>1.000000e+00</td>\n",
              "    </tr>\n",
              "    <tr>\n",
              "      <th>2</th>\n",
              "      <td>Column</td>\n",
              "      <td>Tipo_cliente</td>\n",
              "      <td>Completeness</td>\n",
              "      <td>1.000000e+00</td>\n",
              "    </tr>\n",
              "    <tr>\n",
              "      <th>3</th>\n",
              "      <td>Column</td>\n",
              "      <td>Tipo_Vivienda</td>\n",
              "      <td>Completeness</td>\n",
              "      <td>1.000000e+00</td>\n",
              "    </tr>\n",
              "    <tr>\n",
              "      <th>4</th>\n",
              "      <td>Column</td>\n",
              "      <td>Sexo</td>\n",
              "      <td>Completeness</td>\n",
              "      <td>1.000000e+00</td>\n",
              "    </tr>\n",
              "    <tr>\n",
              "      <th>5</th>\n",
              "      <td>Column</td>\n",
              "      <td>Tasa</td>\n",
              "      <td>Mean</td>\n",
              "      <td>5.146772e+01</td>\n",
              "    </tr>\n",
              "    <tr>\n",
              "      <th>6</th>\n",
              "      <td>Column</td>\n",
              "      <td>Tasa</td>\n",
              "      <td>ApproxCountDistinct</td>\n",
              "      <td>1.040000e+02</td>\n",
              "    </tr>\n",
              "    <tr>\n",
              "      <th>7</th>\n",
              "      <td>Column</td>\n",
              "      <td>Tasa</td>\n",
              "      <td>Completeness</td>\n",
              "      <td>1.000000e+00</td>\n",
              "    </tr>\n",
              "    <tr>\n",
              "      <th>8</th>\n",
              "      <td>Column</td>\n",
              "      <td>Edad</td>\n",
              "      <td>Mean</td>\n",
              "      <td>2.387525e+01</td>\n",
              "    </tr>\n",
              "    <tr>\n",
              "      <th>9</th>\n",
              "      <td>Column</td>\n",
              "      <td>Edad</td>\n",
              "      <td>ApproxCountDistinct</td>\n",
              "      <td>3.700000e+01</td>\n",
              "    </tr>\n",
              "    <tr>\n",
              "      <th>10</th>\n",
              "      <td>Column</td>\n",
              "      <td>Plazo_Meses</td>\n",
              "      <td>Mean</td>\n",
              "      <td>1.663375e+01</td>\n",
              "    </tr>\n",
              "    <tr>\n",
              "      <th>11</th>\n",
              "      <td>Column</td>\n",
              "      <td>Plazo_Meses</td>\n",
              "      <td>ApproxCountDistinct</td>\n",
              "      <td>3.900000e+01</td>\n",
              "    </tr>\n",
              "    <tr>\n",
              "      <th>12</th>\n",
              "      <td>Column</td>\n",
              "      <td>Estado_Civil</td>\n",
              "      <td>Completeness</td>\n",
              "      <td>1.000000e+00</td>\n",
              "    </tr>\n",
              "    <tr>\n",
              "      <th>13</th>\n",
              "      <td>Column</td>\n",
              "      <td>Monto</td>\n",
              "      <td>Mean</td>\n",
              "      <td>3.489418e+06</td>\n",
              "    </tr>\n",
              "    <tr>\n",
              "      <th>14</th>\n",
              "      <td>Column</td>\n",
              "      <td>Monto</td>\n",
              "      <td>ApproxCountDistinct</td>\n",
              "      <td>1.543000e+03</td>\n",
              "    </tr>\n",
              "    <tr>\n",
              "      <th>15</th>\n",
              "      <td>Column</td>\n",
              "      <td>Sector_Actividad</td>\n",
              "      <td>Completeness</td>\n",
              "      <td>1.000000e+00</td>\n",
              "    </tr>\n",
              "    <tr>\n",
              "      <th>16</th>\n",
              "      <td>Column</td>\n",
              "      <td>Plazo_Meses</td>\n",
              "      <td>Completeness</td>\n",
              "      <td>1.000000e+00</td>\n",
              "    </tr>\n",
              "    <tr>\n",
              "      <th>17</th>\n",
              "      <td>Column</td>\n",
              "      <td>Personas_a_Cargo</td>\n",
              "      <td>Mean</td>\n",
              "      <td>4.902500e-01</td>\n",
              "    </tr>\n",
              "    <tr>\n",
              "      <th>18</th>\n",
              "      <td>Column</td>\n",
              "      <td>Personas_a_Cargo</td>\n",
              "      <td>ApproxCountDistinct</td>\n",
              "      <td>6.000000e+00</td>\n",
              "    </tr>\n",
              "    <tr>\n",
              "      <th>19</th>\n",
              "      <td>Column</td>\n",
              "      <td>Personas_a_Cargo</td>\n",
              "      <td>Completeness</td>\n",
              "      <td>1.000000e+00</td>\n",
              "    </tr>\n",
              "  </tbody>\n",
              "</table>\n",
              "</div>\n",
              "    <div class=\"colab-df-buttons\">\n",
              "\n",
              "  <div class=\"colab-df-container\">\n",
              "    <button class=\"colab-df-convert\" onclick=\"convertToInteractive('df-59a33250-d148-4eff-a438-3e25bb256322')\"\n",
              "            title=\"Convert this dataframe to an interactive table.\"\n",
              "            style=\"display:none;\">\n",
              "\n",
              "  <svg xmlns=\"http://www.w3.org/2000/svg\" height=\"24px\" viewBox=\"0 -960 960 960\">\n",
              "    <path d=\"M120-120v-720h720v720H120Zm60-500h600v-160H180v160Zm220 220h160v-160H400v160Zm0 220h160v-160H400v160ZM180-400h160v-160H180v160Zm440 0h160v-160H620v160ZM180-180h160v-160H180v160Zm440 0h160v-160H620v160Z\"/>\n",
              "  </svg>\n",
              "    </button>\n",
              "\n",
              "  <style>\n",
              "    .colab-df-container {\n",
              "      display:flex;\n",
              "      gap: 12px;\n",
              "    }\n",
              "\n",
              "    .colab-df-convert {\n",
              "      background-color: #E8F0FE;\n",
              "      border: none;\n",
              "      border-radius: 50%;\n",
              "      cursor: pointer;\n",
              "      display: none;\n",
              "      fill: #1967D2;\n",
              "      height: 32px;\n",
              "      padding: 0 0 0 0;\n",
              "      width: 32px;\n",
              "    }\n",
              "\n",
              "    .colab-df-convert:hover {\n",
              "      background-color: #E2EBFA;\n",
              "      box-shadow: 0px 1px 2px rgba(60, 64, 67, 0.3), 0px 1px 3px 1px rgba(60, 64, 67, 0.15);\n",
              "      fill: #174EA6;\n",
              "    }\n",
              "\n",
              "    .colab-df-buttons div {\n",
              "      margin-bottom: 4px;\n",
              "    }\n",
              "\n",
              "    [theme=dark] .colab-df-convert {\n",
              "      background-color: #3B4455;\n",
              "      fill: #D2E3FC;\n",
              "    }\n",
              "\n",
              "    [theme=dark] .colab-df-convert:hover {\n",
              "      background-color: #434B5C;\n",
              "      box-shadow: 0px 1px 3px 1px rgba(0, 0, 0, 0.15);\n",
              "      filter: drop-shadow(0px 1px 2px rgba(0, 0, 0, 0.3));\n",
              "      fill: #FFFFFF;\n",
              "    }\n",
              "  </style>\n",
              "\n",
              "    <script>\n",
              "      const buttonEl =\n",
              "        document.querySelector('#df-59a33250-d148-4eff-a438-3e25bb256322 button.colab-df-convert');\n",
              "      buttonEl.style.display =\n",
              "        google.colab.kernel.accessAllowed ? 'block' : 'none';\n",
              "\n",
              "      async function convertToInteractive(key) {\n",
              "        const element = document.querySelector('#df-59a33250-d148-4eff-a438-3e25bb256322');\n",
              "        const dataTable =\n",
              "          await google.colab.kernel.invokeFunction('convertToInteractive',\n",
              "                                                    [key], {});\n",
              "        if (!dataTable) return;\n",
              "\n",
              "        const docLinkHtml = 'Like what you see? Visit the ' +\n",
              "          '<a target=\"_blank\" href=https://colab.research.google.com/notebooks/data_table.ipynb>data table notebook</a>'\n",
              "          + ' to learn more about interactive tables.';\n",
              "        element.innerHTML = '';\n",
              "        dataTable['output_type'] = 'display_data';\n",
              "        await google.colab.output.renderOutput(dataTable, element);\n",
              "        const docLink = document.createElement('div');\n",
              "        docLink.innerHTML = docLinkHtml;\n",
              "        element.appendChild(docLink);\n",
              "      }\n",
              "    </script>\n",
              "  </div>\n",
              "\n",
              "\n",
              "<div id=\"df-3f59bb41-68d7-4270-b6a1-38b0c903dcc9\">\n",
              "  <button class=\"colab-df-quickchart\" onclick=\"quickchart('df-3f59bb41-68d7-4270-b6a1-38b0c903dcc9')\"\n",
              "            title=\"Suggest charts\"\n",
              "            style=\"display:none;\">\n",
              "\n",
              "<svg xmlns=\"http://www.w3.org/2000/svg\" height=\"24px\"viewBox=\"0 0 24 24\"\n",
              "     width=\"24px\">\n",
              "    <g>\n",
              "        <path d=\"M19 3H5c-1.1 0-2 .9-2 2v14c0 1.1.9 2 2 2h14c1.1 0 2-.9 2-2V5c0-1.1-.9-2-2-2zM9 17H7v-7h2v7zm4 0h-2V7h2v10zm4 0h-2v-4h2v4z\"/>\n",
              "    </g>\n",
              "</svg>\n",
              "  </button>\n",
              "\n",
              "<style>\n",
              "  .colab-df-quickchart {\n",
              "      --bg-color: #E8F0FE;\n",
              "      --fill-color: #1967D2;\n",
              "      --hover-bg-color: #E2EBFA;\n",
              "      --hover-fill-color: #174EA6;\n",
              "      --disabled-fill-color: #AAA;\n",
              "      --disabled-bg-color: #DDD;\n",
              "  }\n",
              "\n",
              "  [theme=dark] .colab-df-quickchart {\n",
              "      --bg-color: #3B4455;\n",
              "      --fill-color: #D2E3FC;\n",
              "      --hover-bg-color: #434B5C;\n",
              "      --hover-fill-color: #FFFFFF;\n",
              "      --disabled-bg-color: #3B4455;\n",
              "      --disabled-fill-color: #666;\n",
              "  }\n",
              "\n",
              "  .colab-df-quickchart {\n",
              "    background-color: var(--bg-color);\n",
              "    border: none;\n",
              "    border-radius: 50%;\n",
              "    cursor: pointer;\n",
              "    display: none;\n",
              "    fill: var(--fill-color);\n",
              "    height: 32px;\n",
              "    padding: 0;\n",
              "    width: 32px;\n",
              "  }\n",
              "\n",
              "  .colab-df-quickchart:hover {\n",
              "    background-color: var(--hover-bg-color);\n",
              "    box-shadow: 0 1px 2px rgba(60, 64, 67, 0.3), 0 1px 3px 1px rgba(60, 64, 67, 0.15);\n",
              "    fill: var(--button-hover-fill-color);\n",
              "  }\n",
              "\n",
              "  .colab-df-quickchart-complete:disabled,\n",
              "  .colab-df-quickchart-complete:disabled:hover {\n",
              "    background-color: var(--disabled-bg-color);\n",
              "    fill: var(--disabled-fill-color);\n",
              "    box-shadow: none;\n",
              "  }\n",
              "\n",
              "  .colab-df-spinner {\n",
              "    border: 2px solid var(--fill-color);\n",
              "    border-color: transparent;\n",
              "    border-bottom-color: var(--fill-color);\n",
              "    animation:\n",
              "      spin 1s steps(1) infinite;\n",
              "  }\n",
              "\n",
              "  @keyframes spin {\n",
              "    0% {\n",
              "      border-color: transparent;\n",
              "      border-bottom-color: var(--fill-color);\n",
              "      border-left-color: var(--fill-color);\n",
              "    }\n",
              "    20% {\n",
              "      border-color: transparent;\n",
              "      border-left-color: var(--fill-color);\n",
              "      border-top-color: var(--fill-color);\n",
              "    }\n",
              "    30% {\n",
              "      border-color: transparent;\n",
              "      border-left-color: var(--fill-color);\n",
              "      border-top-color: var(--fill-color);\n",
              "      border-right-color: var(--fill-color);\n",
              "    }\n",
              "    40% {\n",
              "      border-color: transparent;\n",
              "      border-right-color: var(--fill-color);\n",
              "      border-top-color: var(--fill-color);\n",
              "    }\n",
              "    60% {\n",
              "      border-color: transparent;\n",
              "      border-right-color: var(--fill-color);\n",
              "    }\n",
              "    80% {\n",
              "      border-color: transparent;\n",
              "      border-right-color: var(--fill-color);\n",
              "      border-bottom-color: var(--fill-color);\n",
              "    }\n",
              "    90% {\n",
              "      border-color: transparent;\n",
              "      border-bottom-color: var(--fill-color);\n",
              "    }\n",
              "  }\n",
              "</style>\n",
              "\n",
              "  <script>\n",
              "    async function quickchart(key) {\n",
              "      const quickchartButtonEl =\n",
              "        document.querySelector('#' + key + ' button');\n",
              "      quickchartButtonEl.disabled = true;  // To prevent multiple clicks.\n",
              "      quickchartButtonEl.classList.add('colab-df-spinner');\n",
              "      try {\n",
              "        const charts = await google.colab.kernel.invokeFunction(\n",
              "            'suggestCharts', [key], {});\n",
              "      } catch (error) {\n",
              "        console.error('Error during call to suggestCharts:', error);\n",
              "      }\n",
              "      quickchartButtonEl.classList.remove('colab-df-spinner');\n",
              "      quickchartButtonEl.classList.add('colab-df-quickchart-complete');\n",
              "    }\n",
              "    (() => {\n",
              "      let quickchartButtonEl =\n",
              "        document.querySelector('#df-3f59bb41-68d7-4270-b6a1-38b0c903dcc9 button');\n",
              "      quickchartButtonEl.style.display =\n",
              "        google.colab.kernel.accessAllowed ? 'block' : 'none';\n",
              "    })();\n",
              "  </script>\n",
              "</div>\n",
              "\n",
              "  <div id=\"id_5155dff4-b2cf-480b-bb1c-d6ec451069fa\">\n",
              "    <style>\n",
              "      .colab-df-generate {\n",
              "        background-color: #E8F0FE;\n",
              "        border: none;\n",
              "        border-radius: 50%;\n",
              "        cursor: pointer;\n",
              "        display: none;\n",
              "        fill: #1967D2;\n",
              "        height: 32px;\n",
              "        padding: 0 0 0 0;\n",
              "        width: 32px;\n",
              "      }\n",
              "\n",
              "      .colab-df-generate:hover {\n",
              "        background-color: #E2EBFA;\n",
              "        box-shadow: 0px 1px 2px rgba(60, 64, 67, 0.3), 0px 1px 3px 1px rgba(60, 64, 67, 0.15);\n",
              "        fill: #174EA6;\n",
              "      }\n",
              "\n",
              "      [theme=dark] .colab-df-generate {\n",
              "        background-color: #3B4455;\n",
              "        fill: #D2E3FC;\n",
              "      }\n",
              "\n",
              "      [theme=dark] .colab-df-generate:hover {\n",
              "        background-color: #434B5C;\n",
              "        box-shadow: 0px 1px 3px 1px rgba(0, 0, 0, 0.15);\n",
              "        filter: drop-shadow(0px 1px 2px rgba(0, 0, 0, 0.3));\n",
              "        fill: #FFFFFF;\n",
              "      }\n",
              "    </style>\n",
              "    <button class=\"colab-df-generate\" onclick=\"generateWithVariable('analysisResult_pandas_df')\"\n",
              "            title=\"Generate code using this dataframe.\"\n",
              "            style=\"display:none;\">\n",
              "\n",
              "  <svg xmlns=\"http://www.w3.org/2000/svg\" height=\"24px\"viewBox=\"0 0 24 24\"\n",
              "       width=\"24px\">\n",
              "    <path d=\"M7,19H8.4L18.45,9,17,7.55,7,17.6ZM5,21V16.75L18.45,3.32a2,2,0,0,1,2.83,0l1.4,1.43a1.91,1.91,0,0,1,.58,1.4,1.91,1.91,0,0,1-.58,1.4L9.25,21ZM18.45,9,17,7.55Zm-12,3A5.31,5.31,0,0,0,4.9,8.1,5.31,5.31,0,0,0,1,6.5,5.31,5.31,0,0,0,4.9,4.9,5.31,5.31,0,0,0,6.5,1,5.31,5.31,0,0,0,8.1,4.9,5.31,5.31,0,0,0,12,6.5,5.46,5.46,0,0,0,6.5,12Z\"/>\n",
              "  </svg>\n",
              "    </button>\n",
              "    <script>\n",
              "      (() => {\n",
              "      const buttonEl =\n",
              "        document.querySelector('#id_5155dff4-b2cf-480b-bb1c-d6ec451069fa button.colab-df-generate');\n",
              "      buttonEl.style.display =\n",
              "        google.colab.kernel.accessAllowed ? 'block' : 'none';\n",
              "\n",
              "      buttonEl.onclick = () => {\n",
              "        google.colab.notebook.generateWithVariable('analysisResult_pandas_df');\n",
              "      }\n",
              "      })();\n",
              "    </script>\n",
              "  </div>\n",
              "\n",
              "    </div>\n",
              "  </div>\n"
            ],
            "application/vnd.google.colaboratory.intrinsic+json": {
              "type": "dataframe",
              "variable_name": "analysisResult_pandas_df",
              "summary": "{\n  \"name\": \"analysisResult_pandas_df\",\n  \"rows\": 20,\n  \"fields\": [\n    {\n      \"column\": \"entity\",\n      \"properties\": {\n        \"dtype\": \"category\",\n        \"num_unique_values\": 1,\n        \"samples\": [\n          \"Column\"\n        ],\n        \"semantic_type\": \"\",\n        \"description\": \"\"\n      }\n    },\n    {\n      \"column\": \"instance\",\n      \"properties\": {\n        \"dtype\": \"string\",\n        \"num_unique_values\": 10,\n        \"samples\": [\n          \"Sector_Actividad\"\n        ],\n        \"semantic_type\": \"\",\n        \"description\": \"\"\n      }\n    },\n    {\n      \"column\": \"name\",\n      \"properties\": {\n        \"dtype\": \"category\",\n        \"num_unique_values\": 3,\n        \"samples\": [\n          \"Completeness\"\n        ],\n        \"semantic_type\": \"\",\n        \"description\": \"\"\n      }\n    },\n    {\n      \"column\": \"value\",\n      \"properties\": {\n        \"dtype\": \"number\",\n        \"std\": 780236.2130724177,\n        \"min\": 0.49025,\n        \"max\": 3489418.47978125,\n        \"num_unique_values\": 11,\n        \"samples\": [\n          16.63375\n        ],\n        \"semantic_type\": \"\",\n        \"description\": \"\"\n      }\n    }\n  ]\n}"
            }
          },
          "metadata": {},
          "execution_count": 21
        }
      ]
    },
    {
      "cell_type": "markdown",
      "source": [
        "*Conclusiones:*\n",
        "1. Calidad de los Datos: No hay valores nulos, lo que refleja un dataset limpio y listo para el análisis.\n",
        "\n",
        "2. Demografía: Los clientes son principalmente jóvenes (edad promedio de 23.88 años) y tienen pocas personas a cargo (promedio de 0.49).\n",
        "\n",
        "3. Préstamos: Los préstamos suelen ser de montos moderados (3,489,418 pesos en promedio), con plazos a mediano plazo (16.6 meses).\n",
        "Las tasas de interés están en rangos estándar, con un promedio de 51.47%.\n",
        "\n",
        "4. Variabilidad: Las columnas numéricas como Monto, Tasa, y Plazo_Meses tienen alta variabilidad, lo que indica que las condiciones de los préstamos son diversas y personalizadas."
      ],
      "metadata": {
        "id": "mNlwCSNSnuGk"
      }
    },
    {
      "cell_type": "markdown",
      "source": [
        "# **4. Anomaly Detention**"
      ],
      "metadata": {
        "id": "9BGXPYk2jzM6"
      }
    },
    {
      "cell_type": "code",
      "source": [
        "# Crear un repositorio en memoria para almacenar métricas\n",
        "metricsRepository = InMemoryMetricsRepository(spark)\n"
      ],
      "metadata": {
        "id": "It3rzZWkj5Ow"
      },
      "execution_count": 22,
      "outputs": []
    },
    {
      "cell_type": "markdown",
      "source": [
        "### Configurar el Dataset Histórico"
      ],
      "metadata": {
        "id": "B7yBCfZolDlB"
      }
    },
    {
      "cell_type": "markdown",
      "source": [
        "Debemos simular los datos de ayer (históricos) desde tu dataset para la detección de anomalías. Aquí seleccionamos una muestra de tu dataset para representar los datos históricos:\n"
      ],
      "metadata": {
        "id": "Ck3CH3BPlKha"
      }
    },
    {
      "cell_type": "code",
      "source": [
        "yesterdaysDataset=spark_df\n",
        "yesterdaysDataset.show()"
      ],
      "metadata": {
        "colab": {
          "base_uri": "https://localhost:8080/"
        },
        "id": "nkkoCQUCtoze",
        "outputId": "e197030f-b1f9-4825-dddc-b0faf85c6893"
      },
      "execution_count": 23,
      "outputs": [
        {
          "output_type": "stream",
          "name": "stdout",
          "text": [
            "+---+--------------------+------+------------+----------------+------------+----+----------------+-----+---------+-----------+\n",
            "| ID|    Sector_Actividad|  Sexo|Estado_Civil|   Tipo_Vivienda|Tipo_cliente|Edad|Personas_a_Cargo| Tasa|    Monto|Plazo_Meses|\n",
            "+---+--------------------+------+------------+----------------+------------+----+----------------+-----+---------+-----------+\n",
            "|  1|            COMERCIO| Mujer| Unión Libre|       Arrendada|       Nuevo|  24|               0|52.89|2400000.0|         12|\n",
            "|  2|         AGRICULTURA| Mujer|    Casado/a|       Arrendada|       Nuevo|  34|               1| 55.0|5582000.0|         23|\n",
            "|  3|            COMERCIO| Mujer|   Soltero/a|       Arrendada|       Nuevo|  23|               0|52.39|2300000.0|         20|\n",
            "|  4|          ARTESANÍAS|Hombre|   Soltero/a|        Familiar|       Nuevo|  22|               0| 55.2|1774000.0|         16|\n",
            "|  5|           SERVICIOS| Mujer|   Soltero/a|        Familiar|       Nuevo|  21|               0| 63.0|2000000.0|         14|\n",
            "|  6|           SERVICIOS| Mujer| Unión Libre|        Familiar|       Nuevo|  23|               1|52.89|4100000.0|         18|\n",
            "|  7|           SERVICIOS|Hombre|   Soltero/a|        Familiar|       Nuevo|  21|               0|52.39|1300000.0|         12|\n",
            "|  8|            COMERCIO|Hombre|   Soltero/a|        Familiar|       Nuevo|  20|               0|52.89|3500000.0|         12|\n",
            "|  9|            COMERCIO| Mujer|   Soltero/a|       Arrendada|       Nuevo|  24|               0| 51.5|6581000.0|         19|\n",
            "| 10|            COMERCIO| Mujer|   Soltero/a|        Familiar|       Nuevo|  23|               0|52.39|2440000.0|         18|\n",
            "| 11|            COMERCIO| Mujer|   Soltero/a|        Familiar|       Nuevo|  21|               0| 58.0|4550000.0|         28|\n",
            "| 12|           SERVICIOS| Mujer| Unión Libre|Propia sin Deuda|       Nuevo|  22|               1|52.39|1780000.0|         15|\n",
            "| 13|       AGROINDUSTRIA| Mujer| Unión Libre|Propia sin Deuda|       Nuevo|  23|               0|52.39|2205200.0|         12|\n",
            "| 14|           SERVICIOS|Hombre|   Soltero/a|       Arrendada|       Nuevo|  23|               0|52.39|1600000.0|         14|\n",
            "| 15|           INDUSTRIA| Mujer|   Soltero/a|       Arrendada|       Nuevo|  22|               0|52.39|4350000.0|         18|\n",
            "| 16|           SERVICIOS|Hombre|   Soltero/a|       Arrendada|       Nuevo|  22|               0|52.39|2000000.0|         12|\n",
            "| 17|            PECUARIO|Hombre|   Soltero/a|        Familiar|       Nuevo|  22|               0| 55.5|4384750.0|         17|\n",
            "| 18|         AGRICULTURA| Mujer| Unión Libre|Propia sin Deuda|       Nuevo|  26|               3| 55.2|2314550.0|         11|\n",
            "| 19|            COMERCIO| Mujer|   Soltero/a|        Familiar|       Nuevo|  22|               0|52.39|2400000.0|         12|\n",
            "| 20|ACTIVIDADES DEPEN...|Hombre|   Soltero/a|       Arrendada|       Nuevo|  22|               0|34.98|1800000.0|         11|\n",
            "+---+--------------------+------+------------+----------------+------------+----+----------------+-----+---------+-----------+\n",
            "only showing top 20 rows\n",
            "\n"
          ]
        }
      ]
    },
    {
      "cell_type": "markdown",
      "source": [
        "### Configurar el Dataset Actual"
      ],
      "metadata": {
        "id": "fSbc-HUOlTyJ"
      }
    },
    {
      "cell_type": "code",
      "source": [
        "dataset_today = pd.read_excel(url, sheet_name=\"Actual\")\n",
        "dataset_today\n",
        "\n",
        "data_list_today = dataset_today.to_dict(orient='records')\n",
        "\n",
        "# Crear el DataFrame de PySpark desde la lista de datos y el esquema\n",
        "todaysDataset = spark.createDataFrame(data_list_today, schema)\n",
        "\n",
        "# Mostrar las primeras filas del DataFrame de PySpark\n",
        "todaysDataset.show()"
      ],
      "metadata": {
        "colab": {
          "base_uri": "https://localhost:8080/"
        },
        "id": "gc5FgPPcu-Mk",
        "outputId": "aa6e4ed1-99c5-4a50-a423-ee56ebd31b64"
      },
      "execution_count": 24,
      "outputs": [
        {
          "output_type": "stream",
          "name": "stdout",
          "text": [
            "+----+--------------------+------+------------+----------------+------------+----+----------------+-----+---------+-----------+\n",
            "|  ID|    Sector_Actividad|  Sexo|Estado_Civil|   Tipo_Vivienda|Tipo_cliente|Edad|Personas_a_Cargo| Tasa|    Monto|Plazo_Meses|\n",
            "+----+--------------------+------+------------+----------------+------------+----+----------------+-----+---------+-----------+\n",
            "|4001|            PECUARIO| Mujer|   Soltero/a|        Familiar|       Nuevo|  25|               0|52.39|2196800.0|         12|\n",
            "|4002|            COMERCIO|Hombre|   Soltero/a|       Arrendada|       Nuevo|  20|               0|49.04|1160000.0|         10|\n",
            "|4003|         AGRICULTURA| Mujer|   Soltero/a|       Arrendada|       Nuevo|  20|               0|49.04|1164000.0|          9|\n",
            "|4004|            PECUARIO| Mujer|   Soltero/a|        Familiar|       Nuevo|  20|               0|52.39|3256500.0|         15|\n",
            "|4005|ACTIVIDADES DEPEN...| Mujer|   Soltero/a|       Arrendada|       Nuevo|  20|               0| 39.8|5000000.0|         17|\n",
            "|4006|ACTIVIDADES DEPEN...| Mujer|   Soltero/a|        Familiar|       Nuevo|  25|               1| 33.5|3436500.0|         17|\n",
            "|4007|         AGRICULTURA|Hombre| Unión Libre|        Familiar|       Nuevo|  20|               1|52.89|5184250.0|         11|\n",
            "|4008|         AGRICULTURA|Hombre|   Soltero/a|        Familiar|       Nuevo|  20|               0| 51.0|1.49395E7|         14|\n",
            "|4009|           SERVICIOS| Mujer|   Soltero/a|        Familiar|       Nuevo|  20|               0| 55.2|2535000.0|         20|\n",
            "|4010|            PECUARIO|Hombre|   Soltero/a|        Familiar|       Nuevo|  20|               0| 56.0|2850000.0|         20|\n",
            "|4011|         AGRICULTURA| Mujer|   Soltero/a|        Familiar|       Nuevo|  23|               0|49.04|1086000.0|         10|\n",
            "|4012|         AGRICULTURA| Mujer|   Soltero/a|       Arrendada|       Nuevo|  28|               1|43.14| 1.1258E7|         30|\n",
            "|4013|            PECUARIO| Mujer|   Soltero/a|        Familiar|       Nuevo|  23|               0|49.04|3052000.0|          6|\n",
            "|4014|            PECUARIO|Hombre|   Soltero/a|Propia sin Deuda|       Nuevo|  22|               0| 55.5|5284750.0|         17|\n",
            "|4015|         AGRICULTURA|Hombre|   Soltero/a|        Familiar|       Nuevo|  24|               0| 51.5|7234500.0|         14|\n",
            "|4016|            PECUARIO| Mujer|   Soltero/a|Propia sin Deuda|       Nuevo|  26|               0|52.39|6088240.0|         24|\n",
            "|4017|           SERVICIOS|Hombre|   Soltero/a|        Familiar|       Nuevo|  22|               0|51.18|1387200.0|         18|\n",
            "|4018|          ARTESANÍAS| Mujer|   Soltero/a|        Familiar|       Nuevo|  22|               0|52.39| 660000.0|          6|\n",
            "|4019|           SERVICIOS| Mujer|   Soltero/a|       Arrendada|       Nuevo|  21|               0|49.04|4500000.0|         24|\n",
            "|4020|          ARTESANÍAS| Mujer|   Soltero/a|        Familiar|       Nuevo|  21|               1| 51.7|2327500.0|         19|\n",
            "+----+--------------------+------+------------+----------------+------------+----+----------------+-----+---------+-----------+\n",
            "only showing top 20 rows\n",
            "\n"
          ]
        }
      ]
    },
    {
      "cell_type": "markdown",
      "source": [
        "### Cálculo de métricas y detección de anomalias"
      ],
      "metadata": {
        "id": "YeI6slalzX3H"
      }
    },
    {
      "cell_type": "code",
      "source": [
        "#from pydeequ.analyzers import AnalysisRunner, Minimum, Maximum, Mean, Size\n",
        "from pyspark.sql.functions import col, when, expr\n",
        "\n",
        "# 1. Calcular métricas del dataset histórico\n",
        "analysisResult_historical = AnalysisRunner(spark).onData(yesterdaysDataset) \\\n",
        "    .addAnalyzer(Size()) \\\n",
        "    .addAnalyzer(Minimum(\"Edad\")) \\\n",
        "    .addAnalyzer(Maximum(\"Edad\")) \\\n",
        "    .addAnalyzer(Mean(\"Personas_a_Cargo\")) \\\n",
        "    .addAnalyzer(Mean(\"Monto\")) \\\n",
        "    .addAnalyzer(Mean(\"Tasa\")) \\\n",
        "    .addAnalyzer(Minimum(\"Tasa\")) \\\n",
        "    .addAnalyzer(Maximum(\"Tasa\")) \\\n",
        "    .addAnalyzer(Mean(\"Plazo_Meses\")) \\\n",
        "    .addAnalyzer(Minimum(\"Plazo_Meses\")) \\\n",
        "    .addAnalyzer(Maximum(\"Plazo_Meses\")) \\\n",
        "    .run()\n",
        "\n",
        "historicalMetrics = AnalyzerContext.successMetricsAsDataFrame(spark, analysisResult_historical) \\\n",
        "    .withColumnRenamed(\"value\", \"historical_value\")\n",
        "\n",
        "# 2. Calcular métricas del dataset actual\n",
        "analysisResult_current = AnalysisRunner(spark).onData(todaysDataset) \\\n",
        "    .addAnalyzer(Size()) \\\n",
        "    .addAnalyzer(Minimum(\"Edad\")) \\\n",
        "    .addAnalyzer(Maximum(\"Edad\")) \\\n",
        "    .addAnalyzer(Mean(\"Monto\")) \\\n",
        "    .addAnalyzer(Mean(\"Personas_a_Cargo\")) \\\n",
        "    .addAnalyzer(Mean(\"Tasa\")) \\\n",
        "    .addAnalyzer(Minimum(\"Tasa\")) \\\n",
        "    .addAnalyzer(Maximum(\"Tasa\")) \\\n",
        "    .addAnalyzer(Mean(\"Plazo_Meses\")) \\\n",
        "    .addAnalyzer(Minimum(\"Plazo_Meses\")) \\\n",
        "    .addAnalyzer(Maximum(\"Plazo_Meses\")) \\\n",
        "    .run()\n",
        "\n",
        "currentMetrics = AnalyzerContext.successMetricsAsDataFrame(spark, analysisResult_current) \\\n",
        "    .withColumnRenamed(\"value\", \"current_value\")\n",
        "\n",
        "# 3. Unir métricas históricas y actuales\n",
        "comparison = historicalMetrics.join(\n",
        "    currentMetrics,\n",
        "    on=[\"entity\", \"instance\", \"name\"],\n",
        "    how=\"inner\"\n",
        ").select(\n",
        "    col(\"entity\"),\n",
        "    col(\"instance\"),\n",
        "    col(\"name\"),\n",
        "    col(\"historical_value\"),\n",
        "    col(\"current_value\")\n",
        ")\n",
        "\n",
        "# 4. Calcular cambio relativo y anomalías\n",
        "comparison = comparison.withColumn(\n",
        "    \"relative_change\",\n",
        "    when(col(\"historical_value\") != 0, (col(\"current_value\") - col(\"historical_value\")) / col(\"historical_value\"))\n",
        "    .otherwise(None)\n",
        ").withColumn(\n",
        "    \"is_anomaly\",\n",
        "    when((col(\"name\") == \"Mean\") & ((col(\"relative_change\") > 0.03) | (col(\"relative_change\") < -0.03)), True)\n",
        "    .when((col(\"name\").isin(\"Minimum\", \"Maximum\")) & ((col(\"relative_change\") > 0.2) | (col(\"relative_change\") < -0.2)), True)\n",
        "    .otherwise(False)\n",
        ")\n",
        "\n",
        "# 5. Mostrar anomalías detectadas\n",
        "comparison.filter(\"is_anomaly = True\").show()\n"
      ],
      "metadata": {
        "colab": {
          "base_uri": "https://localhost:8080/"
        },
        "id": "n7tK68Arx4Cp",
        "outputId": "410206e3-3953-4f74-bbcb-c33b67b0b574"
      },
      "execution_count": 27,
      "outputs": [
        {
          "output_type": "stream",
          "name": "stderr",
          "text": [
            "/usr/local/lib/python3.10/dist-packages/pyspark/sql/dataframe.py:127: UserWarning: DataFrame constructor is internal. Do not directly use it.\n",
            "  warnings.warn(\"DataFrame constructor is internal. Do not directly use it.\")\n"
          ]
        },
        {
          "output_type": "stream",
          "name": "stdout",
          "text": [
            "+------+----------------+-------+----------------+----------------+--------------------+----------+\n",
            "|entity|        instance|   name|historical_value|   current_value|     relative_change|is_anomaly|\n",
            "+------+----------------+-------+----------------+----------------+--------------------+----------+\n",
            "|Column|            Edad|Maximum|            65.0|            79.0|  0.2153846153846154|      true|\n",
            "|Column|            Tasa|Minimum|            20.0|            14.0|                -0.3|      true|\n",
            "|Column|           Monto|   Mean|3489418.47978125|3654813.96628125|0.047399154746944734|      true|\n",
            "|Column|     Plazo_Meses|Minimum|             6.0|             0.0|                -1.0|      true|\n",
            "|Column|Personas_a_Cargo|   Mean|         0.49025|         0.53675|  0.0948495665476796|      true|\n",
            "+------+----------------+-------+----------------+----------------+--------------------+----------+\n",
            "\n"
          ]
        }
      ]
    },
    {
      "cell_type": "markdown",
      "source": [
        "### Tratamiento de anomalias"
      ],
      "metadata": {
        "id": "Lgr1SNWe0ZZx"
      }
    },
    {
      "cell_type": "markdown",
      "source": [
        "### *Edad*\n",
        "*Anomalía Detectada:*\n",
        "El valor máximo de la edad en el dataset actual es 79 años, excediendo el límite de 65 años establecido por el negocio.\n",
        "\n",
        "*Causa Potencial:*\n",
        "Error en los datos o inclusión accidental de registros que no cumplen con las políticas de crédito.\n",
        "\n",
        "*Acción Recomendable:*\n",
        "Filtrar los datos y corregir cualquier registro con edades mayores a 65 años. Establecer una validación en el sistema para prevenir registros futuros con valores fuera de rango."
      ],
      "metadata": {
        "id": "ElQyyUI30ebv"
      }
    },
    {
      "cell_type": "code",
      "source": [
        "todaysDataset = todaysDataset.withColumn(\n",
        "    \"Edad\",\n",
        "    expr(\"CASE WHEN Edad > 65 THEN 65 ELSE Edad END\")\n",
        ")\n"
      ],
      "metadata": {
        "id": "sA5cIOkD0c2a"
      },
      "execution_count": 28,
      "outputs": []
    },
    {
      "cell_type": "markdown",
      "source": [
        "### *Tasa*\n",
        "*Anomalía Detectada:*\n",
        "El valor mínimo de la tasa en el dataset actual es 14.0%, lo cual no cumple con el límite inferior de 20.0%.\n",
        "\n",
        "*Causa Potencial:*\n",
        "Error en los datos o inclusión de tasas promocionales no autorizadas.\n",
        "\n",
        "*Acción Recomendable:*\n",
        "Corregir cualquier registro con tasas menores a 20%, estableciendo la tasa mínima permitida en 20.0%.\n",
        "Validar en el sistema que no se registren tasas menores a este límite."
      ],
      "metadata": {
        "id": "UbbzAzx201L-"
      }
    },
    {
      "cell_type": "code",
      "source": [
        "todaysDataset = todaysDataset.withColumn(\n",
        "    \"Tasa\",\n",
        "    expr(\"CASE WHEN Tasa < 20 THEN 20 ELSE Tasa END\")\n",
        ")\n"
      ],
      "metadata": {
        "id": "lyzVHiiF0-Vk"
      },
      "execution_count": 29,
      "outputs": []
    },
    {
      "cell_type": "markdown",
      "source": [
        "### *Monto*\n",
        "*Anomalía Detectada:*\n",
        "Hay registros con un monto de 0, lo cual no es válido dado que el monto mínimo es 500,000.\n",
        "\n",
        "*Causa Potencial:*\n",
        "Error en los datos al capturar montos nulos o incorrectos.\n",
        "\n",
        "*Acción Recomendable:*\n",
        "Corregir cualquier registro con montos menores a 500,000 asignando el monto mínimo permitido. Implementar validaciones en el sistema para prevenir futuros errores."
      ],
      "metadata": {
        "id": "hXk_j2ld1Jho"
      }
    },
    {
      "cell_type": "code",
      "source": [
        "todaysDataset = todaysDataset.withColumn(\n",
        "    \"Monto\",\n",
        "    expr(\"CASE WHEN Monto < 500000 THEN 500000 ELSE Monto END\")\n",
        ")\n"
      ],
      "metadata": {
        "id": "wFc_XVlp1ATa"
      },
      "execution_count": 30,
      "outputs": []
    },
    {
      "cell_type": "markdown",
      "source": [
        "### *Plazo en Meses*\n",
        "*Anomalía Detectada:*\n",
        "Hay registros con un plazo de 0 meses, lo cual no tiene sentido para un crédito.\n",
        "\n",
        "*Causa Potencial:*\n",
        "Error en los datos o registros no validados adecuadamente.\n",
        "\n",
        "*Acción Recomendable:*\n",
        "Corregir los registros con plazo menor a 6 meses asignando el valor mínimo permitido. Implementar validaciones para evitar futuros errores."
      ],
      "metadata": {
        "id": "YS2yA8Ru1XXv"
      }
    },
    {
      "cell_type": "code",
      "source": [
        "todaysDataset = todaysDataset.withColumn(\n",
        "    \"Plazo_Meses\",\n",
        "    expr(\"CASE WHEN Plazo_Meses < 6 THEN 6 ELSE Plazo_Meses END\")\n",
        ")\n"
      ],
      "metadata": {
        "id": "yy-nYMxT1fX8"
      },
      "execution_count": 31,
      "outputs": []
    },
    {
      "cell_type": "markdown",
      "source": [
        "### *Personas a Cargo*\n",
        "*Anomalía Detectada:*\n",
        "Hay registros donde el número de personas a cargo llega hasta 12, excediendo el límite de 6.\n",
        "\n",
        "*Causa Potencial:*\n",
        "Error en la captura de datos o casos excepcionales no contemplados por las políticas.\n",
        "\n",
        "*Acción Recomendable:*\n",
        "Corregir los registros con valores superiores a 6 asignando el valor máximo permitido. Establecer validaciones para prevenir futuros errores."
      ],
      "metadata": {
        "id": "_2mCxcHK1f1O"
      }
    },
    {
      "cell_type": "code",
      "source": [
        "todaysDataset = todaysDataset.withColumn(\n",
        "    \"Personas_a_Cargo\",\n",
        "    expr(\"CASE WHEN Personas_a_Cargo > 6 THEN 6 ELSE Personas_a_Cargo END\")\n",
        ")\n"
      ],
      "metadata": {
        "id": "TaKLikh61uru"
      },
      "execution_count": 32,
      "outputs": []
    },
    {
      "cell_type": "code",
      "source": [
        "# Calcular métricas del dataset actual con las modificaciones\n",
        "analysisResult_current = AnalysisRunner(spark).onData(todaysDataset) \\\n",
        "    .addAnalyzer(Size()) \\\n",
        "    .addAnalyzer(Minimum(\"Edad\")) \\\n",
        "    .addAnalyzer(Maximum(\"Edad\")) \\\n",
        "    .addAnalyzer(Mean(\"Monto\")) \\\n",
        "    .addAnalyzer(Mean(\"Personas_a_Cargo\")) \\\n",
        "    .addAnalyzer(Mean(\"Tasa\")) \\\n",
        "    .addAnalyzer(Minimum(\"Tasa\")) \\\n",
        "    .addAnalyzer(Maximum(\"Tasa\")) \\\n",
        "    .addAnalyzer(Mean(\"Plazo_Meses\")) \\\n",
        "    .addAnalyzer(Minimum(\"Plazo_Meses\")) \\\n",
        "    .addAnalyzer(Maximum(\"Plazo_Meses\")) \\\n",
        "    .run()\n",
        "\n",
        "currentMetrics = AnalyzerContext.successMetricsAsDataFrame(spark, analysisResult_current) \\\n",
        "    .withColumnRenamed(\"value\", \"current_value\")\n",
        "\n",
        "# Unir métricas históricas y actuales\n",
        "comparison = historicalMetrics.join(\n",
        "    currentMetrics,\n",
        "    on=[\"entity\", \"instance\", \"name\"],\n",
        "    how=\"inner\"\n",
        ").select(\n",
        "    col(\"entity\"),\n",
        "    col(\"instance\"),\n",
        "    col(\"name\"),\n",
        "    col(\"historical_value\"),\n",
        "    col(\"current_value\")\n",
        ")\n",
        "\n",
        "# Calcular nuevamente cambio relativo y anomalías\n",
        "comparison = comparison.withColumn(\n",
        "    \"relative_change\",\n",
        "    when(col(\"historical_value\") != 0, (col(\"current_value\") - col(\"historical_value\")) / col(\"historical_value\"))\n",
        "    .otherwise(None)\n",
        ").withColumn(\n",
        "    \"is_anomaly\",\n",
        "    when((col(\"name\") == \"Mean\") & ((col(\"relative_change\") > 0.1) | (col(\"relative_change\") < -0.1)), True)\n",
        "    .when((col(\"name\").isin(\"Minimum\", \"Maximum\")) & ((col(\"relative_change\") > 0.2) | (col(\"relative_change\") < -0.2)), True)\n",
        "    .otherwise(False)\n",
        ")\n",
        "\n",
        "# Mostrar anomalías detectadas\n",
        "comparison.filter(\"is_anomaly = True\").show()\n"
      ],
      "metadata": {
        "colab": {
          "base_uri": "https://localhost:8080/"
        },
        "id": "FnprcnCF13gh",
        "outputId": "e3198498-1746-49d4-9406-29475a5b01fb"
      },
      "execution_count": 33,
      "outputs": [
        {
          "output_type": "stream",
          "name": "stdout",
          "text": [
            "+------+--------+----+----------------+-------------+---------------+----------+\n",
            "|entity|instance|name|historical_value|current_value|relative_change|is_anomaly|\n",
            "+------+--------+----+----------------+-------------+---------------+----------+\n",
            "+------+--------+----+----------------+-------------+---------------+----------+\n",
            "\n"
          ]
        }
      ]
    },
    {
      "cell_type": "markdown",
      "source": [
        "### **Conclusiones Generales**\n",
        "1. Cumplimiento con las Reglas de Negocio:\n",
        "\n",
        "    Todos los registros del dataset actual ahora están alineados con las políticas y límites definidos por el negocio:\n",
        "    - Edad: Máximo de 65 años.\n",
        "    - Tasa: Mínimo de 20%.\n",
        "    - Monto: Mínimo de 500,000.\n",
        "    - Plazo en Meses: Mínimo de 6 meses.\n",
        "    - Personas a Cargo: Máximo de 6.\n",
        "    \n",
        "2. Calidad de Datos Mejorada:\n",
        "\n",
        "    - Los valores inconsistentes, fuera de rango, o erróneos fueron identificados y corregidos.\n",
        "    - Esto asegura que los datos sean confiables para análisis y toma de decisiones.\n",
        "\n",
        "3. Proceso de Validación Exitoso:\n",
        "\n",
        "    - La detección de anomalías previa ayudó a identificar inconsistencias clave.\n",
        "    - Las correcciones aplicadas aseguraron que el dataset actual no presenta desviaciones significativas en comparación con el histórico.\n",
        "4. Preparación para Usos Fututos:\n",
        "\n",
        "    El dataset está listo para ser utilizado en modelos predictivos, análisis de riesgos o reportes operativos sin riesgo de distorsión por anomalías."
      ],
      "metadata": {
        "id": "ygywMNXW2MJ2"
      }
    }
  ]
}