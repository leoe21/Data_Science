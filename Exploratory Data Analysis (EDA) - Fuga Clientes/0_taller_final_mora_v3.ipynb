{
 "cells": [
  {
   "cell_type": "markdown",
   "id": "cfda51aa",
   "metadata": {},
   "source": [
    "<h1>Taller Final: Análisis Exploratorio de Datos.<span class=\"tocSkip\"></span></h1>\n",
    "<h2>Propensión de Mora.<span class=\"tocSkip\"></span></h2>\n",
    "<h3>Presentado por: Raul Echeverry Lopez y Esteban Ordoñez Erazo.<span class=\"tocSkip\"></span></h3>\n",
    "\n",
    "<h1>Tabla de contenido<span class=\"tocSkip\"></span></h1>\n",
    "<div class=\"toc\">\n",
    "\t<ul class=\"toc-item\">\n",
    "\t\t<li>\n",
    "\t\t\t<span>\n",
    "\t\t\t\t<a href=\"#1.-Contexto\" data-toc-modified-id=\"Contexto-1\">\n",
    "\t\t\t\t\t<span class=\"toc-item-num\">1&nbsp;&nbsp;</span>Contexto\n",
    "\t\t\t\t</a>\n",
    "\t\t\t</span>\n",
    "\t\t\t<ul class=\"toc-item\">\n",
    "\t\t\t\t<li>\n",
    "\t\t\t\t\t<span>\n",
    "\t\t\t\t\t\t<a href=\"#1.1-Pregunta-Smart\" data-toc-modified-id=\"Pregunta-Smart-1.1\">\n",
    "\t\t\t\t\t\t\t<span class=\"toc-item-num\">1.1.&nbsp;&nbsp;</span>Pregunta SMART\n",
    "\t\t\t\t\t\t</a>\n",
    "\t\t\t\t\t</span>\n",
    "\t\t\t\t</li>\n",
    "                <li>\n",
    "\t\t\t\t\t<span>\n",
    "\t\t\t\t\t\t<a href=\"#1.2-Descripción-del-Dataset\" data-toc-modified-id=\"1.2-Descripción-del-Dataset-1.2\">\n",
    "\t\t\t\t\t\t\t<span class=\"toc-item-num\">1.2.&nbsp;&nbsp;</span>Descripción del dataset\n",
    "\t\t\t\t\t\t</a>\n",
    "\t\t\t\t\t</span>\n",
    "\t\t\t\t</li>\n",
    "\t\t\t\t<li>\n",
    "\t\t\t\t\t<span>\n",
    "\t\t\t\t\t\t<a href=\"#1.3.-Descripción-de-los-campos-del-dataset\" data-toc-modified-id=\"1.3.-Descripción-de-los-campos-del-dataset-1.3\">\n",
    "\t\t\t\t\t\t\t<span class=\"toc-item-num\">1.3.&nbsp;&nbsp;</span>Descripción de los campos del dataset\n",
    "\t\t\t\t\t\t</a>\n",
    "\t\t\t\t\t</span>\n",
    "\t\t\t\t</li>\n",
    "\t\t\t\t<li>\n",
    "\t\t\t\t\t<span>\n",
    "\t\t\t\t\t\t<a href=\"#1.4.-Obtención-de-datos\" data-toc-modified-id=\"1.4.-Obtención-de-datos-1.4\">\n",
    "\t\t\t\t\t\t\t<span class=\"toc-item-num\">1.4.&nbsp;&nbsp;</span>Obtención de datos\n",
    "\t\t\t\t\t\t</a>\n",
    "\t\t\t\t\t</span>\n",
    "\t\t\t\t</li>\n",
    "\t\t\t</ul>\n",
    "        </li>\n",
    "\t\t<li>\n",
    "\t\t\t<span>\n",
    "\t\t\t\t<a href=\"#2.-Análisis-Exploratorio\" data-toc-modified-id=\"2.-Análisis-Exploratorio-2\">\n",
    "\t\t\t\t\t<span class=\"toc-item-num\">2&nbsp;&nbsp;</span>Análisis Exploratorio\n",
    "\t\t\t\t</a>\n",
    "\t\t\t</span>\n",
    "\t\t\t<ul class=\"toc-item\">\n",
    "\t\t\t\t<li>\n",
    "\t\t\t\t\t<span>\n",
    "\t\t\t\t\t\t<a href=\"#2.1.-Análisis-Estructural\" data-toc-modified-id=\"2.1-Análisis-Estructural-2.1\">\n",
    "\t\t\t\t\t\t\t<span class=\"toc-item-num\">2.1&nbsp;&nbsp;</span>Análisis Estructural\n",
    "\t\t\t\t\t\t</a>\n",
    "\t\t\t\t\t</span>\n",
    "\t\t\t\t</li>\n",
    "                <li>\n",
    "\t\t\t\t\t<span>\n",
    "\t\t\t\t\t\t<a href=\"#2.2.-Tratamiento-de-valores-nulos\" data-toc-modified-id=\"2.2.-Tratamiento-de-valores-nulos-2.2\">\n",
    "\t\t\t\t\t\t\t<span class=\"toc-item-num\">2.2&nbsp;&nbsp;</span>Tratamiento de valores nulos\n",
    "\t\t\t\t\t\t</a>\n",
    "\t\t\t\t\t</span>\n",
    "                    <ul class=\"toc-item\">\n",
    "                        <li>\n",
    "                            <span>\n",
    "                                <a href=\"#2.2.1.-Nulos-de-Sector-Actividad\" data-toc-modified-id=\"2.2.1.-Nulos-de-Sector-Actividad-2.2.1\">\n",
    "                                    <span class=\"toc-item-num\">2.2.1.&nbsp;&nbsp;</span>Nulos de Sector Actividad\n",
    "                                </a>\n",
    "                            </span>\n",
    "                        </li>\n",
    "                         <li>\n",
    "                            <span>\n",
    "                                <a href=\"#2.2.2.-Nulos-de-Tasa-de-interés\" data-toc-modified-id=\"2.2.2.-Nulos-de-Tasa-de-interés-2.2.2\">\n",
    "                                    <span class=\"toc-item-num\">2.2.2.&nbsp;&nbsp;</span>Nulos de Tasa de interés\n",
    "                                </a>\n",
    "                            </span>\n",
    "                        </li>\n",
    "                         <li>\n",
    "                            <span>\n",
    "                                <a href=\"#2.2.3.-Nulos-de-Genero-del-cliente\" data-toc-modified-id=\"2.2.3.-Nulos-de-Genero-del-cliente-2.2.3\">\n",
    "                                    <span class=\"toc-item-num\">2.2.3.&nbsp;&nbsp;</span>Nulos de Genero del cliente\n",
    "                                </a>\n",
    "                            </span>\n",
    "                        </li>\n",
    "                        <li>\n",
    "                            <span>\n",
    "                                <a href=\"#2.2.4.-Nulos-de-Tipo-de-vivienda\" data-toc-modified-id=\"2.2.4.-Nulos-de-Tipo-de-vivienda-2.2.4\">\n",
    "                                    <span class=\"toc-item-num\">2.2.4.&nbsp;&nbsp;</span>Nulos de Tipo de vivienda\n",
    "                                </a>\n",
    "                            </span>\n",
    "                        </li>\n",
    "                        <li>\n",
    "                            <span>\n",
    "                                <a href=\"#2.2.5.-Nulos-de-Estado-Civil\" data-toc-modified-id=\"2.2.5.-Nulos-de-Estado-Civil-2.2.5\">\n",
    "                                    <span class=\"toc-item-num\">2.2.5.&nbsp;&nbsp;</span>Nulos de Estado Civil\n",
    "                                </a>\n",
    "                            </span>\n",
    "                        </li>\n",
    "                    </ul>\n",
    "\t\t\t\t</li>\n",
    "\t\t\t\t<li>\n",
    "\t\t\t\t\t<span>\n",
    "\t\t\t\t\t\t<a href=\"#2.3.-Análisis-univariado-categórico\" data-toc-modified-id=\"2.3.-Análisis-univariado-categórico-2.3\">\n",
    "\t\t\t\t\t\t\t<span class=\"toc-item-num\">2.3.&nbsp;&nbsp;</span>Análisis univariado categórico\n",
    "\t\t\t\t\t\t</a>\n",
    "\t\t\t\t\t</span>\n",
    "\t\t\t\t\t<ul class=\"toc-item\">\n",
    "                        <li>\n",
    "                            <span>\n",
    "                                <a href=\"#2.3.1.-Sector-de-actividad-del-cliente\" data-toc-modified-id=\"2.3.1.-Sector-de-actividad-del-cliente-2.3.1\">\n",
    "                                    <span class=\"toc-item-num\">2.3.1.&nbsp;&nbsp;</span>Sector de actividad del cliente\n",
    "                                </a>\n",
    "                            </span>\n",
    "                        </li>\n",
    "                         <li>\n",
    "                            <span>\n",
    "                                <a href=\"#2.3.2.-Género\" data-toc-modified-id=\"2.3.2.-Género-2.3.2\">\n",
    "                                    <span class=\"toc-item-num\">2.3.2.&nbsp;&nbsp;</span>Género\n",
    "                                </a>\n",
    "                            </span>\n",
    "                        </li>\n",
    "                         <li>\n",
    "                            <span>\n",
    "                                <a href=\"#2.3.3.-Tipo-de-Vivienda\" data-toc-modified-id=\"2.3.3.-Tipo-de-Vivienda-2.3.3\">\n",
    "                                    <span class=\"toc-item-num\">2.3.3.&nbsp;&nbsp;</span>Tipo de Vivienda\n",
    "                                </a>\n",
    "                            </span>\n",
    "                        </li>\n",
    "                        <li>\n",
    "                            <span>\n",
    "                                <a href=\"#2.3.4.-Tipo-de-Cliente\" data-toc-modified-id=\"2.3.4.-Tipo-de-Cliente-2.3.4\">\n",
    "                                    <span class=\"toc-item-num\">2.3.4.&nbsp;&nbsp;</span>Tipo de Cliente\n",
    "                                </a>\n",
    "                            </span>\n",
    "                        </li>\n",
    "                        <li>\n",
    "                            <span>\n",
    "                                <a href=\"#2.3.5.-Estado-civil-del-cliente\" data-toc-modified-id=\"2.3.5.-Estado-civil-del-cliente-2.3.5\">\n",
    "                                    <span class=\"toc-item-num\">2.3.5.&nbsp;&nbsp;</span>Estado civil del cliente\n",
    "                                </a>\n",
    "                            </span>\n",
    "                        </li>\n",
    "                    </ul>\n",
    "\t\t\t\t</li>\n",
    "\t\t\t\t<li>\n",
    "\t\t\t\t\t<span>\n",
    "\t\t\t\t\t\t<a href=\"#2.4.-Análisis-univariado-numérico\" data-toc-modified-id=\"2.4.-Análisis-univariado-numéric-2.4\">\n",
    "\t\t\t\t\t\t\t<span class=\"toc-item-num\">2.4.&nbsp;&nbsp;</span>Análisis univariado numérico\n",
    "\t\t\t\t\t\t</a>\n",
    "\t\t\t\t\t</span>\n",
    "\t\t\t\t\t<ul class=\"toc-item\">\n",
    "                        <li>\n",
    "                            <span>\n",
    "                                <a href=\"#2.4.1.-Tasa-de-interes-Efectiva-Anual\" data-toc-modified-id=\"2.4.1.-Tasa-de-interes-Efectiva-Anual-2.4.1\">\n",
    "                                    <span class=\"toc-item-num\">2.4.1.&nbsp;&nbsp;</span>Tasa de interes Efectiva Anual\n",
    "                                </a>\n",
    "                            </span>\n",
    "                        </li>\n",
    "                         <li>\n",
    "                            <span>\n",
    "                                <a href=\"#2.4.2.-Monto-solicitado-por-el-cliente\" data-toc-modified-id=\"2.4.2.-Monto-solicitado-por-el-cliente-2.4.2\">\n",
    "                                    <span class=\"toc-item-num\">2.4.2.&nbsp;&nbsp;</span>Monto solicitado por el cliente\n",
    "                                </a>\n",
    "                            </span>\n",
    "                        </li>\n",
    "                         <li>\n",
    "                            <span>\n",
    "                                <a href=\"#2.4.3.-Plazo-del-crédito-en-meses\" data-toc-modified-id=\"2.4.3.-Plazo-del-crédito-en-meses-2.4.3\">\n",
    "                                    <span class=\"toc-item-num\">2.4.3.&nbsp;&nbsp;</span>Plazo del crédito en meses\n",
    "                                </a>\n",
    "                            </span>\n",
    "                        </li>\n",
    "                        <li>\n",
    "                            <span>\n",
    "                                <a href=\"#2.4.4.-Antigüedad\" data-toc-modified-id=\"2.2.4.-Antigüedad-2.4.4\">\n",
    "                                    <span class=\"toc-item-num\">2.4.4.&nbsp;&nbsp;</span>Antigüedad\n",
    "                                </a>\n",
    "                            </span>\n",
    "                        </li>\n",
    "                        <li>\n",
    "                            <span>\n",
    "                                <a href=\"#2.4.5.-Edad-de-clientes\" data-toc-modified-id=\"2.4.5.-Edad-de-clientes-2.4.5\">\n",
    "                                    <span class=\"toc-item-num\">2.4.5.&nbsp;&nbsp;</span>Edad de clientes\n",
    "                                </a>\n",
    "                            </span>\n",
    "                        </li>\n",
    "\t\t\t\t\t\t<li>\n",
    "                            <span>\n",
    "                                <a href=\"#2.4.6.-Personas-a-Cargo\" data-toc-modified-id=\"2.4.6.-Personas-a-Cargo-2.4.6\">\n",
    "                                    <span class=\"toc-item-num\">2.4.6.&nbsp;&nbsp;</span>Personas a Cargo\n",
    "                                </a>\n",
    "                            </span>\n",
    "                        </li>\n",
    "                    </ul>\n",
    "\t\t\t\t</li>\n",
    "\t\t\t\t<li>\n",
    "\t\t\t\t\t<span>\n",
    "\t\t\t\t\t\t<a href=\"#2.5.-Conclusión-y-recomendaciones-de-análisis-univariado\" data-toc-modified-id=\"2.3.-Análisis-univariado-categórico-2.3\">\n",
    "\t\t\t\t\t\t\t<span class=\"toc-item-num\">2.5.&nbsp;&nbsp;</span>Conclusión y recomendaciones de análisis univariado\n",
    "\t\t\t\t\t\t</a>\n",
    "\t\t\t\t\t</span>\n",
    "\t\t\t\t</li>\n",
    "\t\t\t\t<li>\n",
    "\t\t\t\t\t<span>\n",
    "\t\t\t\t\t\t<a href=\"#2.6.-Análisis-multivariado\" data-toc-modified-id=\"2.6.-Análisis-multivariado-2.6\">\n",
    "\t\t\t\t\t\t\t<span class=\"toc-item-num\">2.6.&nbsp;&nbsp;</span>Análisis multivariado\n",
    "\t\t\t\t\t\t</a>\n",
    "\t\t\t\t\t</span>\n",
    "\t\t\t\t\t<ul class=\"toc-item\">\n",
    "                        <li>\n",
    "                            <span>\n",
    "                                <a href=\"#2.6.1.-Edad-Vs-Clientes-que-incurren-en-mora\" data-toc-modified-id=\"2.6.1.-Edad-Vs-Clientes-que-incurren-en-mora-2.6.1\">\n",
    "                                    <span class=\"toc-item-num\">2.6.1.&nbsp;&nbsp;</span>Edad Vs Clientes que incurren en mora\n",
    "                                </a>\n",
    "                            </span>\n",
    "                        </li>\n",
    "                         <li>\n",
    "                            <span>\n",
    "                                <a href=\"#2.6.2.-Plazo-Vs-Clientes-que-incurren-en-mora\" data-toc-modified-id=\"2.6.2.-Plazo-Vs-Clientes-que-incurren-en-mora-2.6.2\">\n",
    "                                    <span class=\"toc-item-num\">2.6.2.&nbsp;&nbsp;</span>Plazo Vs Clientes que incurren en mora\n",
    "                                </a>\n",
    "                            </span>\n",
    "                        </li>\n",
    "                         <li>\n",
    "                            <span>\n",
    "                                <a href=\"#2.6.3.-Tasa-Vs-Clientes-que-incurren-en-mora\" data-toc-modified-id=\"2.6.3.-Tasa-Vs-Clientes-que-incurren-en-mora-2.6.3\">\n",
    "                                    <span class=\"toc-item-num\">2.6.3.&nbsp;&nbsp;</span>Tasa Vs Clientes que incurren en mora\n",
    "                                </a>\n",
    "                            </span>\n",
    "                        </li>\n",
    "                        <li>\n",
    "                            <span>\n",
    "                                <a href=\"#2.6.4.-Análisis-de-Correlación-de-Pearson\" data-toc-modified-id=\"2.6.4.-Análisis-de-Correlación-de-Pearson-2.6.4\">\n",
    "                                    <span class=\"toc-item-num\">2.6.4.&nbsp;&nbsp;</span>Análisis de Correlación de Pearson\n",
    "                                </a>\n",
    "                            </span>\n",
    "                        </li>\n",
    "\t\t\t\t\t</ul>\n",
    "\t\t\t\t</li>\n",
    "\t\t\t\t<li>\n",
    "\t\t\t\t\t<span>\n",
    "\t\t\t\t\t\t<a href=\"#2.7.-Conclusión-análisis-multivariado\" data-toc-modified-id=\"2.7.-Conclusión-análisis-multivariado-2.7\">\n",
    "\t\t\t\t\t\t\t<span class=\"toc-item-num\">2.7.&nbsp;&nbsp;</span>Conclusión análisis multivariadoo\n",
    "\t\t\t\t\t\t</a>\n",
    "\t\t\t\t\t</span>      \n",
    "                    </ul>\n",
    "\t\t\t\t</li>\n",
    "\t\t\t</ul>\n",
    "        </li>\n",
    "\t\t<li>\n",
    "\t\t\t<span>\n",
    "\t\t\t\t<a href=\"#3.-Modelo-Predictivo-de-Mora\" data-toc-modified-id=\"3.-Modelo-Predictivo-de-Mora-3\">\n",
    "\t\t\t\t\t<span class=\"toc-item-num\">3.&nbsp;&nbsp;</span>Modelo Predictivo de Mora\n",
    "\t\t\t\t</a>\n",
    "\t\t\t</span>\n",
    "\t\t\t<ul class=\"toc-item\">\n",
    "\t\t\t\t<li>\n",
    "\t\t\t\t\t<span>\n",
    "\t\t\t\t\t\t<a href=\"#3.1-Conclusión-a-pregunta-SMART\" data-toc-modified-id=\"3.1-Conclusión-a-pregunta-SMART-3.1\">\n",
    "\t\t\t\t\t\t\t<span class=\"toc-item-num\">3.1.&nbsp;&nbsp;</span>Conclusión a pregunta SMART\n",
    "\t\t\t\t\t\t</a>\n",
    "\t\t\t\t\t</span>\n",
    "\t\t\t\t</li>\n",
    "\t\t\t</ul>\n",
    "\t\t</li>\n",
    "    </ul>\n",
    "</div>"
   ]
  },
  {
   "cell_type": "markdown",
   "id": "3f6614e7",
   "metadata": {},
   "source": [
    "___\n",
    "___\n"
   ]
  },
  {
   "cell_type": "code",
   "execution_count": 77,
   "id": "153bd8af",
   "metadata": {},
   "outputs": [],
   "source": [
    "#Cargamos librerias basicas\n",
    "\n",
    "import pandas as pd\n",
    "import numpy as np\n",
    "import matplotlib.pyplot as plt\n",
    "from matplotlib import rcParams\n",
    "import seaborn as sns\n",
    "\n",
    "# Importamos las librerias para modelado\n",
    "from sklearn import datasets\n",
    "from sklearn.model_selection import train_test_split\n",
    "from sklearn.ensemble import RandomForestClassifier\n",
    "from sklearn.tree import DecisionTreeClassifier\n",
    "from sklearn.metrics import accuracy_score, classification_report, confusion_matrix"
   ]
  },
  {
   "cell_type": "markdown",
   "id": "59207e0f",
   "metadata": {},
   "source": [
    "## 1. Contexto"
   ]
  },
  {
   "cell_type": "markdown",
   "id": "8427910a",
   "metadata": {},
   "source": [
    "En el contexto de Banco Contactar, la identificación de características que puedan prever la propensión de los clientes a caer en mora se erige como un punto crucial. Esta tarea adquiere una relevancia estratégica ineludible, dado que la incidencia de clientes en situación de morosidad no solo impacta en la estabilidad financiera de la entidad, sino que también representa pérdidas económicas significativas. Por tanto, es imperativo llevar a cabo un análisis exhaustivo que permita discernir patrones y comportamientos que puedan anticipar este riesgo.\n",
    "\n",
    "La detección temprana de perfiles con tendencia a la morosidad no solo permite implementar medidas preventivas para mitigar el riesgo crediticio, sino que también posibilita una gestión proactiva de la cartera de clientes. Identificar las señales de alerta y los factores subyacentes que predisponen a los clientes a incumplir con sus obligaciones financieras facilita la implementación de estrategias personalizadas de gestión de riesgos."
   ]
  },
  {
   "cell_type": "markdown",
   "id": "1951f168",
   "metadata": {},
   "source": [
    "### 1.1 Pregunta Smart\n",
    "\n",
    "¿Cuáles son las características específicas y medibles de los clientes que incurren en morosidad (con un retraso de pago igual o superior a 1 día) en Banco Contactar, que podrían ser identificadas mediante un análisis exhaustivo de datos?\"\n",
    "\n",
    "#### Desglose de la pregunta SMART:\n",
    "\n",
    "<strong>Específica:</strong> La pregunta se centra específicamente en las características de los clientes que caen en morosidad en Banco Contactar, evitando generalizaciones o ambigüedades.\n",
    "\n",
    "<strong>Medible:</strong> La pregunta busca identificar características que pueden ser cuantificadas y medidas de manera objetiva, como el historial de pagos, el monto del préstamo, la edad del cliente, entre otros factores.\n",
    "\n",
    "<strong>Alcanzable:</strong> La pregunta es realista y alcanzable mediante la recopilación y el análisis de datos disponibles en la entidad financiera.\n",
    "\n",
    "<strong>Relevante:</strong> La pregunta está directamente relacionada con el objetivo de identificar características que puedan prever la propensión de los clientes a caer en mora, lo cual es crucial para la estabilidad financiera y la gestión de riesgos de Banco Contactar.\n",
    "\n",
    "<strong>Temporalmente definida:</strong> Aunque no se especifica un plazo temporal en la pregunta, se entiende que se refiere a una situación presente y continua, donde se busca comprender las características actuales de los clientes en morosidad en Banco Contactar."
   ]
  },
  {
   "cell_type": "markdown",
   "id": "23252f09",
   "metadata": {},
   "source": [
    "### 1.2. Descripción del dataset\n",
    "La base pertenece a la cantidad de clientes actuales de la entidad, equivalente a 143.039 clientes y contiene 13 variables, donde existen tanto variables demográficas como características propias del cliente de cara a su vinculación a la entidad. Tambien presenta la tres variables importantes que componen un crédito, los cuales son plazo, monto y tasa."
   ]
  },
  {
   "cell_type": "markdown",
   "id": "ba8a6bd5",
   "metadata": {},
   "source": [
    "### 1.3. Descripción de los campos del dataset"
   ]
  },
  {
   "cell_type": "markdown",
   "id": "bee1579a",
   "metadata": {},
   "source": [
    "| Columna | Descripción | Tipo |\n",
    "|:--------:|:--------:|:--------:|\n",
    "| ID | Identificador de cliente | Cuantitativa Discreta | \n",
    "| Sector_Actividad | Actividad del cliente | Cualitativa Nominal| \n",
    "| Tasa | Tasa de interés efectiva anual  | Cuantitativa Cotinua | \n",
    "| Monto | Monto solicitado por el cliente  | Cuantitativa Discreta| \n",
    "| Plazo_Meses | Plazo del crédito en número de meses | Cuantitativa Discreta| \n",
    "| Antiguedad | Años de antiguedad del cliente en la entidad | Cuantitativa Discreta| \n",
    "| Sexo | Genero del cliente | Cualitativa Nominal| \n",
    "| Tipo_Vivienda | Tipo de propiedad de vivienda del cliente | Cualitativa Nominal|\n",
    "| Tipo_cliente | Categoria interna del cliente | Cualitativa Ordinal|\n",
    "| Edad | Edad en años del cliente | Cuantitativa Discreta|\n",
    "| Personas_a_Cargo | Personas a cargo económicamente del cliente | Cuantitativa Discreta|\n",
    "| Estado_Civil | Estado civíl del cliente | Cualitativa Ordinal |\n",
    "| Mora | Identificador de Mora del cliente - Variable objetivo, 1:si y 2:no | Cuantitativa Discreta|"
   ]
  },
  {
   "cell_type": "markdown",
   "id": "8ff9cf09",
   "metadata": {},
   "source": [
    "### 1.4. Obtención de datos"
   ]
  },
  {
   "cell_type": "code",
   "execution_count": 78,
   "id": "c634026c",
   "metadata": {
    "scrolled": true
   },
   "outputs": [],
   "source": [
    "# Cargamos el dataset\n",
    "url=\"https://raw.githubusercontent.com/leoe21/analisis_exploratorio/esteban_ordonez/Taller_final/0_mora_v3.csv\"\n",
    "df=pd.read_csv(url,  encoding=\"latin-1\", sep=';',decimal=\",\")"
   ]
  },
  {
   "cell_type": "code",
   "execution_count": 79,
   "id": "329b3315",
   "metadata": {
    "scrolled": true
   },
   "outputs": [
    {
     "data": {
      "text/html": [
       "<div>\n",
       "<style scoped>\n",
       "    .dataframe tbody tr th:only-of-type {\n",
       "        vertical-align: middle;\n",
       "    }\n",
       "\n",
       "    .dataframe tbody tr th {\n",
       "        vertical-align: top;\n",
       "    }\n",
       "\n",
       "    .dataframe thead th {\n",
       "        text-align: right;\n",
       "    }\n",
       "</style>\n",
       "<table border=\"1\" class=\"dataframe\">\n",
       "  <thead>\n",
       "    <tr style=\"text-align: right;\">\n",
       "      <th></th>\n",
       "      <th>ID</th>\n",
       "      <th>Sector_Actividad</th>\n",
       "      <th>Tasa</th>\n",
       "      <th>Monto</th>\n",
       "      <th>Plazo_Meses</th>\n",
       "      <th>Antiguedad</th>\n",
       "      <th>Sexo</th>\n",
       "      <th>Tipo_Vivienda</th>\n",
       "      <th>Tipo_cliente</th>\n",
       "      <th>Edad</th>\n",
       "      <th>Personas_a_Cargo</th>\n",
       "      <th>Estado_Civil</th>\n",
       "      <th>Mora</th>\n",
       "    </tr>\n",
       "  </thead>\n",
       "  <tbody>\n",
       "    <tr>\n",
       "      <th>0</th>\n",
       "      <td>1</td>\n",
       "      <td>COMERCIO</td>\n",
       "      <td>52.89</td>\n",
       "      <td>2400000</td>\n",
       "      <td>12</td>\n",
       "      <td>2</td>\n",
       "      <td>1.0</td>\n",
       "      <td>Arrendada</td>\n",
       "      <td>Nuevo</td>\n",
       "      <td>24</td>\n",
       "      <td>0</td>\n",
       "      <td>Unión Libre</td>\n",
       "      <td>No</td>\n",
       "    </tr>\n",
       "    <tr>\n",
       "      <th>1</th>\n",
       "      <td>2</td>\n",
       "      <td>AGRICULTURA</td>\n",
       "      <td>55.00</td>\n",
       "      <td>5582000</td>\n",
       "      <td>23</td>\n",
       "      <td>2</td>\n",
       "      <td>1.0</td>\n",
       "      <td>Arrendada</td>\n",
       "      <td>Nuevo</td>\n",
       "      <td>34</td>\n",
       "      <td>1</td>\n",
       "      <td>Casado/a</td>\n",
       "      <td>Si</td>\n",
       "    </tr>\n",
       "    <tr>\n",
       "      <th>2</th>\n",
       "      <td>3</td>\n",
       "      <td>COMERCIO</td>\n",
       "      <td>52.39</td>\n",
       "      <td>2300000</td>\n",
       "      <td>20</td>\n",
       "      <td>2</td>\n",
       "      <td>1.0</td>\n",
       "      <td>Arrendada</td>\n",
       "      <td>Nuevo</td>\n",
       "      <td>23</td>\n",
       "      <td>0</td>\n",
       "      <td>Soltero/a</td>\n",
       "      <td>No</td>\n",
       "    </tr>\n",
       "    <tr>\n",
       "      <th>3</th>\n",
       "      <td>4</td>\n",
       "      <td>ARTESANÍAS</td>\n",
       "      <td>55.20</td>\n",
       "      <td>1774000</td>\n",
       "      <td>16</td>\n",
       "      <td>2</td>\n",
       "      <td>2.0</td>\n",
       "      <td>Familiar</td>\n",
       "      <td>Nuevo</td>\n",
       "      <td>22</td>\n",
       "      <td>0</td>\n",
       "      <td>Soltero/a</td>\n",
       "      <td>No</td>\n",
       "    </tr>\n",
       "    <tr>\n",
       "      <th>4</th>\n",
       "      <td>5</td>\n",
       "      <td>SERVICIOS</td>\n",
       "      <td>63.00</td>\n",
       "      <td>2000000</td>\n",
       "      <td>14</td>\n",
       "      <td>2</td>\n",
       "      <td>1.0</td>\n",
       "      <td>Familiar</td>\n",
       "      <td>Nuevo</td>\n",
       "      <td>21</td>\n",
       "      <td>0</td>\n",
       "      <td>Soltero/a</td>\n",
       "      <td>No</td>\n",
       "    </tr>\n",
       "    <tr>\n",
       "      <th>5</th>\n",
       "      <td>6</td>\n",
       "      <td>SERVICIOS</td>\n",
       "      <td>52.89</td>\n",
       "      <td>4100000</td>\n",
       "      <td>18</td>\n",
       "      <td>2</td>\n",
       "      <td>1.0</td>\n",
       "      <td>Familiar</td>\n",
       "      <td>Nuevo</td>\n",
       "      <td>23</td>\n",
       "      <td>1</td>\n",
       "      <td>Unión Libre</td>\n",
       "      <td>No</td>\n",
       "    </tr>\n",
       "    <tr>\n",
       "      <th>6</th>\n",
       "      <td>7</td>\n",
       "      <td>SERVICIOS</td>\n",
       "      <td>52.39</td>\n",
       "      <td>1300000</td>\n",
       "      <td>12</td>\n",
       "      <td>2</td>\n",
       "      <td>2.0</td>\n",
       "      <td>Familiar</td>\n",
       "      <td>Nuevo</td>\n",
       "      <td>21</td>\n",
       "      <td>0</td>\n",
       "      <td>Soltero/a</td>\n",
       "      <td>Si</td>\n",
       "    </tr>\n",
       "    <tr>\n",
       "      <th>7</th>\n",
       "      <td>8</td>\n",
       "      <td>COMERCIO</td>\n",
       "      <td>52.89</td>\n",
       "      <td>3500000</td>\n",
       "      <td>12</td>\n",
       "      <td>2</td>\n",
       "      <td>2.0</td>\n",
       "      <td>Familiar</td>\n",
       "      <td>Nuevo</td>\n",
       "      <td>20</td>\n",
       "      <td>0</td>\n",
       "      <td>Soltero/a</td>\n",
       "      <td>No</td>\n",
       "    </tr>\n",
       "    <tr>\n",
       "      <th>8</th>\n",
       "      <td>9</td>\n",
       "      <td>COMERCIO</td>\n",
       "      <td>51.50</td>\n",
       "      <td>6581000</td>\n",
       "      <td>19</td>\n",
       "      <td>2</td>\n",
       "      <td>1.0</td>\n",
       "      <td>Arrendada</td>\n",
       "      <td>Nuevo</td>\n",
       "      <td>24</td>\n",
       "      <td>0</td>\n",
       "      <td>Soltero/a</td>\n",
       "      <td>Si</td>\n",
       "    </tr>\n",
       "    <tr>\n",
       "      <th>9</th>\n",
       "      <td>10</td>\n",
       "      <td>COMERCIO</td>\n",
       "      <td>52.39</td>\n",
       "      <td>2440000</td>\n",
       "      <td>18</td>\n",
       "      <td>2</td>\n",
       "      <td>1.0</td>\n",
       "      <td>Familiar</td>\n",
       "      <td>Nuevo</td>\n",
       "      <td>23</td>\n",
       "      <td>0</td>\n",
       "      <td>Soltero/a</td>\n",
       "      <td>No</td>\n",
       "    </tr>\n",
       "  </tbody>\n",
       "</table>\n",
       "</div>"
      ],
      "text/plain": [
       "   ID Sector_Actividad   Tasa    Monto  Plazo_Meses  Antiguedad  Sexo  \\\n",
       "0   1         COMERCIO  52.89  2400000           12           2   1.0   \n",
       "1   2      AGRICULTURA  55.00  5582000           23           2   1.0   \n",
       "2   3         COMERCIO  52.39  2300000           20           2   1.0   \n",
       "3   4       ARTESANÍAS  55.20  1774000           16           2   2.0   \n",
       "4   5        SERVICIOS  63.00  2000000           14           2   1.0   \n",
       "5   6        SERVICIOS  52.89  4100000           18           2   1.0   \n",
       "6   7        SERVICIOS  52.39  1300000           12           2   2.0   \n",
       "7   8         COMERCIO  52.89  3500000           12           2   2.0   \n",
       "8   9         COMERCIO  51.50  6581000           19           2   1.0   \n",
       "9  10         COMERCIO  52.39  2440000           18           2   1.0   \n",
       "\n",
       "  Tipo_Vivienda Tipo_cliente  Edad  Personas_a_Cargo Estado_Civil Mora  \n",
       "0     Arrendada        Nuevo    24                 0  Unión Libre   No  \n",
       "1     Arrendada        Nuevo    34                 1     Casado/a   Si  \n",
       "2     Arrendada        Nuevo    23                 0    Soltero/a   No  \n",
       "3      Familiar        Nuevo    22                 0    Soltero/a   No  \n",
       "4      Familiar        Nuevo    21                 0    Soltero/a   No  \n",
       "5      Familiar        Nuevo    23                 1  Unión Libre   No  \n",
       "6      Familiar        Nuevo    21                 0    Soltero/a   Si  \n",
       "7      Familiar        Nuevo    20                 0    Soltero/a   No  \n",
       "8     Arrendada        Nuevo    24                 0    Soltero/a   Si  \n",
       "9      Familiar        Nuevo    23                 0    Soltero/a   No  "
      ]
     },
     "execution_count": 79,
     "metadata": {},
     "output_type": "execute_result"
    }
   ],
   "source": [
    "#observamos los 10 primeros registros del dataset\n",
    "df.head(10)"
   ]
  },
  {
   "cell_type": "code",
   "execution_count": 80,
   "id": "cf944c29",
   "metadata": {
    "scrolled": false
   },
   "outputs": [
    {
     "data": {
      "text/html": [
       "<div>\n",
       "<style scoped>\n",
       "    .dataframe tbody tr th:only-of-type {\n",
       "        vertical-align: middle;\n",
       "    }\n",
       "\n",
       "    .dataframe tbody tr th {\n",
       "        vertical-align: top;\n",
       "    }\n",
       "\n",
       "    .dataframe thead th {\n",
       "        text-align: right;\n",
       "    }\n",
       "</style>\n",
       "<table border=\"1\" class=\"dataframe\">\n",
       "  <thead>\n",
       "    <tr style=\"text-align: right;\">\n",
       "      <th></th>\n",
       "      <th>ID</th>\n",
       "      <th>Sector_Actividad</th>\n",
       "      <th>Tasa</th>\n",
       "      <th>Monto</th>\n",
       "      <th>Plazo_Meses</th>\n",
       "      <th>Antiguedad</th>\n",
       "      <th>Sexo</th>\n",
       "      <th>Tipo_Vivienda</th>\n",
       "      <th>Tipo_cliente</th>\n",
       "      <th>Edad</th>\n",
       "      <th>Personas_a_Cargo</th>\n",
       "      <th>Estado_Civil</th>\n",
       "      <th>Mora</th>\n",
       "    </tr>\n",
       "  </thead>\n",
       "  <tbody>\n",
       "    <tr>\n",
       "      <th>143029</th>\n",
       "      <td>143030</td>\n",
       "      <td>ACTIVIDADES DEPENDIENTES</td>\n",
       "      <td>34.98</td>\n",
       "      <td>3000000</td>\n",
       "      <td>11</td>\n",
       "      <td>2</td>\n",
       "      <td>2.0</td>\n",
       "      <td>Arrendada</td>\n",
       "      <td>Nuevo</td>\n",
       "      <td>28</td>\n",
       "      <td>1</td>\n",
       "      <td>Soltero/a</td>\n",
       "      <td>No</td>\n",
       "    </tr>\n",
       "    <tr>\n",
       "      <th>143030</th>\n",
       "      <td>143031</td>\n",
       "      <td>COMERCIO</td>\n",
       "      <td>52.89</td>\n",
       "      <td>3500000</td>\n",
       "      <td>12</td>\n",
       "      <td>2</td>\n",
       "      <td>1.0</td>\n",
       "      <td>Arrendada</td>\n",
       "      <td>Nuevo</td>\n",
       "      <td>44</td>\n",
       "      <td>2</td>\n",
       "      <td>Unión Libre</td>\n",
       "      <td>No</td>\n",
       "    </tr>\n",
       "    <tr>\n",
       "      <th>143031</th>\n",
       "      <td>143032</td>\n",
       "      <td>COMERCIO</td>\n",
       "      <td>40.00</td>\n",
       "      <td>25770960</td>\n",
       "      <td>30</td>\n",
       "      <td>2</td>\n",
       "      <td>1.0</td>\n",
       "      <td>Familiar</td>\n",
       "      <td>Nuevo</td>\n",
       "      <td>31</td>\n",
       "      <td>0</td>\n",
       "      <td>Soltero/a</td>\n",
       "      <td>No</td>\n",
       "    </tr>\n",
       "    <tr>\n",
       "      <th>143032</th>\n",
       "      <td>143033</td>\n",
       "      <td>ACTIVIDADES DEPENDIENTES</td>\n",
       "      <td>39.80</td>\n",
       "      <td>3273600</td>\n",
       "      <td>16</td>\n",
       "      <td>2</td>\n",
       "      <td>2.0</td>\n",
       "      <td>Arrendada</td>\n",
       "      <td>Nuevo</td>\n",
       "      <td>33</td>\n",
       "      <td>1</td>\n",
       "      <td>Separado/a</td>\n",
       "      <td>No</td>\n",
       "    </tr>\n",
       "    <tr>\n",
       "      <th>143033</th>\n",
       "      <td>143034</td>\n",
       "      <td>SERVICIOS</td>\n",
       "      <td>54.00</td>\n",
       "      <td>6469000</td>\n",
       "      <td>27</td>\n",
       "      <td>2</td>\n",
       "      <td>2.0</td>\n",
       "      <td>Propia con Deuda</td>\n",
       "      <td>Nuevo</td>\n",
       "      <td>32</td>\n",
       "      <td>0</td>\n",
       "      <td>Soltero/a</td>\n",
       "      <td>No</td>\n",
       "    </tr>\n",
       "    <tr>\n",
       "      <th>143034</th>\n",
       "      <td>143035</td>\n",
       "      <td>COMERCIO</td>\n",
       "      <td>52.89</td>\n",
       "      <td>4350000</td>\n",
       "      <td>18</td>\n",
       "      <td>2</td>\n",
       "      <td>1.0</td>\n",
       "      <td>NaN</td>\n",
       "      <td>Nuevo</td>\n",
       "      <td>35</td>\n",
       "      <td>3</td>\n",
       "      <td>Soltero/a</td>\n",
       "      <td>No</td>\n",
       "    </tr>\n",
       "    <tr>\n",
       "      <th>143035</th>\n",
       "      <td>143036</td>\n",
       "      <td>COMERCIO</td>\n",
       "      <td>46.00</td>\n",
       "      <td>15300000</td>\n",
       "      <td>12</td>\n",
       "      <td>2</td>\n",
       "      <td>1.0</td>\n",
       "      <td>NaN</td>\n",
       "      <td>Nuevo</td>\n",
       "      <td>32</td>\n",
       "      <td>1</td>\n",
       "      <td>Casado/a</td>\n",
       "      <td>No</td>\n",
       "    </tr>\n",
       "    <tr>\n",
       "      <th>143036</th>\n",
       "      <td>143037</td>\n",
       "      <td>COMERCIO</td>\n",
       "      <td>52.39</td>\n",
       "      <td>4500000</td>\n",
       "      <td>12</td>\n",
       "      <td>2</td>\n",
       "      <td>1.0</td>\n",
       "      <td>NaN</td>\n",
       "      <td>Nuevo</td>\n",
       "      <td>42</td>\n",
       "      <td>2</td>\n",
       "      <td>Unión Libre</td>\n",
       "      <td>No</td>\n",
       "    </tr>\n",
       "    <tr>\n",
       "      <th>143037</th>\n",
       "      <td>143038</td>\n",
       "      <td>COMERCIO</td>\n",
       "      <td>43.14</td>\n",
       "      <td>8200000</td>\n",
       "      <td>24</td>\n",
       "      <td>2</td>\n",
       "      <td>2.0</td>\n",
       "      <td>Arrendada</td>\n",
       "      <td>Nuevo</td>\n",
       "      <td>67</td>\n",
       "      <td>0</td>\n",
       "      <td>NaN</td>\n",
       "      <td>No</td>\n",
       "    </tr>\n",
       "    <tr>\n",
       "      <th>143038</th>\n",
       "      <td>143039</td>\n",
       "      <td>COMERCIO</td>\n",
       "      <td>52.39</td>\n",
       "      <td>6000000</td>\n",
       "      <td>24</td>\n",
       "      <td>2</td>\n",
       "      <td>2.0</td>\n",
       "      <td>Propia con Deuda</td>\n",
       "      <td>Nuevo</td>\n",
       "      <td>55</td>\n",
       "      <td>0</td>\n",
       "      <td>Casado/a</td>\n",
       "      <td>No</td>\n",
       "    </tr>\n",
       "  </tbody>\n",
       "</table>\n",
       "</div>"
      ],
      "text/plain": [
       "            ID          Sector_Actividad   Tasa     Monto  Plazo_Meses  \\\n",
       "143029  143030  ACTIVIDADES DEPENDIENTES  34.98   3000000           11   \n",
       "143030  143031                  COMERCIO  52.89   3500000           12   \n",
       "143031  143032                  COMERCIO  40.00  25770960           30   \n",
       "143032  143033  ACTIVIDADES DEPENDIENTES  39.80   3273600           16   \n",
       "143033  143034                 SERVICIOS  54.00   6469000           27   \n",
       "143034  143035                  COMERCIO  52.89   4350000           18   \n",
       "143035  143036                  COMERCIO  46.00  15300000           12   \n",
       "143036  143037                  COMERCIO  52.39   4500000           12   \n",
       "143037  143038                  COMERCIO  43.14   8200000           24   \n",
       "143038  143039                  COMERCIO  52.39   6000000           24   \n",
       "\n",
       "        Antiguedad  Sexo     Tipo_Vivienda Tipo_cliente  Edad  \\\n",
       "143029           2   2.0         Arrendada        Nuevo    28   \n",
       "143030           2   1.0         Arrendada        Nuevo    44   \n",
       "143031           2   1.0          Familiar        Nuevo    31   \n",
       "143032           2   2.0         Arrendada        Nuevo    33   \n",
       "143033           2   2.0  Propia con Deuda        Nuevo    32   \n",
       "143034           2   1.0               NaN        Nuevo    35   \n",
       "143035           2   1.0               NaN        Nuevo    32   \n",
       "143036           2   1.0               NaN        Nuevo    42   \n",
       "143037           2   2.0         Arrendada        Nuevo    67   \n",
       "143038           2   2.0  Propia con Deuda        Nuevo    55   \n",
       "\n",
       "        Personas_a_Cargo Estado_Civil Mora  \n",
       "143029                 1    Soltero/a   No  \n",
       "143030                 2  Unión Libre   No  \n",
       "143031                 0    Soltero/a   No  \n",
       "143032                 1   Separado/a   No  \n",
       "143033                 0    Soltero/a   No  \n",
       "143034                 3    Soltero/a   No  \n",
       "143035                 1     Casado/a   No  \n",
       "143036                 2  Unión Libre   No  \n",
       "143037                 0          NaN   No  \n",
       "143038                 0     Casado/a   No  "
      ]
     },
     "execution_count": 80,
     "metadata": {},
     "output_type": "execute_result"
    }
   ],
   "source": [
    "#observamos los 10 ultimos registros del dataset\n",
    "df.tail(10)"
   ]
  },
  {
   "cell_type": "markdown",
   "id": "eaaab283",
   "metadata": {},
   "source": [
    "## 2. Análisis Exploratorio"
   ]
  },
  {
   "cell_type": "markdown",
   "id": "f84f082e",
   "metadata": {},
   "source": [
    "El análisis exploratorio constituye una fase fundamental en la comprensión detallada de los datos recopilados, proporcionando insights valiosos que orientan la toma de decisiones estratégicas. En este capítulo, nos adentramos en la exploración meticulosa de los datos relacionados con la morosidad en Banco Contactar. Este análisis busca desentrañar patrones, tendencias y relaciones subyacentes que puedan ofrecer una comprensión más profunda de los factores que contribuyen a la propensión de los clientes a caer en mora."
   ]
  },
  {
   "cell_type": "markdown",
   "id": "934f9946",
   "metadata": {},
   "source": [
    "### 2.1. Análisis Estructural"
   ]
  },
  {
   "cell_type": "code",
   "execution_count": 81,
   "id": "4f121c8a",
   "metadata": {},
   "outputs": [
    {
     "data": {
      "text/plain": [
       "(143039, 13)"
      ]
     },
     "execution_count": 81,
     "metadata": {},
     "output_type": "execute_result"
    }
   ],
   "source": [
    "#Conocemos la cantidad de filas y columnas del dataset\n",
    "df.shape"
   ]
  },
  {
   "cell_type": "code",
   "execution_count": 82,
   "id": "0e80a359",
   "metadata": {
    "scrolled": true
   },
   "outputs": [
    {
     "name": "stdout",
     "output_type": "stream",
     "text": [
      "<class 'pandas.core.frame.DataFrame'>\n",
      "RangeIndex: 143039 entries, 0 to 143038\n",
      "Data columns (total 13 columns):\n",
      " #   Column            Non-Null Count   Dtype  \n",
      "---  ------            --------------   -----  \n",
      " 0   ID                143039 non-null  int64  \n",
      " 1   Sector_Actividad  143037 non-null  object \n",
      " 2   Tasa              143002 non-null  float64\n",
      " 3   Monto             143039 non-null  int64  \n",
      " 4   Plazo_Meses       143039 non-null  int64  \n",
      " 5   Antiguedad        143039 non-null  int64  \n",
      " 6   Sexo              142795 non-null  float64\n",
      " 7   Tipo_Vivienda     141545 non-null  object \n",
      " 8   Tipo_cliente      143039 non-null  object \n",
      " 9   Edad              143039 non-null  int64  \n",
      " 10  Personas_a_Cargo  143039 non-null  int64  \n",
      " 11  Estado_Civil      142724 non-null  object \n",
      " 12  Mora              143039 non-null  object \n",
      "dtypes: float64(2), int64(6), object(5)\n",
      "memory usage: 14.2+ MB\n"
     ]
    }
   ],
   "source": [
    "#Conocemos si existen campos nulos y el tipo de variable de cada columna\n",
    "df.info()"
   ]
  },
  {
   "cell_type": "code",
   "execution_count": 83,
   "id": "37a2c70f",
   "metadata": {
    "scrolled": true
   },
   "outputs": [
    {
     "data": {
      "text/plain": [
       "ID                     0\n",
       "Sector_Actividad       2\n",
       "Tasa                  37\n",
       "Monto                  0\n",
       "Plazo_Meses            0\n",
       "Antiguedad             0\n",
       "Sexo                 244\n",
       "Tipo_Vivienda       1494\n",
       "Tipo_cliente           0\n",
       "Edad                   0\n",
       "Personas_a_Cargo       0\n",
       "Estado_Civil         315\n",
       "Mora                   0\n",
       "dtype: int64"
      ]
     },
     "execution_count": 83,
     "metadata": {},
     "output_type": "execute_result"
    }
   ],
   "source": [
    "# Detección de cantidad de valores nulos por columna\n",
    "df.isna().sum()"
   ]
  },
  {
   "cell_type": "markdown",
   "id": "033257be",
   "metadata": {},
   "source": [
    "Existen 5 columnas con campos nulos: Sector_Actividad, Tasa, Sexo, Tipo_Vivienda y Estado_Civil."
   ]
  },
  {
   "cell_type": "markdown",
   "id": "fec108a7",
   "metadata": {},
   "source": [
    "### 2.2. Tratamiento de valores nulos"
   ]
  },
  {
   "cell_type": "markdown",
   "id": "311204d7",
   "metadata": {},
   "source": [
    "#### 2.2.1. Nulos de Sector Actividad"
   ]
  },
  {
   "cell_type": "code",
   "execution_count": 84,
   "id": "362f38df",
   "metadata": {
    "scrolled": true
   },
   "outputs": [
    {
     "data": {
      "text/plain": [
       "Sector_Actividad\n",
       "AGRICULTURA                   40570\n",
       "SERVICIOS                     31837\n",
       "COMERCIO                      28004\n",
       "PECUARIO                      20117\n",
       "ACTIVIDADES DEPENDIENTES      10613\n",
       "INDUSTRIA                      4209\n",
       "AGROINDUSTRIA                  2662\n",
       "CONFECCIONES                   2215\n",
       "ARTESANÍAS                     1074\n",
       "MADERA                          924\n",
       "PESCA                           317\n",
       "CUEROS                          305\n",
       "ALFARERÍA                       108\n",
       "METALMECÁNICA                    62\n",
       "ACTIVIDADES INDEPENDIENTES       20\n",
       "NaN                               2\n",
       "Name: count, dtype: int64"
      ]
     },
     "execution_count": 84,
     "metadata": {},
     "output_type": "execute_result"
    }
   ],
   "source": [
    "# Identificamos el sector de actividad de mayor frecuencia\n",
    "df['Sector_Actividad'].value_counts(dropna=False)"
   ]
  },
  {
   "cell_type": "code",
   "execution_count": 85,
   "id": "1f7d165b",
   "metadata": {},
   "outputs": [],
   "source": [
    "# Reemplazamos los datos nulos por la actividad con mayor frecuencia, es decir, Agricultura"
   ]
  },
  {
   "cell_type": "code",
   "execution_count": 86,
   "id": "a3f6e1c7",
   "metadata": {},
   "outputs": [],
   "source": [
    "df['Sector_Actividad'].replace(np.nan, \"AGRICULTURA\", inplace=True)"
   ]
  },
  {
   "cell_type": "markdown",
   "id": "c89f696f",
   "metadata": {},
   "source": [
    "#### 2.2.2. Nulos de Tasa de interes"
   ]
  },
  {
   "cell_type": "code",
   "execution_count": 87,
   "id": "bc807c34",
   "metadata": {},
   "outputs": [
    {
     "data": {
      "text/plain": [
       "37"
      ]
     },
     "execution_count": 87,
     "metadata": {},
     "output_type": "execute_result"
    }
   ],
   "source": [
    "# Contamos los datos nulos\n",
    "df['Tasa'].isna().sum()"
   ]
  },
  {
   "cell_type": "code",
   "execution_count": 88,
   "id": "69705acf",
   "metadata": {},
   "outputs": [],
   "source": [
    "# Reemplazmos los valores nulos por el promedio de tasa\n",
    "avg_tasa = df[\"Tasa\"].astype(\"float\").mean()\n",
    "df[\"Tasa\"].replace(np.nan, avg_tasa, inplace=True)"
   ]
  },
  {
   "cell_type": "code",
   "execution_count": 89,
   "id": "998aac88",
   "metadata": {
    "scrolled": false
   },
   "outputs": [
    {
     "name": "stdout",
     "output_type": "stream",
     "text": [
      "<class 'pandas.core.series.Series'>\n",
      "RangeIndex: 143039 entries, 0 to 143038\n",
      "Series name: Tasa\n",
      "Non-Null Count   Dtype  \n",
      "--------------   -----  \n",
      "143039 non-null  float64\n",
      "dtypes: float64(1)\n",
      "memory usage: 1.1 MB\n"
     ]
    }
   ],
   "source": [
    "df['Tasa'].info()"
   ]
  },
  {
   "cell_type": "markdown",
   "id": "8e9aa5d4",
   "metadata": {},
   "source": [
    "#### 2.2.3. Nulos de Genero del cliente"
   ]
  },
  {
   "cell_type": "code",
   "execution_count": 90,
   "id": "e95f20d0",
   "metadata": {},
   "outputs": [
    {
     "data": {
      "text/plain": [
       "Sexo\n",
       "2.0    71865\n",
       "1.0    70909\n",
       "NaN      244\n",
       "3.0       12\n",
       "4.0        9\n",
       "Name: count, dtype: int64"
      ]
     },
     "execution_count": 90,
     "metadata": {},
     "output_type": "execute_result"
    }
   ],
   "source": [
    "# Identificamos el genero de mayor frecuencia\n",
    "df[\"Sexo\"].value_counts(dropna=False)\n"
   ]
  },
  {
   "cell_type": "code",
   "execution_count": 91,
   "id": "9394bbaa",
   "metadata": {},
   "outputs": [],
   "source": [
    "# Reemplazamos los datos nulos por el genero de mayor frecuencia, es decir, Hombre\n",
    "df[\"Sexo\"].replace(np.nan, \"Hombre\", inplace=True)"
   ]
  },
  {
   "cell_type": "markdown",
   "id": "c1158b7d",
   "metadata": {},
   "source": [
    "#### 2.2.4. Nulos de Tipo de vivienda"
   ]
  },
  {
   "cell_type": "code",
   "execution_count": 92,
   "id": "c26f12d8",
   "metadata": {},
   "outputs": [
    {
     "data": {
      "text/plain": [
       "Tipo_Vivienda\n",
       "Propia sin Deuda    69242\n",
       "Familiar            39868\n",
       "Arrendada           26522\n",
       "Propia con Deuda     5873\n",
       "NaN                  1494\n",
       "Anticresis             40\n",
       "Name: count, dtype: int64"
      ]
     },
     "execution_count": 92,
     "metadata": {},
     "output_type": "execute_result"
    }
   ],
   "source": [
    "# Identificamos el tipo de vivienda de mayor frecuencia\n",
    "df['Tipo_Vivienda'].value_counts(dropna=False)"
   ]
  },
  {
   "cell_type": "code",
   "execution_count": 93,
   "id": "06abf877",
   "metadata": {},
   "outputs": [],
   "source": [
    "# Reemplazamos los datos nulos por la el tipo de vivienda con mayor frecuencia, es decir, Propia sin deuda"
   ]
  },
  {
   "cell_type": "code",
   "execution_count": 94,
   "id": "35effe3a",
   "metadata": {},
   "outputs": [],
   "source": [
    "df['Tipo_Vivienda'].replace(np.nan, \"Propia sin Deuda\", inplace=True)"
   ]
  },
  {
   "cell_type": "markdown",
   "id": "772097b4",
   "metadata": {},
   "source": [
    "#### 2.2.5. Nulos de Estado Civil"
   ]
  },
  {
   "cell_type": "code",
   "execution_count": 95,
   "id": "dccc56c2",
   "metadata": {},
   "outputs": [
    {
     "data": {
      "text/plain": [
       "Estado_Civil\n",
       "Unión Libre     48014\n",
       "Soltero/a       45436\n",
       "Casado/a        34143\n",
       "Separado/a      10821\n",
       "Viudo/a          4254\n",
       "NaN               315\n",
       "Divorciado/a       56\n",
       "Name: count, dtype: int64"
      ]
     },
     "execution_count": 95,
     "metadata": {},
     "output_type": "execute_result"
    }
   ],
   "source": [
    "# Identificamos el estado civil de mayor frecuencia\n",
    "df['Estado_Civil'].value_counts(dropna=False)"
   ]
  },
  {
   "cell_type": "code",
   "execution_count": 96,
   "id": "475c3190",
   "metadata": {},
   "outputs": [],
   "source": [
    "# Reemplazamos los datos nulos por la el tipo estado civil con mayor frecuencia, es decir, Unión Libre\n",
    "df['Estado_Civil'].replace(np.nan, \"Unión Libre\", inplace=True)"
   ]
  },
  {
   "cell_type": "markdown",
   "id": "a804bcca",
   "metadata": {},
   "source": [
    "### 2.3. Análisis univariado categórico"
   ]
  },
  {
   "cell_type": "code",
   "execution_count": 97,
   "id": "b33de05f",
   "metadata": {},
   "outputs": [],
   "source": [
    "# Definimos una función para el manejo de tablas de frecuencia\n",
    "def tabla_freq(columna):\n",
    "    x=pd.crosstab(index=columna,columns=\"count\").reset_index()\n",
    "    x=x.rename(columns={'count':'Frec. Abs.'})\n",
    "    y=pd.crosstab(index=columna,columns=\"count\", normalize='columns').reset_index()\n",
    "    y=y.rename(columns={'count':'Frec. Rel.'})\n",
    "    tabla=x.merge(y,how='left')\n",
    "    tabla.rename_axis(None, axis=1)\n",
    "    return tabla"
   ]
  },
  {
   "cell_type": "markdown",
   "id": "2b653dd9",
   "metadata": {},
   "source": [
    "#### 2.3.1. Sector de actividad del cliente"
   ]
  },
  {
   "cell_type": "code",
   "execution_count": 98,
   "id": "f4cb5123",
   "metadata": {
    "scrolled": false
   },
   "outputs": [
    {
     "data": {
      "text/html": [
       "<div>\n",
       "<style scoped>\n",
       "    .dataframe tbody tr th:only-of-type {\n",
       "        vertical-align: middle;\n",
       "    }\n",
       "\n",
       "    .dataframe tbody tr th {\n",
       "        vertical-align: top;\n",
       "    }\n",
       "\n",
       "    .dataframe thead th {\n",
       "        text-align: right;\n",
       "    }\n",
       "</style>\n",
       "<table border=\"1\" class=\"dataframe\">\n",
       "  <thead>\n",
       "    <tr style=\"text-align: right;\">\n",
       "      <th>col_0</th>\n",
       "      <th>Sector_Actividad</th>\n",
       "      <th>Frec. Abs.</th>\n",
       "      <th>Frec. Rel.</th>\n",
       "    </tr>\n",
       "  </thead>\n",
       "  <tbody>\n",
       "    <tr>\n",
       "      <th>0</th>\n",
       "      <td>ACTIVIDADES DEPENDIENTES</td>\n",
       "      <td>10613</td>\n",
       "      <td>0.074197</td>\n",
       "    </tr>\n",
       "    <tr>\n",
       "      <th>1</th>\n",
       "      <td>ACTIVIDADES INDEPENDIENTES</td>\n",
       "      <td>20</td>\n",
       "      <td>0.000140</td>\n",
       "    </tr>\n",
       "    <tr>\n",
       "      <th>2</th>\n",
       "      <td>AGRICULTURA</td>\n",
       "      <td>40572</td>\n",
       "      <td>0.283643</td>\n",
       "    </tr>\n",
       "    <tr>\n",
       "      <th>3</th>\n",
       "      <td>AGROINDUSTRIA</td>\n",
       "      <td>2662</td>\n",
       "      <td>0.018610</td>\n",
       "    </tr>\n",
       "    <tr>\n",
       "      <th>4</th>\n",
       "      <td>ALFARERÍA</td>\n",
       "      <td>108</td>\n",
       "      <td>0.000755</td>\n",
       "    </tr>\n",
       "    <tr>\n",
       "      <th>5</th>\n",
       "      <td>ARTESANÍAS</td>\n",
       "      <td>1074</td>\n",
       "      <td>0.007508</td>\n",
       "    </tr>\n",
       "    <tr>\n",
       "      <th>6</th>\n",
       "      <td>COMERCIO</td>\n",
       "      <td>28004</td>\n",
       "      <td>0.195779</td>\n",
       "    </tr>\n",
       "    <tr>\n",
       "      <th>7</th>\n",
       "      <td>CONFECCIONES</td>\n",
       "      <td>2215</td>\n",
       "      <td>0.015485</td>\n",
       "    </tr>\n",
       "    <tr>\n",
       "      <th>8</th>\n",
       "      <td>CUEROS</td>\n",
       "      <td>305</td>\n",
       "      <td>0.002132</td>\n",
       "    </tr>\n",
       "    <tr>\n",
       "      <th>9</th>\n",
       "      <td>INDUSTRIA</td>\n",
       "      <td>4209</td>\n",
       "      <td>0.029426</td>\n",
       "    </tr>\n",
       "    <tr>\n",
       "      <th>10</th>\n",
       "      <td>MADERA</td>\n",
       "      <td>924</td>\n",
       "      <td>0.006460</td>\n",
       "    </tr>\n",
       "    <tr>\n",
       "      <th>11</th>\n",
       "      <td>METALMECÁNICA</td>\n",
       "      <td>62</td>\n",
       "      <td>0.000433</td>\n",
       "    </tr>\n",
       "    <tr>\n",
       "      <th>12</th>\n",
       "      <td>PECUARIO</td>\n",
       "      <td>20117</td>\n",
       "      <td>0.140640</td>\n",
       "    </tr>\n",
       "    <tr>\n",
       "      <th>13</th>\n",
       "      <td>PESCA</td>\n",
       "      <td>317</td>\n",
       "      <td>0.002216</td>\n",
       "    </tr>\n",
       "    <tr>\n",
       "      <th>14</th>\n",
       "      <td>SERVICIOS</td>\n",
       "      <td>31837</td>\n",
       "      <td>0.222576</td>\n",
       "    </tr>\n",
       "  </tbody>\n",
       "</table>\n",
       "</div>"
      ],
      "text/plain": [
       "col_0            Sector_Actividad  Frec. Abs.  Frec. Rel.\n",
       "0        ACTIVIDADES DEPENDIENTES       10613    0.074197\n",
       "1      ACTIVIDADES INDEPENDIENTES          20    0.000140\n",
       "2                     AGRICULTURA       40572    0.283643\n",
       "3                   AGROINDUSTRIA        2662    0.018610\n",
       "4                       ALFARERÍA         108    0.000755\n",
       "5                      ARTESANÍAS        1074    0.007508\n",
       "6                        COMERCIO       28004    0.195779\n",
       "7                    CONFECCIONES        2215    0.015485\n",
       "8                          CUEROS         305    0.002132\n",
       "9                       INDUSTRIA        4209    0.029426\n",
       "10                         MADERA         924    0.006460\n",
       "11                  METALMECÁNICA          62    0.000433\n",
       "12                       PECUARIO       20117    0.140640\n",
       "13                          PESCA         317    0.002216\n",
       "14                      SERVICIOS       31837    0.222576"
      ]
     },
     "execution_count": 98,
     "metadata": {},
     "output_type": "execute_result"
    }
   ],
   "source": [
    "#Generemos la tabla de frecuencia\n",
    "tabla_actividad=tabla_freq(df['Sector_Actividad'])\n",
    "tabla_actividad"
   ]
  },
  {
   "cell_type": "code",
   "execution_count": 99,
   "id": "611c164f",
   "metadata": {},
   "outputs": [
    {
     "data": {
      "image/png": "[encoded data removed]",
      "text/plain": [
       "<Figure size 1000x500 with 1 Axes>"
      ]
     },
     "metadata": {},
     "output_type": "display_data"
    }
   ],
   "source": [
    "#Creamos visulización\n",
    "plt.figure(figsize=(10,5)) \n",
    "frec_actividad=sns.barplot(x=tabla_actividad['Sector_Actividad'],y=tabla_actividad[\"Frec. Rel.\"]*100, palette = \"viridis\")\n",
    "frec_actividad.bar_label(frec_actividad.containers[0], label_type='edge',fmt='%.2f%%') \n",
    "frec_actividad.set_xticklabels(frec_actividad.get_xticklabels(),rotation=90)\n",
    "frec_actividad.set_xlabel('Sector de actividad')\n",
    "frec_actividad.set(ylim=(0, 30))\n",
    "plt.show()"
   ]
  },
  {
   "cell_type": "markdown",
   "id": "29a49338",
   "metadata": {},
   "source": [
    "<strong>Conclusión:</strong> Las tres principales actividades de los clientes son la agricultura, servicios y comercio, concentrando el 70% de los clientes. Esto tiene mucho sentido dado que la entidad tiene un foco muy rural."
   ]
  },
  {
   "cell_type": "markdown",
   "id": "38dac239",
   "metadata": {},
   "source": [
    "#### 2.3.2.  Género"
   ]
  },
  {
   "cell_type": "code",
   "execution_count": 100,
   "id": "a9ddd4a8",
   "metadata": {
    "scrolled": true
   },
   "outputs": [
    {
     "data": {
      "text/plain": [
       "Sexo\n",
       "2.0       71865\n",
       "1.0       70909\n",
       "Hombre      244\n",
       "3.0          12\n",
       "4.0           9\n",
       "Name: count, dtype: int64"
      ]
     },
     "execution_count": 100,
     "metadata": {},
     "output_type": "execute_result"
    }
   ],
   "source": [
    "df['Sexo'].value_counts(dropna=False)"
   ]
  },
  {
   "cell_type": "markdown",
   "id": "d184b25d",
   "metadata": {},
   "source": [
    "De acuerdo con el diccionario de la empresa, en el sistema se registra al género femenino como 1 y masculino como 2. Como se puede observar, existen valores nulos y clasificaciones atípicas 3 y 4, por tanto, para el tratamiento de estos valores se decide reemplazar por el valor de mayor frecuencia, en este caso 2, es decir, género masculino."
   ]
  },
  {
   "cell_type": "code",
   "execution_count": 101,
   "id": "f4a5dc3d",
   "metadata": {},
   "outputs": [
    {
     "data": {
      "text/html": [
       "<div>\n",
       "<style scoped>\n",
       "    .dataframe tbody tr th:only-of-type {\n",
       "        vertical-align: middle;\n",
       "    }\n",
       "\n",
       "    .dataframe tbody tr th {\n",
       "        vertical-align: top;\n",
       "    }\n",
       "\n",
       "    .dataframe thead th {\n",
       "        text-align: right;\n",
       "    }\n",
       "</style>\n",
       "<table border=\"1\" class=\"dataframe\">\n",
       "  <thead>\n",
       "    <tr style=\"text-align: right;\">\n",
       "      <th>col_0</th>\n",
       "      <th>Sexo</th>\n",
       "      <th>Frec. Abs.</th>\n",
       "      <th>Frec. Rel.</th>\n",
       "    </tr>\n",
       "  </thead>\n",
       "  <tbody>\n",
       "    <tr>\n",
       "      <th>0</th>\n",
       "      <td>Hombre</td>\n",
       "      <td>72130</td>\n",
       "      <td>0.504268</td>\n",
       "    </tr>\n",
       "    <tr>\n",
       "      <th>1</th>\n",
       "      <td>Mujer</td>\n",
       "      <td>70909</td>\n",
       "      <td>0.495732</td>\n",
       "    </tr>\n",
       "  </tbody>\n",
       "</table>\n",
       "</div>"
      ],
      "text/plain": [
       "col_0    Sexo  Frec. Abs.  Frec. Rel.\n",
       "0      Hombre       72130    0.504268\n",
       "1       Mujer       70909    0.495732"
      ]
     },
     "execution_count": 101,
     "metadata": {},
     "output_type": "execute_result"
    }
   ],
   "source": [
    "# Reemplazar las categorías atípicas 3 y 4\n",
    "df[\"Sexo\"]=df[\"Sexo\"].replace({1:\"Mujer\",2:\"Hombre\",3:\"Hombre\",4:\"Hombre\",\"nan\":\"Hombre\"})\n",
    "tabla_genero=tabla_freq(df['Sexo'])\n",
    "tabla_genero"
   ]
  },
  {
   "cell_type": "code",
   "execution_count": 102,
   "id": "b9522f5d",
   "metadata": {},
   "outputs": [
    {
     "data": {
      "image/png": "[encoded data removed]",
      "text/plain": [
       "<Figure size 1000x500 with 1 Axes>"
      ]
     },
     "metadata": {},
     "output_type": "display_data"
    }
   ],
   "source": [
    "plt.figure(figsize=(10,5)) \n",
    "frec_genero=sns.barplot(x=tabla_genero['Sexo'],y=tabla_genero[\"Frec. Rel.\"]*100, palette = \"viridis\")\n",
    "frec_genero.bar_label(frec_genero.containers[0], label_type='edge',fmt='%.2f%%') \n",
    "frec_genero.set(ylim=(0, 60))\n",
    "frec_genero.set_xlabel('Genero')\n",
    "plt.show() "
   ]
  },
  {
   "cell_type": "markdown",
   "id": "e5abd63e",
   "metadata": {},
   "source": [
    "De la población analizada, se puede observar que la proporción en género es muy similar, es decir, hay tanta cantidad de hombres como de mujeres. Como se evidencia de los registros el 50.43% son hombres y 49.57% mujeres."
   ]
  },
  {
   "cell_type": "markdown",
   "id": "0e6cd36a",
   "metadata": {},
   "source": [
    "#### 2.3.3.  Tipo de Vivienda"
   ]
  },
  {
   "cell_type": "code",
   "execution_count": 103,
   "id": "a0cb9a77",
   "metadata": {},
   "outputs": [
    {
     "data": {
      "text/html": [
       "<div>\n",
       "<style scoped>\n",
       "    .dataframe tbody tr th:only-of-type {\n",
       "        vertical-align: middle;\n",
       "    }\n",
       "\n",
       "    .dataframe tbody tr th {\n",
       "        vertical-align: top;\n",
       "    }\n",
       "\n",
       "    .dataframe thead th {\n",
       "        text-align: right;\n",
       "    }\n",
       "</style>\n",
       "<table border=\"1\" class=\"dataframe\">\n",
       "  <thead>\n",
       "    <tr style=\"text-align: right;\">\n",
       "      <th>col_0</th>\n",
       "      <th>Tipo_Vivienda</th>\n",
       "      <th>Frec. Abs.</th>\n",
       "      <th>Frec. Rel.</th>\n",
       "    </tr>\n",
       "  </thead>\n",
       "  <tbody>\n",
       "    <tr>\n",
       "      <th>0</th>\n",
       "      <td>Anticresis</td>\n",
       "      <td>40</td>\n",
       "      <td>0.000280</td>\n",
       "    </tr>\n",
       "    <tr>\n",
       "      <th>1</th>\n",
       "      <td>Arrendada</td>\n",
       "      <td>26522</td>\n",
       "      <td>0.185418</td>\n",
       "    </tr>\n",
       "    <tr>\n",
       "      <th>2</th>\n",
       "      <td>Familiar</td>\n",
       "      <td>39868</td>\n",
       "      <td>0.278721</td>\n",
       "    </tr>\n",
       "    <tr>\n",
       "      <th>3</th>\n",
       "      <td>Propia con Deuda</td>\n",
       "      <td>5873</td>\n",
       "      <td>0.041059</td>\n",
       "    </tr>\n",
       "    <tr>\n",
       "      <th>4</th>\n",
       "      <td>Propia sin Deuda</td>\n",
       "      <td>70736</td>\n",
       "      <td>0.494522</td>\n",
       "    </tr>\n",
       "  </tbody>\n",
       "</table>\n",
       "</div>"
      ],
      "text/plain": [
       "col_0     Tipo_Vivienda  Frec. Abs.  Frec. Rel.\n",
       "0            Anticresis          40    0.000280\n",
       "1             Arrendada       26522    0.185418\n",
       "2              Familiar       39868    0.278721\n",
       "3      Propia con Deuda        5873    0.041059\n",
       "4      Propia sin Deuda       70736    0.494522"
      ]
     },
     "execution_count": 103,
     "metadata": {},
     "output_type": "execute_result"
    }
   ],
   "source": [
    "tabla_vivienda=tabla_freq(df['Tipo_Vivienda'])\n",
    "tabla_vivienda"
   ]
  },
  {
   "cell_type": "code",
   "execution_count": 104,
   "id": "ed741507",
   "metadata": {},
   "outputs": [
    {
     "data": {
      "image/png": "[encoded data removed]",
      "text/plain": [
       "<Figure size 1000x500 with 1 Axes>"
      ]
     },
     "metadata": {},
     "output_type": "display_data"
    }
   ],
   "source": [
    "plt.figure(figsize=(10,5)) \n",
    "frec_vivienda=sns.barplot(x=tabla_vivienda['Tipo_Vivienda'],y=tabla_vivienda[\"Frec. Rel.\"]*100, palette = \"viridis\")\n",
    "frec_vivienda.bar_label(frec_vivienda.containers[0], label_type='edge',fmt='%.2f%%') \n",
    "frec_vivienda.set_xticklabels(frec_vivienda.get_xticklabels(),rotation=60)\n",
    "frec_vivienda.set_xlabel('Tipo de vivienda')\n",
    "frec_vivienda.set(ylim=(0, 60))\n",
    "plt.show()"
   ]
  },
  {
   "cell_type": "markdown",
   "id": "08609dbb-07bb-4385-91ea-f8cb40188313",
   "metadata": {},
   "source": [
    "De la población analizada se puede inferir que el 49.45% de lo clientes son dueños de su vivienda, la cual esta libre de deuda. Esto es muy imporatnte dado que perfiles de este tipo generan tranquilidad a la empresas puesto que tiene un bien raiz que soporta el valor de sus activos, diminuyendo el riesgo de crédito."
   ]
  },
  {
   "cell_type": "markdown",
   "id": "10e3ae38",
   "metadata": {},
   "source": [
    "#### 2.3.4. Tipo de Cliente"
   ]
  },
  {
   "cell_type": "code",
   "execution_count": 105,
   "id": "51669fbe",
   "metadata": {},
   "outputs": [
    {
     "data": {
      "text/plain": [
       "Tipo_cliente\n",
       "Nuevo           119547\n",
       "Preferencial     23492\n",
       "Name: count, dtype: int64"
      ]
     },
     "execution_count": 105,
     "metadata": {},
     "output_type": "execute_result"
    }
   ],
   "source": [
    "df['Tipo_cliente'].value_counts(dropna=False)"
   ]
  },
  {
   "cell_type": "code",
   "execution_count": 106,
   "id": "99259d69",
   "metadata": {},
   "outputs": [
    {
     "data": {
      "text/html": [
       "<div>\n",
       "<style scoped>\n",
       "    .dataframe tbody tr th:only-of-type {\n",
       "        vertical-align: middle;\n",
       "    }\n",
       "\n",
       "    .dataframe tbody tr th {\n",
       "        vertical-align: top;\n",
       "    }\n",
       "\n",
       "    .dataframe thead th {\n",
       "        text-align: right;\n",
       "    }\n",
       "</style>\n",
       "<table border=\"1\" class=\"dataframe\">\n",
       "  <thead>\n",
       "    <tr style=\"text-align: right;\">\n",
       "      <th>col_0</th>\n",
       "      <th>Tipo_cliente</th>\n",
       "      <th>Frec. Abs.</th>\n",
       "      <th>Frec. Rel.</th>\n",
       "    </tr>\n",
       "  </thead>\n",
       "  <tbody>\n",
       "    <tr>\n",
       "      <th>0</th>\n",
       "      <td>Nuevo</td>\n",
       "      <td>119547</td>\n",
       "      <td>0.835765</td>\n",
       "    </tr>\n",
       "    <tr>\n",
       "      <th>1</th>\n",
       "      <td>Preferencial</td>\n",
       "      <td>23492</td>\n",
       "      <td>0.164235</td>\n",
       "    </tr>\n",
       "  </tbody>\n",
       "</table>\n",
       "</div>"
      ],
      "text/plain": [
       "col_0  Tipo_cliente  Frec. Abs.  Frec. Rel.\n",
       "0             Nuevo      119547    0.835765\n",
       "1      Preferencial       23492    0.164235"
      ]
     },
     "execution_count": 106,
     "metadata": {},
     "output_type": "execute_result"
    }
   ],
   "source": [
    "tabla_cliente=tabla_freq(df['Tipo_cliente'])\n",
    "tabla_cliente"
   ]
  },
  {
   "cell_type": "code",
   "execution_count": 107,
   "id": "9bbda7fb",
   "metadata": {},
   "outputs": [
    {
     "data": {
      "image/png": "[encoded data removed]",
      "text/plain": [
       "<Figure size 1000x500 with 1 Axes>"
      ]
     },
     "metadata": {},
     "output_type": "display_data"
    }
   ],
   "source": [
    "plt.figure(figsize=(10,5)) \n",
    "frec_cliente=sns.barplot(x=tabla_cliente['Tipo_cliente'],y=tabla_cliente[\"Frec. Rel.\"]*100, palette = \"viridis\")\n",
    "frec_cliente.bar_label(frec_cliente.containers[0], label_type='edge',fmt='%.2f%%') \n",
    "frec_cliente.set_xticklabels(frec_cliente.get_xticklabels(),rotation=0)\n",
    "frec_cliente.set_xlabel('Tipo de cliente')\n",
    "frec_cliente.set(ylim=(0, 90))\n",
    "plt.show()"
   ]
  },
  {
   "cell_type": "markdown",
   "id": "7bb52923",
   "metadata": {},
   "source": [
    "Aproximadamente 8 de cada 10 clientes tiene categoría de nuevos, mientras que el 16,42% son preferenciales. Cabe recordar que esta categoría se otorga a los clientes que han tenido una trayectoria mayor a 36 meses y con un impecable comportamiento de pago. Estos son los clientes leales de la entidad, por tanto, dado que no representa una proporción representativa de los clientes totales, se pueden generar campañas específicas de tasas preferenciales para mantenerlos fidelizados."
   ]
  },
  {
   "cell_type": "markdown",
   "id": "d2976c5c",
   "metadata": {},
   "source": [
    "#### 2.3.5. Estado civil del cliente"
   ]
  },
  {
   "cell_type": "code",
   "execution_count": 108,
   "id": "6745cd1a",
   "metadata": {},
   "outputs": [
    {
     "data": {
      "text/html": [
       "<div>\n",
       "<style scoped>\n",
       "    .dataframe tbody tr th:only-of-type {\n",
       "        vertical-align: middle;\n",
       "    }\n",
       "\n",
       "    .dataframe tbody tr th {\n",
       "        vertical-align: top;\n",
       "    }\n",
       "\n",
       "    .dataframe thead th {\n",
       "        text-align: right;\n",
       "    }\n",
       "</style>\n",
       "<table border=\"1\" class=\"dataframe\">\n",
       "  <thead>\n",
       "    <tr style=\"text-align: right;\">\n",
       "      <th>col_0</th>\n",
       "      <th>Estado_Civil</th>\n",
       "      <th>Frec. Abs.</th>\n",
       "      <th>Frec. Rel.</th>\n",
       "    </tr>\n",
       "  </thead>\n",
       "  <tbody>\n",
       "    <tr>\n",
       "      <th>0</th>\n",
       "      <td>Casado/a</td>\n",
       "      <td>34143</td>\n",
       "      <td>0.238697</td>\n",
       "    </tr>\n",
       "    <tr>\n",
       "      <th>1</th>\n",
       "      <td>Divorciado/a</td>\n",
       "      <td>56</td>\n",
       "      <td>0.000392</td>\n",
       "    </tr>\n",
       "    <tr>\n",
       "      <th>2</th>\n",
       "      <td>Separado/a</td>\n",
       "      <td>10821</td>\n",
       "      <td>0.075651</td>\n",
       "    </tr>\n",
       "    <tr>\n",
       "      <th>3</th>\n",
       "      <td>Soltero/a</td>\n",
       "      <td>45436</td>\n",
       "      <td>0.317648</td>\n",
       "    </tr>\n",
       "    <tr>\n",
       "      <th>4</th>\n",
       "      <td>Unión Libre</td>\n",
       "      <td>48329</td>\n",
       "      <td>0.337873</td>\n",
       "    </tr>\n",
       "    <tr>\n",
       "      <th>5</th>\n",
       "      <td>Viudo/a</td>\n",
       "      <td>4254</td>\n",
       "      <td>0.029740</td>\n",
       "    </tr>\n",
       "  </tbody>\n",
       "</table>\n",
       "</div>"
      ],
      "text/plain": [
       "col_0  Estado_Civil  Frec. Abs.  Frec. Rel.\n",
       "0          Casado/a       34143    0.238697\n",
       "1      Divorciado/a          56    0.000392\n",
       "2        Separado/a       10821    0.075651\n",
       "3         Soltero/a       45436    0.317648\n",
       "4       Unión Libre       48329    0.337873\n",
       "5           Viudo/a        4254    0.029740"
      ]
     },
     "execution_count": 108,
     "metadata": {},
     "output_type": "execute_result"
    }
   ],
   "source": [
    "tabla_civil=tabla_freq(df['Estado_Civil'])\n",
    "tabla_civil"
   ]
  },
  {
   "cell_type": "code",
   "execution_count": 109,
   "id": "1478af01",
   "metadata": {},
   "outputs": [
    {
     "data": {
      "image/png": "[encoded data removed]",
      "text/plain": [
       "<Figure size 1000x500 with 1 Axes>"
      ]
     },
     "metadata": {},
     "output_type": "display_data"
    }
   ],
   "source": [
    "plt.figure(figsize=(10,5)) \n",
    "frec_civil=sns.barplot(x=tabla_civil['Estado_Civil'],y=tabla_civil[\"Frec. Rel.\"]*100, palette = \"viridis\")\n",
    "frec_civil.bar_label(frec_civil.containers[0], label_type='edge',fmt='%.2f%%') \n",
    "frec_civil.set_xticklabels(frec_civil.get_xticklabels(),rotation=0)\n",
    "frec_civil.set_xlabel('Tipo de cliente')\n",
    "frec_civil.set(ylim=(0, 40))\n",
    "plt.show()"
   ]
  },
  {
   "cell_type": "markdown",
   "id": "5e123574",
   "metadata": {},
   "source": [
    "Con base al gráfico anterior, se puede concluir que la mayor cantidad de clientes son personas en unión libre y solteras. En este segmento concentra alrededor del 65.55% de clientes totales de la entidad."
   ]
  },
  {
   "cell_type": "markdown",
   "id": "f0da0d51",
   "metadata": {},
   "source": [
    "### 2.4. Análisis univariado númerico"
   ]
  },
  {
   "cell_type": "code",
   "execution_count": 110,
   "id": "9233ccb6",
   "metadata": {},
   "outputs": [],
   "source": [
    "# Definimos una función para el manejo de tablas descriptivas\n",
    "\n",
    "def tabla_descriptivas(columnas):\n",
    "    tabla_descriptivas=pd.DataFrame(columnas.describe())\n",
    "    tabla_descriptivas.loc['coef. variation']=columnas.std()/columnas.mean()\n",
    "    return tabla_descriptivas"
   ]
  },
  {
   "cell_type": "markdown",
   "id": "24390356",
   "metadata": {},
   "source": [
    "#### 2.4.1. Tasa de interes Efectiva Anual"
   ]
  },
  {
   "cell_type": "code",
   "execution_count": 111,
   "id": "14587486",
   "metadata": {},
   "outputs": [
    {
     "data": {
      "text/html": [
       "<div>\n",
       "<style scoped>\n",
       "    .dataframe tbody tr th:only-of-type {\n",
       "        vertical-align: middle;\n",
       "    }\n",
       "\n",
       "    .dataframe tbody tr th {\n",
       "        vertical-align: top;\n",
       "    }\n",
       "\n",
       "    .dataframe thead th {\n",
       "        text-align: right;\n",
       "    }\n",
       "</style>\n",
       "<table border=\"1\" class=\"dataframe\">\n",
       "  <thead>\n",
       "    <tr style=\"text-align: right;\">\n",
       "      <th></th>\n",
       "      <th>Tasa</th>\n",
       "    </tr>\n",
       "  </thead>\n",
       "  <tbody>\n",
       "    <tr>\n",
       "      <th>count</th>\n",
       "      <td>143039.000000</td>\n",
       "    </tr>\n",
       "    <tr>\n",
       "      <th>mean</th>\n",
       "      <td>50.450773</td>\n",
       "    </tr>\n",
       "    <tr>\n",
       "      <th>std</th>\n",
       "      <td>6.712112</td>\n",
       "    </tr>\n",
       "    <tr>\n",
       "      <th>min</th>\n",
       "      <td>10.680000</td>\n",
       "    </tr>\n",
       "    <tr>\n",
       "      <th>25%</th>\n",
       "      <td>48.500000</td>\n",
       "    </tr>\n",
       "    <tr>\n",
       "      <th>50%</th>\n",
       "      <td>52.390000</td>\n",
       "    </tr>\n",
       "    <tr>\n",
       "      <th>75%</th>\n",
       "      <td>52.890000</td>\n",
       "    </tr>\n",
       "    <tr>\n",
       "      <th>max</th>\n",
       "      <td>70.000000</td>\n",
       "    </tr>\n",
       "    <tr>\n",
       "      <th>coef. variation</th>\n",
       "      <td>0.133043</td>\n",
       "    </tr>\n",
       "  </tbody>\n",
       "</table>\n",
       "</div>"
      ],
      "text/plain": [
       "                          Tasa\n",
       "count            143039.000000\n",
       "mean                 50.450773\n",
       "std                   6.712112\n",
       "min                  10.680000\n",
       "25%                  48.500000\n",
       "50%                  52.390000\n",
       "75%                  52.890000\n",
       "max                  70.000000\n",
       "coef. variation       0.133043"
      ]
     },
     "execution_count": 111,
     "metadata": {},
     "output_type": "execute_result"
    }
   ],
   "source": [
    "# Describimos los datos\n",
    "tabla_tasa=tabla_descriptivas(df['Tasa'])\n",
    "tabla_tasa"
   ]
  },
  {
   "cell_type": "code",
   "execution_count": 112,
   "id": "4dcfdeb0",
   "metadata": {
    "scrolled": false
   },
   "outputs": [
    {
     "data": {
      "image/png": "[encoded data removed]",
      "text/plain": [
       "<Figure size 1000x500 with 1 Axes>"
      ]
     },
     "metadata": {},
     "output_type": "display_data"
    }
   ],
   "source": [
    "plt.figure(figsize=(10,5)) \n",
    "boxplot_tasa=sns.boxplot(x=df['Tasa'],palette = \"Set2\", showmeans=True) ## crea el boxplot\n",
    "boxplot_tasa.set_xlabel('Tasa') ## cambia el título del eje x\n",
    "boxplot_tasa.set_xlim(0, 79)                     ## cambia los límites del eje x\n",
    "boxplot_tasa.set_xticks(range(0,80,5))               ## cambia los valores del eje x\n",
    "boxplot_tasa.set_title('Tasa de interes efectiva anual')\n",
    "plt.show() "
   ]
  },
  {
   "cell_type": "markdown",
   "id": "faf64516",
   "metadata": {},
   "source": [
    "De acuerdo con el conocimiento del negocio, se puede evidenciar outliers, dado que las tasas no pueden ser inferiores a 33.30% y máximo 68.81%, esto dado unas políticas en tasa de usura de la Superintendencia Financiera de Colombia, por tanto, se llevan estos outliers al valor promedio de tasa."
   ]
  },
  {
   "cell_type": "markdown",
   "id": "a458faf1",
   "metadata": {},
   "source": [
    "##### Tratamiento de outliers tasa de interes"
   ]
  },
  {
   "cell_type": "code",
   "execution_count": 113,
   "id": "d04ef736",
   "metadata": {},
   "outputs": [],
   "source": [
    "df.loc[df['Tasa'] < 33.30, 'Tasa'] = avg_tasa\n",
    "df.loc[df['Tasa'] > 68.81, 'Tasa'] = avg_tasa"
   ]
  },
  {
   "cell_type": "code",
   "execution_count": 114,
   "id": "cf308cd4",
   "metadata": {},
   "outputs": [
    {
     "data": {
      "text/html": [
       "<div>\n",
       "<style scoped>\n",
       "    .dataframe tbody tr th:only-of-type {\n",
       "        vertical-align: middle;\n",
       "    }\n",
       "\n",
       "    .dataframe tbody tr th {\n",
       "        vertical-align: top;\n",
       "    }\n",
       "\n",
       "    .dataframe thead th {\n",
       "        text-align: right;\n",
       "    }\n",
       "</style>\n",
       "<table border=\"1\" class=\"dataframe\">\n",
       "  <thead>\n",
       "    <tr style=\"text-align: right;\">\n",
       "      <th></th>\n",
       "      <th>Tasa</th>\n",
       "    </tr>\n",
       "  </thead>\n",
       "  <tbody>\n",
       "    <tr>\n",
       "      <th>count</th>\n",
       "      <td>143039.000000</td>\n",
       "    </tr>\n",
       "    <tr>\n",
       "      <th>mean</th>\n",
       "      <td>51.090954</td>\n",
       "    </tr>\n",
       "    <tr>\n",
       "      <th>std</th>\n",
       "      <td>5.496952</td>\n",
       "    </tr>\n",
       "    <tr>\n",
       "      <th>min</th>\n",
       "      <td>33.500000</td>\n",
       "    </tr>\n",
       "    <tr>\n",
       "      <th>25%</th>\n",
       "      <td>49.040000</td>\n",
       "    </tr>\n",
       "    <tr>\n",
       "      <th>50%</th>\n",
       "      <td>52.390000</td>\n",
       "    </tr>\n",
       "    <tr>\n",
       "      <th>75%</th>\n",
       "      <td>52.890000</td>\n",
       "    </tr>\n",
       "    <tr>\n",
       "      <th>max</th>\n",
       "      <td>63.000000</td>\n",
       "    </tr>\n",
       "    <tr>\n",
       "      <th>coef. variation</th>\n",
       "      <td>0.107591</td>\n",
       "    </tr>\n",
       "  </tbody>\n",
       "</table>\n",
       "</div>"
      ],
      "text/plain": [
       "                          Tasa\n",
       "count            143039.000000\n",
       "mean                 51.090954\n",
       "std                   5.496952\n",
       "min                  33.500000\n",
       "25%                  49.040000\n",
       "50%                  52.390000\n",
       "75%                  52.890000\n",
       "max                  63.000000\n",
       "coef. variation       0.107591"
      ]
     },
     "execution_count": 114,
     "metadata": {},
     "output_type": "execute_result"
    }
   ],
   "source": [
    "# Volvemos a describir los datos\n",
    "tabla_tasa2=tabla_descriptivas(df['Tasa'])\n",
    "tabla_tasa2"
   ]
  },
  {
   "cell_type": "code",
   "execution_count": 115,
   "id": "e1685348",
   "metadata": {},
   "outputs": [
    {
     "data": {
      "image/png": "[encoded data removed]",
      "text/plain": [
       "<Figure size 1000x500 with 1 Axes>"
      ]
     },
     "metadata": {},
     "output_type": "display_data"
    }
   ],
   "source": [
    "plt.figure(figsize=(10,5)) \n",
    "boxplot_tasa2=sns.boxplot(x=df['Tasa'],palette = \"viridis\", showmeans=True) ## crea el boxplot\n",
    "boxplot_tasa2.set_xlabel('Tasa') ## cambia el título del eje x\n",
    "boxplot_tasa2.set_xlim(30, 65)                     ## cambia los límites del eje x\n",
    "boxplot_tasa2.set_xticks(range(30,65,5))               ## cambia los valores del eje x\n",
    "boxplot_tasa2.set_title('Tasa de interes efectiva anual normalizada')\n",
    "plt.show() "
   ]
  },
  {
   "cell_type": "markdown",
   "id": "0b7e5a62-570a-409f-8344-244a85738c45",
   "metadata": {},
   "source": [
    "Se puede asumir que las tasas de los prestamos se encuentran por encimas del 48% y por debajo del 53%, un valor razonable dado que este tipo de entidades financieras se concentran en microcrédito, una metodología que presenta tasas de interés más altas a las del mercado comercial de bancos tradicionales. "
   ]
  },
  {
   "cell_type": "markdown",
   "id": "78fca594",
   "metadata": {},
   "source": [
    "#### 2.4.2.  Monto solicitado por el cliente"
   ]
  },
  {
   "cell_type": "code",
   "execution_count": 116,
   "id": "259c23f6",
   "metadata": {},
   "outputs": [
    {
     "data": {
      "text/plain": [
       "0"
      ]
     },
     "execution_count": 116,
     "metadata": {},
     "output_type": "execute_result"
    }
   ],
   "source": [
    "# Confirmamos que no existan valores nulos\n",
    "df['Monto'].isna().sum()"
   ]
  },
  {
   "cell_type": "code",
   "execution_count": 117,
   "id": "585eefe4",
   "metadata": {
    "scrolled": true
   },
   "outputs": [
    {
     "name": "stdout",
     "output_type": "stream",
     "text": [
      "<class 'pandas.core.series.Series'>\n",
      "RangeIndex: 143039 entries, 0 to 143038\n",
      "Series name: Monto\n",
      "Non-Null Count   Dtype\n",
      "--------------   -----\n",
      "143039 non-null  int64\n",
      "dtypes: int64(1)\n",
      "memory usage: 1.1 MB\n"
     ]
    }
   ],
   "source": [
    "df['Monto'].info()"
   ]
  },
  {
   "cell_type": "code",
   "execution_count": 118,
   "id": "6085ba2e",
   "metadata": {},
   "outputs": [
    {
     "data": {
      "text/html": [
       "<div>\n",
       "<style scoped>\n",
       "    .dataframe tbody tr th:only-of-type {\n",
       "        vertical-align: middle;\n",
       "    }\n",
       "\n",
       "    .dataframe tbody tr th {\n",
       "        vertical-align: top;\n",
       "    }\n",
       "\n",
       "    .dataframe thead th {\n",
       "        text-align: right;\n",
       "    }\n",
       "</style>\n",
       "<table border=\"1\" class=\"dataframe\">\n",
       "  <thead>\n",
       "    <tr style=\"text-align: right;\">\n",
       "      <th></th>\n",
       "      <th>Monto</th>\n",
       "    </tr>\n",
       "  </thead>\n",
       "  <tbody>\n",
       "    <tr>\n",
       "      <th>count</th>\n",
       "      <td>1.430390e+05</td>\n",
       "    </tr>\n",
       "    <tr>\n",
       "      <th>mean</th>\n",
       "      <td>5.342129e+06</td>\n",
       "    </tr>\n",
       "    <tr>\n",
       "      <th>std</th>\n",
       "      <td>8.440950e+06</td>\n",
       "    </tr>\n",
       "    <tr>\n",
       "      <th>min</th>\n",
       "      <td>0.000000e+00</td>\n",
       "    </tr>\n",
       "    <tr>\n",
       "      <th>25%</th>\n",
       "      <td>2.206000e+06</td>\n",
       "    </tr>\n",
       "    <tr>\n",
       "      <th>50%</th>\n",
       "      <td>3.500000e+06</td>\n",
       "    </tr>\n",
       "    <tr>\n",
       "      <th>75%</th>\n",
       "      <td>5.569500e+06</td>\n",
       "    </tr>\n",
       "    <tr>\n",
       "      <th>max</th>\n",
       "      <td>3.300000e+08</td>\n",
       "    </tr>\n",
       "    <tr>\n",
       "      <th>coef. variation</th>\n",
       "      <td>1.580072e+00</td>\n",
       "    </tr>\n",
       "  </tbody>\n",
       "</table>\n",
       "</div>"
      ],
      "text/plain": [
       "                        Monto\n",
       "count            1.430390e+05\n",
       "mean             5.342129e+06\n",
       "std              8.440950e+06\n",
       "min              0.000000e+00\n",
       "25%              2.206000e+06\n",
       "50%              3.500000e+06\n",
       "75%              5.569500e+06\n",
       "max              3.300000e+08\n",
       "coef. variation  1.580072e+00"
      ]
     },
     "execution_count": 118,
     "metadata": {},
     "output_type": "execute_result"
    }
   ],
   "source": [
    "# Describimos los datos\n",
    "tabla_monto=tabla_descriptivas(df['Monto'])\n",
    "tabla_monto"
   ]
  },
  {
   "cell_type": "code",
   "execution_count": 119,
   "id": "7ce88541",
   "metadata": {},
   "outputs": [
    {
     "data": {
      "image/png": "[encoded data removed]",
      "text/plain": [
       "<Figure size 1000x500 with 1 Axes>"
      ]
     },
     "metadata": {},
     "output_type": "display_data"
    }
   ],
   "source": [
    "plt.figure(figsize=(10,5)) \n",
    "hist_Monto=sns.histplot(x=df[\"Monto\"],kde=True,color=\"steelblue\") ## crea el boxplot\n",
    "hist_Monto.set_xlabel('Monto') ## cambia el título del eje x\n",
    "hist_Monto.set_xlim(0, 250000001)                     ## cambia los límites del eje x\n",
    "hist_Monto.set_xticks(range(0,250000000,10000000))             ## cambia los valores del eje x\n",
    "hist_Monto.set_title('Distribución de monto')\n",
    "plt.show()"
   ]
  },
  {
   "cell_type": "markdown",
   "id": "a7f14030",
   "metadata": {},
   "source": [
    "De acuerdo con el conocimiento del negocio, se puede evidenciar outliers, dado que los montos no pueden ser inferiores a $800.000. El monto máximo está en $330.000.000."
   ]
  },
  {
   "cell_type": "code",
   "execution_count": 120,
   "id": "759b9230",
   "metadata": {},
   "outputs": [],
   "source": [
    "#Reemplazamos los outliers por valores el promedio de monto\n",
    "df.loc[df['Monto'] < 800000, 'Monto'] = df[\"Monto\"].astype(\"int\").mean()"
   ]
  },
  {
   "cell_type": "code",
   "execution_count": 121,
   "id": "30fafb65",
   "metadata": {},
   "outputs": [
    {
     "data": {
      "text/html": [
       "<div>\n",
       "<style scoped>\n",
       "    .dataframe tbody tr th:only-of-type {\n",
       "        vertical-align: middle;\n",
       "    }\n",
       "\n",
       "    .dataframe tbody tr th {\n",
       "        vertical-align: top;\n",
       "    }\n",
       "\n",
       "    .dataframe thead th {\n",
       "        text-align: right;\n",
       "    }\n",
       "</style>\n",
       "<table border=\"1\" class=\"dataframe\">\n",
       "  <thead>\n",
       "    <tr style=\"text-align: right;\">\n",
       "      <th></th>\n",
       "      <th>Monto</th>\n",
       "    </tr>\n",
       "  </thead>\n",
       "  <tbody>\n",
       "    <tr>\n",
       "      <th>count</th>\n",
       "      <td>1.430390e+05</td>\n",
       "    </tr>\n",
       "    <tr>\n",
       "      <th>mean</th>\n",
       "      <td>5.384516e+06</td>\n",
       "    </tr>\n",
       "    <tr>\n",
       "      <th>std</th>\n",
       "      <td>8.429072e+06</td>\n",
       "    </tr>\n",
       "    <tr>\n",
       "      <th>min</th>\n",
       "      <td>8.000000e+05</td>\n",
       "    </tr>\n",
       "    <tr>\n",
       "      <th>25%</th>\n",
       "      <td>2.270000e+06</td>\n",
       "    </tr>\n",
       "    <tr>\n",
       "      <th>50%</th>\n",
       "      <td>3.500000e+06</td>\n",
       "    </tr>\n",
       "    <tr>\n",
       "      <th>75%</th>\n",
       "      <td>5.569500e+06</td>\n",
       "    </tr>\n",
       "    <tr>\n",
       "      <th>max</th>\n",
       "      <td>3.300000e+08</td>\n",
       "    </tr>\n",
       "    <tr>\n",
       "      <th>coef. variation</th>\n",
       "      <td>1.565428e+00</td>\n",
       "    </tr>\n",
       "  </tbody>\n",
       "</table>\n",
       "</div>"
      ],
      "text/plain": [
       "                        Monto\n",
       "count            1.430390e+05\n",
       "mean             5.384516e+06\n",
       "std              8.429072e+06\n",
       "min              8.000000e+05\n",
       "25%              2.270000e+06\n",
       "50%              3.500000e+06\n",
       "75%              5.569500e+06\n",
       "max              3.300000e+08\n",
       "coef. variation  1.565428e+00"
      ]
     },
     "execution_count": 121,
     "metadata": {},
     "output_type": "execute_result"
    }
   ],
   "source": [
    "# Describimos los datos\n",
    "tabla_monto2=tabla_descriptivas(df['Monto'])\n",
    "tabla_monto2"
   ]
  },
  {
   "cell_type": "code",
   "execution_count": 122,
   "id": "a880fd43",
   "metadata": {},
   "outputs": [
    {
     "data": {
      "image/png": "[encoded data removed]",
      "text/plain": [
       "<Figure size 1000x500 with 1 Axes>"
      ]
     },
     "metadata": {},
     "output_type": "display_data"
    }
   ],
   "source": [
    "plt.figure(figsize=(10,5)) \n",
    "hist_Monto2=sns.histplot(x=df[\"Monto\"],kde=True,color=\"seagreen\") ## crea el boxplot\n",
    "hist_Monto2.set_xlabel('Monto') ## cambia el título del eje x\n",
    "hist_Monto2.set_xlim(0, 250000000)                     ## cambia los límites del eje x\n",
    "hist_Monto2.set_xticks(range(0,250000000,10000000))             ## cambia los valores del eje x\n",
    "hist_Monto2.set_title('Distribución de monto normalizado')\n",
    "plt.show()"
   ]
  },
  {
   "cell_type": "markdown",
   "id": "758bdd6f",
   "metadata": {},
   "source": [
    "El monto promedio de los créditos se encuentra en $5.3 millones, sin embargo, el 50% de los créditos son inferiores a $3.5 millones, concuerda con una realidad del negocio en donde el perfil de cliente son personas del campo o que tiene sus micronegocios, por ende, los montos solicitados son bajos. "
   ]
  },
  {
   "cell_type": "markdown",
   "id": "0cabbcd3",
   "metadata": {},
   "source": [
    "#### 2.4.3.  Plazo del crédito en meses:"
   ]
  },
  {
   "cell_type": "code",
   "execution_count": 123,
   "id": "1c46d045",
   "metadata": {},
   "outputs": [
    {
     "data": {
      "text/plain": [
       "0"
      ]
     },
     "execution_count": 123,
     "metadata": {},
     "output_type": "execute_result"
    }
   ],
   "source": [
    "# Confirmamos que no existan valores nulos\n",
    "df['Plazo_Meses'].isna().sum()"
   ]
  },
  {
   "cell_type": "code",
   "execution_count": 124,
   "id": "4e8e83f3",
   "metadata": {},
   "outputs": [
    {
     "data": {
      "text/plain": [
       "count    143039.000000\n",
       "mean         18.877062\n",
       "std           8.219228\n",
       "min           0.000000\n",
       "25%          12.000000\n",
       "50%          18.000000\n",
       "75%          24.000000\n",
       "max         113.000000\n",
       "Name: Plazo_Meses, dtype: float64"
      ]
     },
     "execution_count": 124,
     "metadata": {},
     "output_type": "execute_result"
    }
   ],
   "source": [
    "df['Plazo_Meses'].describe()"
   ]
  },
  {
   "cell_type": "code",
   "execution_count": 125,
   "id": "ae416a51",
   "metadata": {},
   "outputs": [
    {
     "data": {
      "text/html": [
       "<div>\n",
       "<style scoped>\n",
       "    .dataframe tbody tr th:only-of-type {\n",
       "        vertical-align: middle;\n",
       "    }\n",
       "\n",
       "    .dataframe tbody tr th {\n",
       "        vertical-align: top;\n",
       "    }\n",
       "\n",
       "    .dataframe thead th {\n",
       "        text-align: right;\n",
       "    }\n",
       "</style>\n",
       "<table border=\"1\" class=\"dataframe\">\n",
       "  <thead>\n",
       "    <tr style=\"text-align: right;\">\n",
       "      <th></th>\n",
       "      <th>Plazo_Meses</th>\n",
       "    </tr>\n",
       "  </thead>\n",
       "  <tbody>\n",
       "    <tr>\n",
       "      <th>count</th>\n",
       "      <td>143039.000000</td>\n",
       "    </tr>\n",
       "    <tr>\n",
       "      <th>mean</th>\n",
       "      <td>18.877062</td>\n",
       "    </tr>\n",
       "    <tr>\n",
       "      <th>std</th>\n",
       "      <td>8.219228</td>\n",
       "    </tr>\n",
       "    <tr>\n",
       "      <th>min</th>\n",
       "      <td>0.000000</td>\n",
       "    </tr>\n",
       "    <tr>\n",
       "      <th>25%</th>\n",
       "      <td>12.000000</td>\n",
       "    </tr>\n",
       "    <tr>\n",
       "      <th>50%</th>\n",
       "      <td>18.000000</td>\n",
       "    </tr>\n",
       "    <tr>\n",
       "      <th>75%</th>\n",
       "      <td>24.000000</td>\n",
       "    </tr>\n",
       "    <tr>\n",
       "      <th>max</th>\n",
       "      <td>113.000000</td>\n",
       "    </tr>\n",
       "    <tr>\n",
       "      <th>coef. variation</th>\n",
       "      <td>0.435408</td>\n",
       "    </tr>\n",
       "  </tbody>\n",
       "</table>\n",
       "</div>"
      ],
      "text/plain": [
       "                   Plazo_Meses\n",
       "count            143039.000000\n",
       "mean                 18.877062\n",
       "std                   8.219228\n",
       "min                   0.000000\n",
       "25%                  12.000000\n",
       "50%                  18.000000\n",
       "75%                  24.000000\n",
       "max                 113.000000\n",
       "coef. variation       0.435408"
      ]
     },
     "execution_count": 125,
     "metadata": {},
     "output_type": "execute_result"
    }
   ],
   "source": [
    "tabla_plazo=tabla_descriptivas(df['Plazo_Meses'])\n",
    "tabla_plazo"
   ]
  },
  {
   "cell_type": "code",
   "execution_count": 126,
   "id": "82acaa48",
   "metadata": {},
   "outputs": [
    {
     "data": {
      "image/png": "[encoded data removed]",
      "text/plain": [
       "<Figure size 1000x500 with 1 Axes>"
      ]
     },
     "metadata": {},
     "output_type": "display_data"
    }
   ],
   "source": [
    "plt.figure(figsize=(10,5)) \n",
    "boxplot_plazo=sns.boxplot(x=df['Plazo_Meses'],palette = \"Set2\", showmeans=True) ## crea el boxplot\n",
    "boxplot_plazo.set_xlabel('Plazo en meses') ## cambia el título del eje x\n",
    "boxplot_plazo.set_xlim(-10, 100)                     ## cambia los límites del eje x\n",
    "boxplot_plazo.set_xticks(range(-10,100,10))               ## cambia los valores del eje x\n",
    "boxplot_plazo.set_title('Plazo del crédito en meses')\n",
    "plt.show() "
   ]
  },
  {
   "cell_type": "markdown",
   "id": "7370a6d8",
   "metadata": {},
   "source": [
    "De acuerdo con el conocimiento del negocio, se puede evidenciar outliers, dado que los plazos mínimo deben ser de 3 meses y máximo de 60 meses"
   ]
  },
  {
   "cell_type": "markdown",
   "id": "d1f694d3",
   "metadata": {},
   "source": [
    "##### Tratamiento de outliers Plazo en meses"
   ]
  },
  {
   "cell_type": "code",
   "execution_count": 127,
   "id": "8078c806",
   "metadata": {},
   "outputs": [],
   "source": [
    "#Reemplazamos los outliers por valores el promedio de plazo\n",
    "df.loc[df['Plazo_Meses'] < 3,'Plazo_Meses'] = df[\"Plazo_Meses\"].astype(\"float\").mean()\n",
    "df.loc[df['Plazo_Meses'] > 60,'Plazo_Meses'] = 60"
   ]
  },
  {
   "cell_type": "code",
   "execution_count": 128,
   "id": "c6008d67",
   "metadata": {
    "scrolled": true
   },
   "outputs": [
    {
     "data": {
      "text/html": [
       "<div>\n",
       "<style scoped>\n",
       "    .dataframe tbody tr th:only-of-type {\n",
       "        vertical-align: middle;\n",
       "    }\n",
       "\n",
       "    .dataframe tbody tr th {\n",
       "        vertical-align: top;\n",
       "    }\n",
       "\n",
       "    .dataframe thead th {\n",
       "        text-align: right;\n",
       "    }\n",
       "</style>\n",
       "<table border=\"1\" class=\"dataframe\">\n",
       "  <thead>\n",
       "    <tr style=\"text-align: right;\">\n",
       "      <th></th>\n",
       "      <th>Plazo_Meses</th>\n",
       "    </tr>\n",
       "  </thead>\n",
       "  <tbody>\n",
       "    <tr>\n",
       "      <th>count</th>\n",
       "      <td>143039.000000</td>\n",
       "    </tr>\n",
       "    <tr>\n",
       "      <th>mean</th>\n",
       "      <td>18.906406</td>\n",
       "    </tr>\n",
       "    <tr>\n",
       "      <th>std</th>\n",
       "      <td>8.143764</td>\n",
       "    </tr>\n",
       "    <tr>\n",
       "      <th>min</th>\n",
       "      <td>3.000000</td>\n",
       "    </tr>\n",
       "    <tr>\n",
       "      <th>25%</th>\n",
       "      <td>12.000000</td>\n",
       "    </tr>\n",
       "    <tr>\n",
       "      <th>50%</th>\n",
       "      <td>18.000000</td>\n",
       "    </tr>\n",
       "    <tr>\n",
       "      <th>75%</th>\n",
       "      <td>24.000000</td>\n",
       "    </tr>\n",
       "    <tr>\n",
       "      <th>max</th>\n",
       "      <td>60.000000</td>\n",
       "    </tr>\n",
       "    <tr>\n",
       "      <th>coef. variation</th>\n",
       "      <td>0.430741</td>\n",
       "    </tr>\n",
       "  </tbody>\n",
       "</table>\n",
       "</div>"
      ],
      "text/plain": [
       "                   Plazo_Meses\n",
       "count            143039.000000\n",
       "mean                 18.906406\n",
       "std                   8.143764\n",
       "min                   3.000000\n",
       "25%                  12.000000\n",
       "50%                  18.000000\n",
       "75%                  24.000000\n",
       "max                  60.000000\n",
       "coef. variation       0.430741"
      ]
     },
     "execution_count": 128,
     "metadata": {},
     "output_type": "execute_result"
    }
   ],
   "source": [
    "tabla_plazo2=tabla_descriptivas(df['Plazo_Meses'])\n",
    "tabla_plazo2"
   ]
  },
  {
   "cell_type": "code",
   "execution_count": 129,
   "id": "753763b3",
   "metadata": {},
   "outputs": [
    {
     "data": {
      "image/png": "[encoded data removed]",
      "text/plain": [
       "<Figure size 1000x500 with 1 Axes>"
      ]
     },
     "metadata": {},
     "output_type": "display_data"
    }
   ],
   "source": [
    "plt.figure(figsize=(10,5)) \n",
    "boxplot_plazo2=sns.boxplot(x=df['Plazo_Meses'],palette = \"viridis\", showmeans=True) ## crea el boxplot\n",
    "boxplot_plazo2.set_xlabel('Plazo en meses') ## cambia el título del eje x\n",
    "boxplot_plazo2.set_xlim(0, 70)                     ## cambia los límites del eje x\n",
    "boxplot_plazo2.set_xticks(range(0,70,10))               ## cambia los valores del eje x\n",
    "boxplot_plazo2.set_title('Plazo del crédito en meses')\n",
    "plt.show() "
   ]
  },
  {
   "cell_type": "markdown",
   "id": "196b707b",
   "metadata": {},
   "source": [
    "El 50% de los clientes tiene créditos de hasta 18 meses, es decir, año y medio y concuerda con el hecho de que son montos pequeños a cuotas bajas, permito que implica plazos de esta índole como las que muestran en la gráfica. "
   ]
  },
  {
   "cell_type": "markdown",
   "id": "b9cfe225",
   "metadata": {},
   "source": [
    "#### 2.4.4.  Antigüedad"
   ]
  },
  {
   "cell_type": "code",
   "execution_count": 130,
   "id": "e2bd238a",
   "metadata": {},
   "outputs": [
    {
     "data": {
      "text/plain": [
       "0"
      ]
     },
     "execution_count": 130,
     "metadata": {},
     "output_type": "execute_result"
    }
   ],
   "source": [
    "# Confirmamos que no existan valores nulos\n",
    "df['Antiguedad'].isna().sum()"
   ]
  },
  {
   "cell_type": "code",
   "execution_count": 131,
   "id": "1732c8b3",
   "metadata": {},
   "outputs": [
    {
     "data": {
      "text/html": [
       "<div>\n",
       "<style scoped>\n",
       "    .dataframe tbody tr th:only-of-type {\n",
       "        vertical-align: middle;\n",
       "    }\n",
       "\n",
       "    .dataframe tbody tr th {\n",
       "        vertical-align: top;\n",
       "    }\n",
       "\n",
       "    .dataframe thead th {\n",
       "        text-align: right;\n",
       "    }\n",
       "</style>\n",
       "<table border=\"1\" class=\"dataframe\">\n",
       "  <thead>\n",
       "    <tr style=\"text-align: right;\">\n",
       "      <th></th>\n",
       "      <th>Antiguedad</th>\n",
       "    </tr>\n",
       "  </thead>\n",
       "  <tbody>\n",
       "    <tr>\n",
       "      <th>count</th>\n",
       "      <td>143039.000000</td>\n",
       "    </tr>\n",
       "    <tr>\n",
       "      <th>mean</th>\n",
       "      <td>1.999986</td>\n",
       "    </tr>\n",
       "    <tr>\n",
       "      <th>std</th>\n",
       "      <td>0.003739</td>\n",
       "    </tr>\n",
       "    <tr>\n",
       "      <th>min</th>\n",
       "      <td>1.000000</td>\n",
       "    </tr>\n",
       "    <tr>\n",
       "      <th>25%</th>\n",
       "      <td>2.000000</td>\n",
       "    </tr>\n",
       "    <tr>\n",
       "      <th>50%</th>\n",
       "      <td>2.000000</td>\n",
       "    </tr>\n",
       "    <tr>\n",
       "      <th>75%</th>\n",
       "      <td>2.000000</td>\n",
       "    </tr>\n",
       "    <tr>\n",
       "      <th>max</th>\n",
       "      <td>2.000000</td>\n",
       "    </tr>\n",
       "    <tr>\n",
       "      <th>coef. variation</th>\n",
       "      <td>0.001870</td>\n",
       "    </tr>\n",
       "  </tbody>\n",
       "</table>\n",
       "</div>"
      ],
      "text/plain": [
       "                    Antiguedad\n",
       "count            143039.000000\n",
       "mean                  1.999986\n",
       "std                   0.003739\n",
       "min                   1.000000\n",
       "25%                   2.000000\n",
       "50%                   2.000000\n",
       "75%                   2.000000\n",
       "max                   2.000000\n",
       "coef. variation       0.001870"
      ]
     },
     "execution_count": 131,
     "metadata": {},
     "output_type": "execute_result"
    }
   ],
   "source": [
    "tabla_antiguedad=tabla_descriptivas(df['Antiguedad'])\n",
    "tabla_antiguedad"
   ]
  },
  {
   "cell_type": "code",
   "execution_count": 132,
   "id": "69432668",
   "metadata": {},
   "outputs": [
    {
     "data": {
      "image/png": "[encoded data removed]",
      "text/plain": [
       "<Figure size 1000x500 with 1 Axes>"
      ]
     },
     "metadata": {},
     "output_type": "display_data"
    }
   ],
   "source": [
    "plt.figure(figsize=(10,5)) \n",
    "boxplot_antiguedad=sns.boxplot(x=df['Antiguedad'],palette = \"Set2\", showmeans=True) ## crea el boxplot\n",
    "boxplot_antiguedad.set_xlabel('Antiguedad') ## cambia el título del eje x\n",
    "boxplot_antiguedad.set_title('Antiguedad del cliente')\n",
    "plt.show() "
   ]
  },
  {
   "cell_type": "markdown",
   "id": "b3090aa2",
   "metadata": {},
   "source": [
    "Esta columna de antigüedad contiene datos inconsistentes, donde se observa que los datos son 2 o 60, esto lleva a tomar la decisión de eliminar para el modelo esta columna o solicitar al área encargada la revisión de este campo de manera que cuando se solucione, solicitar de nuevo el dataset. "
   ]
  },
  {
   "cell_type": "markdown",
   "id": "195624d9",
   "metadata": {},
   "source": [
    "#### 2.4.5.  Edad de clientes"
   ]
  },
  {
   "cell_type": "code",
   "execution_count": 133,
   "id": "25a56018",
   "metadata": {},
   "outputs": [
    {
     "data": {
      "text/plain": [
       "0"
      ]
     },
     "execution_count": 133,
     "metadata": {},
     "output_type": "execute_result"
    }
   ],
   "source": [
    "# Confirmamos que no existan valores nulos\n",
    "df['Edad'].isna().sum()"
   ]
  },
  {
   "cell_type": "code",
   "execution_count": 134,
   "id": "780455ad",
   "metadata": {
    "scrolled": true
   },
   "outputs": [
    {
     "data": {
      "text/html": [
       "<div>\n",
       "<style scoped>\n",
       "    .dataframe tbody tr th:only-of-type {\n",
       "        vertical-align: middle;\n",
       "    }\n",
       "\n",
       "    .dataframe tbody tr th {\n",
       "        vertical-align: top;\n",
       "    }\n",
       "\n",
       "    .dataframe thead th {\n",
       "        text-align: right;\n",
       "    }\n",
       "</style>\n",
       "<table border=\"1\" class=\"dataframe\">\n",
       "  <thead>\n",
       "    <tr style=\"text-align: right;\">\n",
       "      <th></th>\n",
       "      <th>Edad</th>\n",
       "    </tr>\n",
       "  </thead>\n",
       "  <tbody>\n",
       "    <tr>\n",
       "      <th>count</th>\n",
       "      <td>143039.000000</td>\n",
       "    </tr>\n",
       "    <tr>\n",
       "      <th>mean</th>\n",
       "      <td>42.748132</td>\n",
       "    </tr>\n",
       "    <tr>\n",
       "      <th>std</th>\n",
       "      <td>16.754938</td>\n",
       "    </tr>\n",
       "    <tr>\n",
       "      <th>min</th>\n",
       "      <td>-2970.000000</td>\n",
       "    </tr>\n",
       "    <tr>\n",
       "      <th>25%</th>\n",
       "      <td>30.000000</td>\n",
       "    </tr>\n",
       "    <tr>\n",
       "      <th>50%</th>\n",
       "      <td>42.000000</td>\n",
       "    </tr>\n",
       "    <tr>\n",
       "      <th>75%</th>\n",
       "      <td>54.000000</td>\n",
       "    </tr>\n",
       "    <tr>\n",
       "      <th>max</th>\n",
       "      <td>241.000000</td>\n",
       "    </tr>\n",
       "    <tr>\n",
       "      <th>coef. variation</th>\n",
       "      <td>0.391946</td>\n",
       "    </tr>\n",
       "  </tbody>\n",
       "</table>\n",
       "</div>"
      ],
      "text/plain": [
       "                          Edad\n",
       "count            143039.000000\n",
       "mean                 42.748132\n",
       "std                  16.754938\n",
       "min               -2970.000000\n",
       "25%                  30.000000\n",
       "50%                  42.000000\n",
       "75%                  54.000000\n",
       "max                 241.000000\n",
       "coef. variation       0.391946"
      ]
     },
     "execution_count": 134,
     "metadata": {},
     "output_type": "execute_result"
    }
   ],
   "source": [
    "tabla_edad=tabla_descriptivas(df['Edad'])\n",
    "tabla_edad"
   ]
  },
  {
   "cell_type": "code",
   "execution_count": 135,
   "id": "d3c8fb6c",
   "metadata": {},
   "outputs": [
    {
     "data": {
      "image/png": "[encoded data removed]",
      "text/plain": [
       "<Figure size 1000x500 with 1 Axes>"
      ]
     },
     "metadata": {},
     "output_type": "display_data"
    }
   ],
   "source": [
    "plt.figure(figsize=(10,5)) \n",
    "boxplot_edad=sns.boxplot(x=df['Edad'],palette = \"Set2\", showmeans=True) ## crea el boxplot\n",
    "boxplot_edad.set_xlabel('Edad') ## cambia el título del eje x\n",
    "boxplot_edad.set_title('Edad del cliente')\n",
    "plt.show() "
   ]
  },
  {
   "cell_type": "markdown",
   "id": "d0b24c38",
   "metadata": {},
   "source": [
    "Se detectan muchos outliers, dado que de acuerdo al mannual de crédito la edad para otorgar un crédito es mínimo 18 años y máximo 65 años."
   ]
  },
  {
   "cell_type": "markdown",
   "id": "48f402cf",
   "metadata": {},
   "source": [
    "##### Tratamiento de outliers edad"
   ]
  },
  {
   "cell_type": "code",
   "execution_count": 136,
   "id": "c6a66edd",
   "metadata": {},
   "outputs": [],
   "source": [
    "#Reemplazamos los outliers por valores el promedio de plazo\n",
    "df.loc[df['Edad'] < 18, 'Edad'] = df[\"Edad\"].astype(\"int\").mean()\n",
    "df.loc[df['Edad'] > 65, 'Edad'] = df[\"Edad\"].astype(\"int\").mean()"
   ]
  },
  {
   "cell_type": "code",
   "execution_count": 137,
   "id": "e6e8d0a8",
   "metadata": {},
   "outputs": [
    {
     "data": {
      "text/html": [
       "<div>\n",
       "<style scoped>\n",
       "    .dataframe tbody tr th:only-of-type {\n",
       "        vertical-align: middle;\n",
       "    }\n",
       "\n",
       "    .dataframe tbody tr th {\n",
       "        vertical-align: top;\n",
       "    }\n",
       "\n",
       "    .dataframe thead th {\n",
       "        text-align: right;\n",
       "    }\n",
       "</style>\n",
       "<table border=\"1\" class=\"dataframe\">\n",
       "  <thead>\n",
       "    <tr style=\"text-align: right;\">\n",
       "      <th></th>\n",
       "      <th>Edad</th>\n",
       "    </tr>\n",
       "  </thead>\n",
       "  <tbody>\n",
       "    <tr>\n",
       "      <th>count</th>\n",
       "      <td>143039.000000</td>\n",
       "    </tr>\n",
       "    <tr>\n",
       "      <th>mean</th>\n",
       "      <td>40.805386</td>\n",
       "    </tr>\n",
       "    <tr>\n",
       "      <th>std</th>\n",
       "      <td>12.327001</td>\n",
       "    </tr>\n",
       "    <tr>\n",
       "      <th>min</th>\n",
       "      <td>18.000000</td>\n",
       "    </tr>\n",
       "    <tr>\n",
       "      <th>25%</th>\n",
       "      <td>31.000000</td>\n",
       "    </tr>\n",
       "    <tr>\n",
       "      <th>50%</th>\n",
       "      <td>42.000000</td>\n",
       "    </tr>\n",
       "    <tr>\n",
       "      <th>75%</th>\n",
       "      <td>50.000000</td>\n",
       "    </tr>\n",
       "    <tr>\n",
       "      <th>max</th>\n",
       "      <td>65.000000</td>\n",
       "    </tr>\n",
       "    <tr>\n",
       "      <th>coef. variation</th>\n",
       "      <td>0.302092</td>\n",
       "    </tr>\n",
       "  </tbody>\n",
       "</table>\n",
       "</div>"
      ],
      "text/plain": [
       "                          Edad\n",
       "count            143039.000000\n",
       "mean                 40.805386\n",
       "std                  12.327001\n",
       "min                  18.000000\n",
       "25%                  31.000000\n",
       "50%                  42.000000\n",
       "75%                  50.000000\n",
       "max                  65.000000\n",
       "coef. variation       0.302092"
      ]
     },
     "execution_count": 137,
     "metadata": {},
     "output_type": "execute_result"
    }
   ],
   "source": [
    "tabla_edad2=tabla_descriptivas(df['Edad'])\n",
    "tabla_edad2"
   ]
  },
  {
   "cell_type": "code",
   "execution_count": 138,
   "id": "9f535825",
   "metadata": {
    "scrolled": false
   },
   "outputs": [
    {
     "data": {
      "image/png": "[encoded data removed]",
      "text/plain": [
       "<Figure size 1000x500 with 1 Axes>"
      ]
     },
     "metadata": {},
     "output_type": "display_data"
    }
   ],
   "source": [
    "plt.figure(figsize=(10,5)) \n",
    "boxplot_edad2=sns.boxplot(x=df['Edad'],palette = \"viridis\", showmeans=True) ## crea el boxplot\n",
    "boxplot_edad2.set_xlabel('Edad') ## cambia el título del eje x\n",
    "boxplot_edad2.set_title('Edad del cliente normalizada')\n",
    "plt.show() "
   ]
  },
  {
   "cell_type": "markdown",
   "id": "8cf38063",
   "metadata": {},
   "source": [
    "El 50% de los clientes que atiende la entidad se encuentran entre los 31 y 50 años, con edad promedio de 40 años, esto lleva a hacerse la pregunta del potencial que puede representar clientes de edades menores a 31 años, dado que la entidad se concentran en zonas rurales, y actualmente se vive un fenómeno de que los jóvenes están migrando a las ciudades, lo que expone el reto de buscar ofertas de crédito para este nicho. "
   ]
  },
  {
   "cell_type": "markdown",
   "id": "1edb217c",
   "metadata": {},
   "source": [
    "#### 2.4.6.  Personas a Cargo"
   ]
  },
  {
   "cell_type": "code",
   "execution_count": 139,
   "id": "b2f421e8",
   "metadata": {},
   "outputs": [
    {
     "data": {
      "text/plain": [
       "0"
      ]
     },
     "execution_count": 139,
     "metadata": {},
     "output_type": "execute_result"
    }
   ],
   "source": [
    "# Confirmamos que no existan valores nulos\n",
    "df['Personas_a_Cargo'].isna().sum()"
   ]
  },
  {
   "cell_type": "code",
   "execution_count": 140,
   "id": "938a9f9e",
   "metadata": {
    "scrolled": true
   },
   "outputs": [
    {
     "data": {
      "text/html": [
       "<div>\n",
       "<style scoped>\n",
       "    .dataframe tbody tr th:only-of-type {\n",
       "        vertical-align: middle;\n",
       "    }\n",
       "\n",
       "    .dataframe tbody tr th {\n",
       "        vertical-align: top;\n",
       "    }\n",
       "\n",
       "    .dataframe thead th {\n",
       "        text-align: right;\n",
       "    }\n",
       "</style>\n",
       "<table border=\"1\" class=\"dataframe\">\n",
       "  <thead>\n",
       "    <tr style=\"text-align: right;\">\n",
       "      <th></th>\n",
       "      <th>Personas_a_Cargo</th>\n",
       "    </tr>\n",
       "  </thead>\n",
       "  <tbody>\n",
       "    <tr>\n",
       "      <th>count</th>\n",
       "      <td>143039.000000</td>\n",
       "    </tr>\n",
       "    <tr>\n",
       "      <th>mean</th>\n",
       "      <td>0.804375</td>\n",
       "    </tr>\n",
       "    <tr>\n",
       "      <th>std</th>\n",
       "      <td>1.149715</td>\n",
       "    </tr>\n",
       "    <tr>\n",
       "      <th>min</th>\n",
       "      <td>0.000000</td>\n",
       "    </tr>\n",
       "    <tr>\n",
       "      <th>25%</th>\n",
       "      <td>0.000000</td>\n",
       "    </tr>\n",
       "    <tr>\n",
       "      <th>50%</th>\n",
       "      <td>0.000000</td>\n",
       "    </tr>\n",
       "    <tr>\n",
       "      <th>75%</th>\n",
       "      <td>1.000000</td>\n",
       "    </tr>\n",
       "    <tr>\n",
       "      <th>max</th>\n",
       "      <td>200.000000</td>\n",
       "    </tr>\n",
       "    <tr>\n",
       "      <th>coef. variation</th>\n",
       "      <td>1.429327</td>\n",
       "    </tr>\n",
       "  </tbody>\n",
       "</table>\n",
       "</div>"
      ],
      "text/plain": [
       "                 Personas_a_Cargo\n",
       "count               143039.000000\n",
       "mean                     0.804375\n",
       "std                      1.149715\n",
       "min                      0.000000\n",
       "25%                      0.000000\n",
       "50%                      0.000000\n",
       "75%                      1.000000\n",
       "max                    200.000000\n",
       "coef. variation          1.429327"
      ]
     },
     "execution_count": 140,
     "metadata": {},
     "output_type": "execute_result"
    }
   ],
   "source": [
    "tabla_cargo=tabla_descriptivas(df['Personas_a_Cargo'])\n",
    "tabla_cargo"
   ]
  },
  {
   "cell_type": "code",
   "execution_count": 141,
   "id": "62398e63",
   "metadata": {},
   "outputs": [
    {
     "data": {
      "image/png": "[encoded data removed]",
      "text/plain": [
       "<Figure size 1000x500 with 1 Axes>"
      ]
     },
     "metadata": {},
     "output_type": "display_data"
    }
   ],
   "source": [
    "plt.figure(figsize=(10,5)) \n",
    "boxplot_edad=sns.boxplot(x=df['Personas_a_Cargo'],palette = \"Set2\", showmeans=True) ## crea el boxplot\n",
    "boxplot_edad.set_xlabel('Personas a Cargo') ## cambia el título del eje x\n",
    "boxplot_edad.set_title('Personas a cargo')\n",
    "plt.show() "
   ]
  },
  {
   "cell_type": "markdown",
   "id": "d7592a8d",
   "metadata": {},
   "source": [
    "##### Hacemos tratamiento de outliers con IQR"
   ]
  },
  {
   "cell_type": "code",
   "execution_count": 142,
   "id": "64ed3e6e",
   "metadata": {},
   "outputs": [],
   "source": [
    "#Función para calcular IQR\n",
    "\n",
    "def find_outliers_IQR(df):\n",
    "   q1=df.quantile(0.25)\n",
    "   q3=df.quantile(0.75)\n",
    "   IQR=q3-q1\n",
    "   outliers = df[ ((df<(q1-1.5*IQR)) | (df>(q3+1.5*IQR))) ]\n",
    "   return outliers"
   ]
  },
  {
   "cell_type": "code",
   "execution_count": 143,
   "id": "3474d687",
   "metadata": {
    "scrolled": true
   },
   "outputs": [
    {
     "name": "stdout",
     "output_type": "stream",
     "text": [
      "número de outliers: 8759\n",
      "max valor outlier: 200\n",
      "min valor outlier: 3\n",
      "17        3\n",
      "207       3\n",
      "220       3\n",
      "251       3\n",
      "360       3\n",
      "         ..\n",
      "142695    3\n",
      "142702    3\n",
      "142739    3\n",
      "143012    3\n",
      "143034    3\n",
      "Name: Personas_a_Cargo, Length: 8759, dtype: int64\n"
     ]
    }
   ],
   "source": [
    "outliers = find_outliers_IQR(df['Personas_a_Cargo'])\n",
    "\n",
    "print('número de outliers: '+ str(len(outliers)))\n",
    "print('max valor outlier: ' + str(outliers.max()))\n",
    "print('min valor outlier: ' + str(outliers.min()))\n",
    "\n",
    "print(outliers)"
   ]
  },
  {
   "cell_type": "code",
   "execution_count": 144,
   "id": "228fddea",
   "metadata": {},
   "outputs": [
    {
     "data": {
      "text/plain": [
       "6.123504778417075"
      ]
     },
     "execution_count": 144,
     "metadata": {},
     "output_type": "execute_result"
    }
   ],
   "source": [
    "#Cantidad de outliers vs total de registros\n",
    "(len(outliers)/len(df['Personas_a_Cargo']))*100"
   ]
  },
  {
   "cell_type": "markdown",
   "id": "0c81a62f",
   "metadata": {},
   "source": [
    "Se denota una gran cantidad de outliers, represetando seis de cada cien datos. Se procede a hacer "
   ]
  },
  {
   "cell_type": "code",
   "execution_count": 145,
   "id": "e95279c4",
   "metadata": {},
   "outputs": [],
   "source": [
    "# Imputamos los valores por la media\n",
    "\n",
    "def impute_outliers_IQR(df):\n",
    "   q1=df.quantile(0.25)\n",
    "   q3=df.quantile(0.75)\n",
    "   IQR=q3-q1\n",
    "   upper = df[~(df>(q3+1.5*IQR))].max()\n",
    "   lower = df[~(df<(q1-1.5*IQR))].min()\n",
    "\n",
    "   df = np.where(df > upper, # donde sea mayor\n",
    "       df.mean().astype(\"int\"),             # colocamos la media\n",
    "       np.where(              # en otros caso:\n",
    "           df < lower,        # Cuando sea menor a lower\n",
    "           df.mean().astype(\"int\"),         # colocamos la media\n",
    "           df                 # el resto de las veces dejamos el valor como estaba\n",
    "           )\n",
    "       )\n",
    "   return df"
   ]
  },
  {
   "cell_type": "code",
   "execution_count": 146,
   "id": "d3355d0b",
   "metadata": {
    "scrolled": true
   },
   "outputs": [
    {
     "data": {
      "text/plain": [
       "count    143039.000000\n",
       "mean          0.597068\n",
       "std           0.758035\n",
       "min           0.000000\n",
       "25%           0.000000\n",
       "50%           0.000000\n",
       "75%           1.000000\n",
       "max           2.000000\n",
       "Name: Personas_a_Cargo, dtype: float64"
      ]
     },
     "execution_count": 146,
     "metadata": {},
     "output_type": "execute_result"
    }
   ],
   "source": [
    "df['Personas_a_Cargo'] = impute_outliers_IQR(df['Personas_a_Cargo'])\n",
    "df.describe()['Personas_a_Cargo']"
   ]
  },
  {
   "cell_type": "code",
   "execution_count": 147,
   "id": "26b06618",
   "metadata": {
    "scrolled": false
   },
   "outputs": [
    {
     "data": {
      "image/png": "[encoded data removed]",
      "text/plain": [
       "<Figure size 1000x500 with 1 Axes>"
      ]
     },
     "metadata": {},
     "output_type": "display_data"
    }
   ],
   "source": [
    "plt.figure(figsize=(10,5)) \n",
    "boxplot_edad=sns.boxplot(x=df['Personas_a_Cargo'],palette = \"Set2\", showmeans=True) ## crea el boxplot\n",
    "boxplot_edad.set_xlabel('Personas a Cargo') ## cambia el título del eje x\n",
    "boxplot_edad.set_title('Personas a cargo')\n",
    "plt.show() "
   ]
  },
  {
   "cell_type": "markdown",
   "id": "07098b0e",
   "metadata": {},
   "source": [
    "A pesar de realizar el tramiento de outliers, ciertamente los datos no concuerdan con la realidad de la entidad, dado que este tipo de clientes de acuerdo a estudios de mercados, se ha indentificado que al ser independientes, responden por el hogar, en donde comunmente son 4 personas, por ende, esta variable debe ser solicitada de nuevo al área encargada. "
   ]
  },
  {
   "cell_type": "markdown",
   "id": "dcc9e86e",
   "metadata": {},
   "source": [
    "### 2.5. Conclusión y recomendaciones de análisis univariado"
   ]
  },
  {
   "cell_type": "markdown",
   "id": "14cec5ed",
   "metadata": {},
   "source": [
    "El análisis univariado reveló importantes hallazgos que demandan atención por parte de la entidad. Se observó la presencia de valores nulos en varias variables, así como una preocupante cantidad de datos atípicos, especialmente en las variables numéricas, lo que indica posibles anomalías en el registro de la información. Por lo tanto, se recomienda una revisión exhaustiva del proceso de recolección de datos para garantizar una mayor calidad de la información.\n",
    "\n",
    "Entre los datos analizados, se destaca que aproximadamente tres de cada diez clientes están involucrados en el sector agrícola, lo que sugiere una importante representación de este sector dentro de la cartera de clientes de la entidad. Además, no se observa una diferencia significativa entre géneros en cuanto a la solicitud y desembolso de créditos. Otro aspecto relevante es que la mitad de los clientes poseen vivienda propia sin hipoteca en el sistema financiero, lo que podría indicar una estabilidad financiera relativa en este aspecto.\n",
    "\n",
    "El análisis también reveló que el 65,55% de los clientes son solteros o conviven en unión libre, lo que presenta una oportunidad para la entidad de diseñar campañas publicitarias segmentadas hacia este segmento específico. En cuanto a los créditos, se encontró que el monto promedio es de $5.300.000,00, con plazos medios de 18 meses y una tasa de interés promedio del 51% EA. Además, la edad promedio de los clientes se sitúa en 40 años, proporcionando a la entidad información valiosa para ajustar sus estrategias de mercado y de riesgo de manera más precisa."
   ]
  },
  {
   "cell_type": "markdown",
   "id": "a2f8e6a1",
   "metadata": {},
   "source": [
    "### 2.6. Análisis multivariado"
   ]
  },
  {
   "cell_type": "markdown",
   "id": "ec5d9005",
   "metadata": {},
   "source": [
    "#### Dado que el objetivo es identificar las características de clientes que incurren en mora, se realiza en análisis bivariado con respecto a esta variable objetivo. Sin embargo, primeramente se realiza una descripción de esta variable:\n"
   ]
  },
  {
   "cell_type": "code",
   "execution_count": 148,
   "id": "ed592aba",
   "metadata": {
    "scrolled": false
   },
   "outputs": [
    {
     "data": {
      "text/html": [
       "<div>\n",
       "<style scoped>\n",
       "    .dataframe tbody tr th:only-of-type {\n",
       "        vertical-align: middle;\n",
       "    }\n",
       "\n",
       "    .dataframe tbody tr th {\n",
       "        vertical-align: top;\n",
       "    }\n",
       "\n",
       "    .dataframe thead th {\n",
       "        text-align: right;\n",
       "    }\n",
       "</style>\n",
       "<table border=\"1\" class=\"dataframe\">\n",
       "  <thead>\n",
       "    <tr style=\"text-align: right;\">\n",
       "      <th>col_0</th>\n",
       "      <th>Mora</th>\n",
       "      <th>Frec. Abs.</th>\n",
       "      <th>Frec. Rel.</th>\n",
       "    </tr>\n",
       "  </thead>\n",
       "  <tbody>\n",
       "    <tr>\n",
       "      <th>0</th>\n",
       "      <td>No</td>\n",
       "      <td>120343</td>\n",
       "      <td>0.84133</td>\n",
       "    </tr>\n",
       "    <tr>\n",
       "      <th>1</th>\n",
       "      <td>Si</td>\n",
       "      <td>22696</td>\n",
       "      <td>0.15867</td>\n",
       "    </tr>\n",
       "  </tbody>\n",
       "</table>\n",
       "</div>"
      ],
      "text/plain": [
       "col_0 Mora  Frec. Abs.  Frec. Rel.\n",
       "0       No      120343     0.84133\n",
       "1       Si       22696     0.15867"
      ]
     },
     "execution_count": 148,
     "metadata": {},
     "output_type": "execute_result"
    }
   ],
   "source": [
    "df[\"Mora\"].value_counts()\n",
    "tabla_mora=tabla_freq(df['Mora'])\n",
    "tabla_mora"
   ]
  },
  {
   "cell_type": "markdown",
   "id": "0fc9e4eb",
   "metadata": {},
   "source": [
    "Los casos de clientes en mora, comparados con el total de clientes, es de tan solo el 15% del dataset, lo que podría tener impactos más adelante al tratar de predecir esta variable, puesto que no se tiene registros suficiente para que el modelo de predicción lo aprenda a identificar."
   ]
  },
  {
   "cell_type": "markdown",
   "id": "6996a23e",
   "metadata": {},
   "source": [
    "Se analizarán las variables más importantes que componen un crédito, siendo estas: tasa, plazo y monto."
   ]
  },
  {
   "cell_type": "markdown",
   "id": "6a02cdb1",
   "metadata": {},
   "source": [
    "#### 2.6.1. Edad Vs Clientes que incurren en mora"
   ]
  },
  {
   "cell_type": "code",
   "execution_count": 149,
   "id": "40e3b83f",
   "metadata": {},
   "outputs": [
    {
     "data": {
      "text/html": [
       "<div>\n",
       "<style scoped>\n",
       "    .dataframe tbody tr th:only-of-type {\n",
       "        vertical-align: middle;\n",
       "    }\n",
       "\n",
       "    .dataframe tbody tr th {\n",
       "        vertical-align: top;\n",
       "    }\n",
       "\n",
       "    .dataframe thead th {\n",
       "        text-align: right;\n",
       "    }\n",
       "</style>\n",
       "<table border=\"1\" class=\"dataframe\">\n",
       "  <thead>\n",
       "    <tr style=\"text-align: right;\">\n",
       "      <th></th>\n",
       "      <th>count</th>\n",
       "      <th>mean</th>\n",
       "      <th>std</th>\n",
       "      <th>min</th>\n",
       "      <th>25%</th>\n",
       "      <th>50%</th>\n",
       "      <th>75%</th>\n",
       "      <th>max</th>\n",
       "    </tr>\n",
       "    <tr>\n",
       "      <th>Mora</th>\n",
       "      <th></th>\n",
       "      <th></th>\n",
       "      <th></th>\n",
       "      <th></th>\n",
       "      <th></th>\n",
       "      <th></th>\n",
       "      <th></th>\n",
       "      <th></th>\n",
       "    </tr>\n",
       "  </thead>\n",
       "  <tbody>\n",
       "    <tr>\n",
       "      <th>No</th>\n",
       "      <td>120343.0</td>\n",
       "      <td>41.134471</td>\n",
       "      <td>12.315096</td>\n",
       "      <td>18.0</td>\n",
       "      <td>31.0</td>\n",
       "      <td>42.845539</td>\n",
       "      <td>51.0</td>\n",
       "      <td>65.0</td>\n",
       "    </tr>\n",
       "    <tr>\n",
       "      <th>Si</th>\n",
       "      <td>22696.0</td>\n",
       "      <td>39.060450</td>\n",
       "      <td>12.243283</td>\n",
       "      <td>18.0</td>\n",
       "      <td>29.0</td>\n",
       "      <td>39.000000</td>\n",
       "      <td>48.0</td>\n",
       "      <td>65.0</td>\n",
       "    </tr>\n",
       "  </tbody>\n",
       "</table>\n",
       "</div>"
      ],
      "text/plain": [
       "         count       mean        std   min   25%        50%   75%   max\n",
       "Mora                                                                   \n",
       "No    120343.0  41.134471  12.315096  18.0  31.0  42.845539  51.0  65.0\n",
       "Si     22696.0  39.060450  12.243283  18.0  29.0  39.000000  48.0  65.0"
      ]
     },
     "execution_count": 149,
     "metadata": {},
     "output_type": "execute_result"
    }
   ],
   "source": [
    "df.groupby(\"Mora\")['Edad'].describe()"
   ]
  },
  {
   "cell_type": "code",
   "execution_count": 150,
   "id": "9d82b762-d298-4574-8733-a2d25456467e",
   "metadata": {
    "scrolled": false
   },
   "outputs": [
    {
     "data": {
      "image/png": "[encoded data removed]",
      "text/plain": [
       "<Figure size 1500x1000 with 1 Axes>"
      ]
     },
     "metadata": {},
     "output_type": "display_data"
    }
   ],
   "source": [
    "plt.figure(figsize=(15,10)) \n",
    "boxplot_inter_not=sns.boxplot(x=df['Mora'],y=df['Edad'],palette=\"Set2\",showmeans=True) ## crea el boxplot\n",
    "boxplot_inter_not.set_xlabel('Mora') ## cambia el título del eje x\n",
    "boxplot_inter_not.set_ylabel('Edad') ## cambia el título del eje x\n",
    "boxplot_inter_not.set_ylim(18, 90)                     ## cambia los límites del eje x\n",
    "boxplot_inter_not.set_yticks(range(10,91,5))               ## cambia los valores del eje x\n",
    "boxplot_inter_not.set_title('Distribución Edad por incursión en Mora')\n",
    "plt.show() "
   ]
  },
  {
   "cell_type": "markdown",
   "id": "cf6e442b-0b6a-48f6-91cc-7a980ec53a0d",
   "metadata": {},
   "source": [
    "Como se puede evidenciar las personas que tiene una edad (dentro de los parametro de edad permitidos) son la que con mayor probabilidad incumplan con los pago y se atrasen en la cuotas"
   ]
  },
  {
   "cell_type": "markdown",
   "id": "42e4628e",
   "metadata": {},
   "source": [
    "#### 2.6.2. Plazo Vs Clientes que incurren en mora"
   ]
  },
  {
   "cell_type": "code",
   "execution_count": 151,
   "id": "8af86c30-abc3-4e9a-a386-afae28b412ac",
   "metadata": {},
   "outputs": [
    {
     "data": {
      "image/png": "[encoded data removed]",
      "text/plain": [
       "<Figure size 1500x1000 with 1 Axes>"
      ]
     },
     "metadata": {},
     "output_type": "display_data"
    }
   ],
   "source": [
    "plt.figure(figsize=(15,10)) \n",
    "boxplot_inter_not=sns.boxplot(x=df['Mora'],y=df['Plazo_Meses'],palette=\"Set2\",showmeans=True) ## crea el boxplot\n",
    "boxplot_inter_not.set_xlabel('Mora') ## cambia el título del eje x\n",
    "boxplot_inter_not.set_ylabel('Plazo_Meses') ## cambia el título del eje x\n",
    "boxplot_inter_not.set_ylim(0, 90)                     ## cambia los límites del eje x\n",
    "boxplot_inter_not.set_yticks(range(0,91,3))               ## cambia los valores del eje x\n",
    "boxplot_inter_not.set_title('Distribución Plazo por incursión en Mora')\n",
    "plt.show() "
   ]
  },
  {
   "cell_type": "code",
   "execution_count": 152,
   "id": "029f086e",
   "metadata": {},
   "outputs": [
    {
     "data": {
      "text/html": [
       "<div>\n",
       "<style scoped>\n",
       "    .dataframe tbody tr th:only-of-type {\n",
       "        vertical-align: middle;\n",
       "    }\n",
       "\n",
       "    .dataframe tbody tr th {\n",
       "        vertical-align: top;\n",
       "    }\n",
       "\n",
       "    .dataframe thead th {\n",
       "        text-align: right;\n",
       "    }\n",
       "</style>\n",
       "<table border=\"1\" class=\"dataframe\">\n",
       "  <thead>\n",
       "    <tr style=\"text-align: right;\">\n",
       "      <th></th>\n",
       "      <th>count</th>\n",
       "      <th>mean</th>\n",
       "      <th>std</th>\n",
       "      <th>min</th>\n",
       "      <th>25%</th>\n",
       "      <th>50%</th>\n",
       "      <th>75%</th>\n",
       "      <th>max</th>\n",
       "    </tr>\n",
       "    <tr>\n",
       "      <th>Mora</th>\n",
       "      <th></th>\n",
       "      <th></th>\n",
       "      <th></th>\n",
       "      <th></th>\n",
       "      <th></th>\n",
       "      <th></th>\n",
       "      <th></th>\n",
       "      <th></th>\n",
       "    </tr>\n",
       "  </thead>\n",
       "  <tbody>\n",
       "    <tr>\n",
       "      <th>No</th>\n",
       "      <td>120343.0</td>\n",
       "      <td>18.659064</td>\n",
       "      <td>8.122389</td>\n",
       "      <td>3.0</td>\n",
       "      <td>12.0</td>\n",
       "      <td>18.0</td>\n",
       "      <td>24.0</td>\n",
       "      <td>60.0</td>\n",
       "    </tr>\n",
       "    <tr>\n",
       "      <th>Si</th>\n",
       "      <td>22696.0</td>\n",
       "      <td>20.217909</td>\n",
       "      <td>8.131599</td>\n",
       "      <td>3.0</td>\n",
       "      <td>14.0</td>\n",
       "      <td>18.0</td>\n",
       "      <td>24.0</td>\n",
       "      <td>60.0</td>\n",
       "    </tr>\n",
       "  </tbody>\n",
       "</table>\n",
       "</div>"
      ],
      "text/plain": [
       "         count       mean       std  min   25%   50%   75%   max\n",
       "Mora                                                            \n",
       "No    120343.0  18.659064  8.122389  3.0  12.0  18.0  24.0  60.0\n",
       "Si     22696.0  20.217909  8.131599  3.0  14.0  18.0  24.0  60.0"
      ]
     },
     "execution_count": 152,
     "metadata": {},
     "output_type": "execute_result"
    }
   ],
   "source": [
    "df.groupby(\"Mora\")['Plazo_Meses'].describe()"
   ]
  },
  {
   "cell_type": "markdown",
   "id": "cb12ee46-c8bd-40f0-8bd7-7f20814a2596",
   "metadata": {},
   "source": [
    "Con la gráfica anterior se puede intuir que los clientes para sus deudas entre los 12 a 24 meses, pero a su vez estos son los periodos en los cuales también se dan más las moras en los pagos."
   ]
  },
  {
   "cell_type": "markdown",
   "id": "ad082edb",
   "metadata": {},
   "source": [
    "#### 2.6.3.  Tasa Vs Clientes que incurren en mora"
   ]
  },
  {
   "cell_type": "code",
   "execution_count": 153,
   "id": "3090843e-6912-4a3b-bd5b-1b6f868763bf",
   "metadata": {},
   "outputs": [
    {
     "data": {
      "image/png": "[encoded data removed]",
      "text/plain": [
       "<Figure size 1500x1000 with 1 Axes>"
      ]
     },
     "metadata": {},
     "output_type": "display_data"
    }
   ],
   "source": [
    "plt.figure(figsize=(15,10)) \n",
    "boxplot_inter_not=sns.boxplot(x=df['Mora'],y=df['Tasa'],palette=\"Set2\",showmeans=True) ## crea el boxplot\n",
    "boxplot_inter_not.set_xlabel('Mora') ## cambia el título del eje x\n",
    "boxplot_inter_not.set_ylabel('Tasa') ## cambia el título del eje x\n",
    "boxplot_inter_not.set_ylim(30, 70)                     ## cambia los límites del eje x\n",
    "boxplot_inter_not.set_yticks(range(30,70,5))               ## cambia los valores del eje x\n",
    "boxplot_inter_not.set_title('Distribución Tasa por incursión en Mora')\n",
    "plt.show() "
   ]
  },
  {
   "cell_type": "code",
   "execution_count": 154,
   "id": "0eb00b00-53be-4e08-8518-05ab32774f4e",
   "metadata": {},
   "outputs": [
    {
     "data": {
      "text/html": [
       "<div>\n",
       "<style scoped>\n",
       "    .dataframe tbody tr th:only-of-type {\n",
       "        vertical-align: middle;\n",
       "    }\n",
       "\n",
       "    .dataframe tbody tr th {\n",
       "        vertical-align: top;\n",
       "    }\n",
       "\n",
       "    .dataframe thead th {\n",
       "        text-align: right;\n",
       "    }\n",
       "</style>\n",
       "<table border=\"1\" class=\"dataframe\">\n",
       "  <thead>\n",
       "    <tr style=\"text-align: right;\">\n",
       "      <th></th>\n",
       "      <th>count</th>\n",
       "      <th>mean</th>\n",
       "      <th>std</th>\n",
       "      <th>min</th>\n",
       "      <th>25%</th>\n",
       "      <th>50%</th>\n",
       "      <th>75%</th>\n",
       "      <th>max</th>\n",
       "    </tr>\n",
       "    <tr>\n",
       "      <th>Mora</th>\n",
       "      <th></th>\n",
       "      <th></th>\n",
       "      <th></th>\n",
       "      <th></th>\n",
       "      <th></th>\n",
       "      <th></th>\n",
       "      <th></th>\n",
       "      <th></th>\n",
       "    </tr>\n",
       "  </thead>\n",
       "  <tbody>\n",
       "    <tr>\n",
       "      <th>No</th>\n",
       "      <td>120343.0</td>\n",
       "      <td>51.107362</td>\n",
       "      <td>5.658316</td>\n",
       "      <td>33.5</td>\n",
       "      <td>49.04</td>\n",
       "      <td>52.39</td>\n",
       "      <td>52.89</td>\n",
       "      <td>63.0</td>\n",
       "    </tr>\n",
       "    <tr>\n",
       "      <th>Si</th>\n",
       "      <td>22696.0</td>\n",
       "      <td>51.003954</td>\n",
       "      <td>4.545756</td>\n",
       "      <td>33.5</td>\n",
       "      <td>49.70</td>\n",
       "      <td>52.39</td>\n",
       "      <td>54.18</td>\n",
       "      <td>58.0</td>\n",
       "    </tr>\n",
       "  </tbody>\n",
       "</table>\n",
       "</div>"
      ],
      "text/plain": [
       "         count       mean       std   min    25%    50%    75%   max\n",
       "Mora                                                                \n",
       "No    120343.0  51.107362  5.658316  33.5  49.04  52.39  52.89  63.0\n",
       "Si     22696.0  51.003954  4.545756  33.5  49.70  52.39  54.18  58.0"
      ]
     },
     "execution_count": 154,
     "metadata": {},
     "output_type": "execute_result"
    }
   ],
   "source": [
    "df.groupby(\"Mora\")['Tasa'].describe()"
   ]
  },
  {
   "cell_type": "markdown",
   "id": "4827896d",
   "metadata": {},
   "source": [
    "Las personas que solicitaron y les otorgaron un crédito con tasas más altas, son más propensas a incurrir en mora."
   ]
  },
  {
   "cell_type": "markdown",
   "id": "dac55c98",
   "metadata": {},
   "source": [
    "#### 2.6.4.  Análisis de Correlación de Pearson"
   ]
  },
  {
   "cell_type": "code",
   "execution_count": 155,
   "id": "9de05cfa",
   "metadata": {},
   "outputs": [],
   "source": [
    "#Reemplazamos variables categóricas por numéricas: Genero,tipo de cliente y mora\n",
    "df['Sexo'] = df['Sexo'].replace({\"Hombre\": 0, \"Mujer\": 1})\n",
    "df['Sexo'] = df['Sexo'].astype(int)\n",
    "\n",
    "df['Tipo_cliente'] = df['Tipo_cliente'].replace({\"Nuevo\": 0, \"Preferencial\": 1})\n",
    "df['Tipo_cliente'] = df['Tipo_cliente'].astype(int)\n",
    "\n",
    "df['Mora'] = df['Mora'].replace({\"Si\": 1, \"No\": 0})\n",
    "df['Mora'] = df['Mora'].astype(int)"
   ]
  },
  {
   "cell_type": "code",
   "execution_count": 156,
   "id": "c8cf38f0",
   "metadata": {},
   "outputs": [],
   "source": [
    "correlacion=df[[\"Tasa\", \"Monto\", \"Plazo_Meses\", \"Sexo\", \"Tipo_cliente\", \"Edad\", \"Mora\"]]"
   ]
  },
  {
   "cell_type": "code",
   "execution_count": 157,
   "id": "fd29702b",
   "metadata": {
    "scrolled": false
   },
   "outputs": [
    {
     "data": {
      "text/plain": [
       "<Axes: >"
      ]
     },
     "execution_count": 157,
     "metadata": {},
     "output_type": "execute_result"
    },
    {
     "data": {
      "image/png": "[encoded data removed]",
      "text/plain": [
       "<Figure size 1500x800 with 2 Axes>"
      ]
     },
     "metadata": {},
     "output_type": "display_data"
    }
   ],
   "source": [
    "correlation_matrix = correlacion.corr(numeric_only=True,method='pearson')\n",
    "# Crear un mapa de calor para visualizar la matriz de correlación\n",
    "sns.set(rc={\"figure.figsize\": (15, 8)})\n",
    "sns.heatmap(correlation_matrix, annot=True, cmap=\"coolwarm\", center=0)"
   ]
  },
  {
   "cell_type": "markdown",
   "id": "fa078ce0",
   "metadata": {},
   "source": [
    "Tras el análisis de correlación en relación con la variable objetivo de mora, se observa que ninguna variable presenta una correlación significativa con ella. Sin embargo, se destaca que las variables de edad, tipo de cliente y plazo en meses muestran una correlación leve pero más marcada en comparación con las demás variables analizadas. Esto sugiere que, aunque no existe una relación directa y fuerte entre estas variables y la morosidad, sí hay una tendencia notable que merece ser tenida en cuenta. Estos resultados plantean la necesidad de explorar más a fondo otros posibles factores que podrían influir en el comportamiento de mora de los clientes de la entidad."
   ]
  },
  {
   "cell_type": "markdown",
   "id": "0fec01c1",
   "metadata": {},
   "source": [
    "### 2.7. Conclusión análisis multivariado"
   ]
  },
  {
   "cell_type": "markdown",
   "id": "8eef04aa",
   "metadata": {},
   "source": [
    "Se puede observar que, según el análisis realizado, los clientes más jóvenes tienden a ser más propensos a caer en morosidad con respecto a sus obligaciones financieras. Además, se detectó una leve relación entre la tasa de interés imputada y la incidencia de morosidad, ya que una tasa más alta también parece afectar la probabilidad de caer en mora. Sin embargo, entre las variables analizadas, no se encontró ninguna que tenga una correlación fuerte con la morosidad, excepto el plazo, el tipo de cliente y la edad. Estos hallazgos sugieren que, aunque existen ciertas relaciones leves entre algunas variables y la morosidad, otras variables o factores no contemplados podrían estar influyendo significativamente en el comportamiento de morosidad de los clientes."
   ]
  },
  {
   "cell_type": "markdown",
   "id": "e115e928",
   "metadata": {},
   "source": [
    "## 3. Modelo Predictivo de Mora"
   ]
  },
  {
   "cell_type": "code",
   "execution_count": 158,
   "id": "ec3efc13",
   "metadata": {},
   "outputs": [
    {
     "data": {
      "text/html": [
       "<div>\n",
       "<style scoped>\n",
       "    .dataframe tbody tr th:only-of-type {\n",
       "        vertical-align: middle;\n",
       "    }\n",
       "\n",
       "    .dataframe tbody tr th {\n",
       "        vertical-align: top;\n",
       "    }\n",
       "\n",
       "    .dataframe thead th {\n",
       "        text-align: right;\n",
       "    }\n",
       "</style>\n",
       "<table border=\"1\" class=\"dataframe\">\n",
       "  <thead>\n",
       "    <tr style=\"text-align: right;\">\n",
       "      <th></th>\n",
       "      <th>ID</th>\n",
       "      <th>Sector_Actividad</th>\n",
       "      <th>Tasa</th>\n",
       "      <th>Monto</th>\n",
       "      <th>Plazo_Meses</th>\n",
       "      <th>Antiguedad</th>\n",
       "      <th>Sexo</th>\n",
       "      <th>Tipo_Vivienda</th>\n",
       "      <th>Tipo_cliente</th>\n",
       "      <th>Edad</th>\n",
       "      <th>Personas_a_Cargo</th>\n",
       "      <th>Estado_Civil</th>\n",
       "      <th>Mora</th>\n",
       "    </tr>\n",
       "  </thead>\n",
       "  <tbody>\n",
       "    <tr>\n",
       "      <th>0</th>\n",
       "      <td>1</td>\n",
       "      <td>COMERCIO</td>\n",
       "      <td>52.89</td>\n",
       "      <td>2400000.0</td>\n",
       "      <td>12.0</td>\n",
       "      <td>2</td>\n",
       "      <td>1</td>\n",
       "      <td>Arrendada</td>\n",
       "      <td>0</td>\n",
       "      <td>24.000000</td>\n",
       "      <td>0</td>\n",
       "      <td>Unión Libre</td>\n",
       "      <td>0</td>\n",
       "    </tr>\n",
       "    <tr>\n",
       "      <th>1</th>\n",
       "      <td>2</td>\n",
       "      <td>AGRICULTURA</td>\n",
       "      <td>55.00</td>\n",
       "      <td>5582000.0</td>\n",
       "      <td>23.0</td>\n",
       "      <td>2</td>\n",
       "      <td>1</td>\n",
       "      <td>Arrendada</td>\n",
       "      <td>0</td>\n",
       "      <td>34.000000</td>\n",
       "      <td>1</td>\n",
       "      <td>Casado/a</td>\n",
       "      <td>1</td>\n",
       "    </tr>\n",
       "    <tr>\n",
       "      <th>2</th>\n",
       "      <td>3</td>\n",
       "      <td>COMERCIO</td>\n",
       "      <td>52.39</td>\n",
       "      <td>2300000.0</td>\n",
       "      <td>20.0</td>\n",
       "      <td>2</td>\n",
       "      <td>1</td>\n",
       "      <td>Arrendada</td>\n",
       "      <td>0</td>\n",
       "      <td>23.000000</td>\n",
       "      <td>0</td>\n",
       "      <td>Soltero/a</td>\n",
       "      <td>0</td>\n",
       "    </tr>\n",
       "    <tr>\n",
       "      <th>3</th>\n",
       "      <td>4</td>\n",
       "      <td>ARTESANÍAS</td>\n",
       "      <td>55.20</td>\n",
       "      <td>1774000.0</td>\n",
       "      <td>16.0</td>\n",
       "      <td>2</td>\n",
       "      <td>0</td>\n",
       "      <td>Familiar</td>\n",
       "      <td>0</td>\n",
       "      <td>22.000000</td>\n",
       "      <td>0</td>\n",
       "      <td>Soltero/a</td>\n",
       "      <td>0</td>\n",
       "    </tr>\n",
       "    <tr>\n",
       "      <th>4</th>\n",
       "      <td>5</td>\n",
       "      <td>SERVICIOS</td>\n",
       "      <td>63.00</td>\n",
       "      <td>2000000.0</td>\n",
       "      <td>14.0</td>\n",
       "      <td>2</td>\n",
       "      <td>1</td>\n",
       "      <td>Familiar</td>\n",
       "      <td>0</td>\n",
       "      <td>21.000000</td>\n",
       "      <td>0</td>\n",
       "      <td>Soltero/a</td>\n",
       "      <td>0</td>\n",
       "    </tr>\n",
       "    <tr>\n",
       "      <th>...</th>\n",
       "      <td>...</td>\n",
       "      <td>...</td>\n",
       "      <td>...</td>\n",
       "      <td>...</td>\n",
       "      <td>...</td>\n",
       "      <td>...</td>\n",
       "      <td>...</td>\n",
       "      <td>...</td>\n",
       "      <td>...</td>\n",
       "      <td>...</td>\n",
       "      <td>...</td>\n",
       "      <td>...</td>\n",
       "      <td>...</td>\n",
       "    </tr>\n",
       "    <tr>\n",
       "      <th>143034</th>\n",
       "      <td>143035</td>\n",
       "      <td>COMERCIO</td>\n",
       "      <td>52.89</td>\n",
       "      <td>4350000.0</td>\n",
       "      <td>18.0</td>\n",
       "      <td>2</td>\n",
       "      <td>1</td>\n",
       "      <td>Propia sin Deuda</td>\n",
       "      <td>0</td>\n",
       "      <td>35.000000</td>\n",
       "      <td>0</td>\n",
       "      <td>Soltero/a</td>\n",
       "      <td>0</td>\n",
       "    </tr>\n",
       "    <tr>\n",
       "      <th>143035</th>\n",
       "      <td>143036</td>\n",
       "      <td>COMERCIO</td>\n",
       "      <td>46.00</td>\n",
       "      <td>15300000.0</td>\n",
       "      <td>12.0</td>\n",
       "      <td>2</td>\n",
       "      <td>1</td>\n",
       "      <td>Propia sin Deuda</td>\n",
       "      <td>0</td>\n",
       "      <td>32.000000</td>\n",
       "      <td>1</td>\n",
       "      <td>Casado/a</td>\n",
       "      <td>0</td>\n",
       "    </tr>\n",
       "    <tr>\n",
       "      <th>143036</th>\n",
       "      <td>143037</td>\n",
       "      <td>COMERCIO</td>\n",
       "      <td>52.39</td>\n",
       "      <td>4500000.0</td>\n",
       "      <td>12.0</td>\n",
       "      <td>2</td>\n",
       "      <td>1</td>\n",
       "      <td>Propia sin Deuda</td>\n",
       "      <td>0</td>\n",
       "      <td>42.000000</td>\n",
       "      <td>2</td>\n",
       "      <td>Unión Libre</td>\n",
       "      <td>0</td>\n",
       "    </tr>\n",
       "    <tr>\n",
       "      <th>143037</th>\n",
       "      <td>143038</td>\n",
       "      <td>COMERCIO</td>\n",
       "      <td>43.14</td>\n",
       "      <td>8200000.0</td>\n",
       "      <td>24.0</td>\n",
       "      <td>2</td>\n",
       "      <td>0</td>\n",
       "      <td>Arrendada</td>\n",
       "      <td>0</td>\n",
       "      <td>42.845539</td>\n",
       "      <td>0</td>\n",
       "      <td>Unión Libre</td>\n",
       "      <td>0</td>\n",
       "    </tr>\n",
       "    <tr>\n",
       "      <th>143038</th>\n",
       "      <td>143039</td>\n",
       "      <td>COMERCIO</td>\n",
       "      <td>52.39</td>\n",
       "      <td>6000000.0</td>\n",
       "      <td>24.0</td>\n",
       "      <td>2</td>\n",
       "      <td>0</td>\n",
       "      <td>Propia con Deuda</td>\n",
       "      <td>0</td>\n",
       "      <td>55.000000</td>\n",
       "      <td>0</td>\n",
       "      <td>Casado/a</td>\n",
       "      <td>0</td>\n",
       "    </tr>\n",
       "  </tbody>\n",
       "</table>\n",
       "<p>143039 rows × 13 columns</p>\n",
       "</div>"
      ],
      "text/plain": [
       "            ID Sector_Actividad   Tasa       Monto  Plazo_Meses  Antiguedad  \\\n",
       "0            1         COMERCIO  52.89   2400000.0         12.0           2   \n",
       "1            2      AGRICULTURA  55.00   5582000.0         23.0           2   \n",
       "2            3         COMERCIO  52.39   2300000.0         20.0           2   \n",
       "3            4       ARTESANÍAS  55.20   1774000.0         16.0           2   \n",
       "4            5        SERVICIOS  63.00   2000000.0         14.0           2   \n",
       "...        ...              ...    ...         ...          ...         ...   \n",
       "143034  143035         COMERCIO  52.89   4350000.0         18.0           2   \n",
       "143035  143036         COMERCIO  46.00  15300000.0         12.0           2   \n",
       "143036  143037         COMERCIO  52.39   4500000.0         12.0           2   \n",
       "143037  143038         COMERCIO  43.14   8200000.0         24.0           2   \n",
       "143038  143039         COMERCIO  52.39   6000000.0         24.0           2   \n",
       "\n",
       "        Sexo     Tipo_Vivienda  Tipo_cliente       Edad  Personas_a_Cargo  \\\n",
       "0          1         Arrendada             0  24.000000                 0   \n",
       "1          1         Arrendada             0  34.000000                 1   \n",
       "2          1         Arrendada             0  23.000000                 0   \n",
       "3          0          Familiar             0  22.000000                 0   \n",
       "4          1          Familiar             0  21.000000                 0   \n",
       "...      ...               ...           ...        ...               ...   \n",
       "143034     1  Propia sin Deuda             0  35.000000                 0   \n",
       "143035     1  Propia sin Deuda             0  32.000000                 1   \n",
       "143036     1  Propia sin Deuda             0  42.000000                 2   \n",
       "143037     0         Arrendada             0  42.845539                 0   \n",
       "143038     0  Propia con Deuda             0  55.000000                 0   \n",
       "\n",
       "       Estado_Civil  Mora  \n",
       "0       Unión Libre     0  \n",
       "1          Casado/a     1  \n",
       "2         Soltero/a     0  \n",
       "3         Soltero/a     0  \n",
       "4         Soltero/a     0  \n",
       "...             ...   ...  \n",
       "143034    Soltero/a     0  \n",
       "143035     Casado/a     0  \n",
       "143036  Unión Libre     0  \n",
       "143037  Unión Libre     0  \n",
       "143038     Casado/a     0  \n",
       "\n",
       "[143039 rows x 13 columns]"
      ]
     },
     "execution_count": 158,
     "metadata": {},
     "output_type": "execute_result"
    }
   ],
   "source": [
    "# Trasemos el dataset con las modificaciones hechas en las fases anteriores\n",
    "df"
   ]
  },
  {
   "cell_type": "code",
   "execution_count": 159,
   "id": "e1046373",
   "metadata": {},
   "outputs": [
    {
     "data": {
      "text/html": [
       "<div>\n",
       "<style scoped>\n",
       "    .dataframe tbody tr th:only-of-type {\n",
       "        vertical-align: middle;\n",
       "    }\n",
       "\n",
       "    .dataframe tbody tr th {\n",
       "        vertical-align: top;\n",
       "    }\n",
       "\n",
       "    .dataframe thead th {\n",
       "        text-align: right;\n",
       "    }\n",
       "</style>\n",
       "<table border=\"1\" class=\"dataframe\">\n",
       "  <thead>\n",
       "    <tr style=\"text-align: right;\">\n",
       "      <th></th>\n",
       "      <th>ID</th>\n",
       "      <th>Sector_Actividad</th>\n",
       "      <th>Tasa</th>\n",
       "      <th>Monto</th>\n",
       "      <th>Plazo_Meses</th>\n",
       "      <th>Antiguedad</th>\n",
       "      <th>Sexo</th>\n",
       "      <th>Tipo_Vivienda</th>\n",
       "      <th>Tipo_cliente</th>\n",
       "      <th>Edad</th>\n",
       "      <th>Personas_a_Cargo</th>\n",
       "      <th>Estado_Civil</th>\n",
       "      <th>Mora</th>\n",
       "    </tr>\n",
       "  </thead>\n",
       "  <tbody>\n",
       "    <tr>\n",
       "      <th>0</th>\n",
       "      <td>1</td>\n",
       "      <td>COMERCIO</td>\n",
       "      <td>52.89</td>\n",
       "      <td>2400000.0</td>\n",
       "      <td>12.0</td>\n",
       "      <td>2</td>\n",
       "      <td>1</td>\n",
       "      <td>Arrendada</td>\n",
       "      <td>0</td>\n",
       "      <td>24.000000</td>\n",
       "      <td>0</td>\n",
       "      <td>Unión Libre</td>\n",
       "      <td>0</td>\n",
       "    </tr>\n",
       "    <tr>\n",
       "      <th>1</th>\n",
       "      <td>2</td>\n",
       "      <td>AGRICULTURA</td>\n",
       "      <td>55.00</td>\n",
       "      <td>5582000.0</td>\n",
       "      <td>23.0</td>\n",
       "      <td>2</td>\n",
       "      <td>1</td>\n",
       "      <td>Arrendada</td>\n",
       "      <td>0</td>\n",
       "      <td>34.000000</td>\n",
       "      <td>1</td>\n",
       "      <td>Casado/a</td>\n",
       "      <td>1</td>\n",
       "    </tr>\n",
       "    <tr>\n",
       "      <th>2</th>\n",
       "      <td>3</td>\n",
       "      <td>COMERCIO</td>\n",
       "      <td>52.39</td>\n",
       "      <td>2300000.0</td>\n",
       "      <td>20.0</td>\n",
       "      <td>2</td>\n",
       "      <td>1</td>\n",
       "      <td>Arrendada</td>\n",
       "      <td>0</td>\n",
       "      <td>23.000000</td>\n",
       "      <td>0</td>\n",
       "      <td>Soltero/a</td>\n",
       "      <td>0</td>\n",
       "    </tr>\n",
       "    <tr>\n",
       "      <th>3</th>\n",
       "      <td>4</td>\n",
       "      <td>ARTESANÍAS</td>\n",
       "      <td>55.20</td>\n",
       "      <td>1774000.0</td>\n",
       "      <td>16.0</td>\n",
       "      <td>2</td>\n",
       "      <td>0</td>\n",
       "      <td>Familiar</td>\n",
       "      <td>0</td>\n",
       "      <td>22.000000</td>\n",
       "      <td>0</td>\n",
       "      <td>Soltero/a</td>\n",
       "      <td>0</td>\n",
       "    </tr>\n",
       "    <tr>\n",
       "      <th>4</th>\n",
       "      <td>5</td>\n",
       "      <td>SERVICIOS</td>\n",
       "      <td>63.00</td>\n",
       "      <td>2000000.0</td>\n",
       "      <td>14.0</td>\n",
       "      <td>2</td>\n",
       "      <td>1</td>\n",
       "      <td>Familiar</td>\n",
       "      <td>0</td>\n",
       "      <td>21.000000</td>\n",
       "      <td>0</td>\n",
       "      <td>Soltero/a</td>\n",
       "      <td>0</td>\n",
       "    </tr>\n",
       "    <tr>\n",
       "      <th>...</th>\n",
       "      <td>...</td>\n",
       "      <td>...</td>\n",
       "      <td>...</td>\n",
       "      <td>...</td>\n",
       "      <td>...</td>\n",
       "      <td>...</td>\n",
       "      <td>...</td>\n",
       "      <td>...</td>\n",
       "      <td>...</td>\n",
       "      <td>...</td>\n",
       "      <td>...</td>\n",
       "      <td>...</td>\n",
       "      <td>...</td>\n",
       "    </tr>\n",
       "    <tr>\n",
       "      <th>143034</th>\n",
       "      <td>143035</td>\n",
       "      <td>COMERCIO</td>\n",
       "      <td>52.89</td>\n",
       "      <td>4350000.0</td>\n",
       "      <td>18.0</td>\n",
       "      <td>2</td>\n",
       "      <td>1</td>\n",
       "      <td>Propia sin Deuda</td>\n",
       "      <td>0</td>\n",
       "      <td>35.000000</td>\n",
       "      <td>0</td>\n",
       "      <td>Soltero/a</td>\n",
       "      <td>0</td>\n",
       "    </tr>\n",
       "    <tr>\n",
       "      <th>143035</th>\n",
       "      <td>143036</td>\n",
       "      <td>COMERCIO</td>\n",
       "      <td>46.00</td>\n",
       "      <td>15300000.0</td>\n",
       "      <td>12.0</td>\n",
       "      <td>2</td>\n",
       "      <td>1</td>\n",
       "      <td>Propia sin Deuda</td>\n",
       "      <td>0</td>\n",
       "      <td>32.000000</td>\n",
       "      <td>1</td>\n",
       "      <td>Casado/a</td>\n",
       "      <td>0</td>\n",
       "    </tr>\n",
       "    <tr>\n",
       "      <th>143036</th>\n",
       "      <td>143037</td>\n",
       "      <td>COMERCIO</td>\n",
       "      <td>52.39</td>\n",
       "      <td>4500000.0</td>\n",
       "      <td>12.0</td>\n",
       "      <td>2</td>\n",
       "      <td>1</td>\n",
       "      <td>Propia sin Deuda</td>\n",
       "      <td>0</td>\n",
       "      <td>42.000000</td>\n",
       "      <td>2</td>\n",
       "      <td>Unión Libre</td>\n",
       "      <td>0</td>\n",
       "    </tr>\n",
       "    <tr>\n",
       "      <th>143037</th>\n",
       "      <td>143038</td>\n",
       "      <td>COMERCIO</td>\n",
       "      <td>43.14</td>\n",
       "      <td>8200000.0</td>\n",
       "      <td>24.0</td>\n",
       "      <td>2</td>\n",
       "      <td>0</td>\n",
       "      <td>Arrendada</td>\n",
       "      <td>0</td>\n",
       "      <td>42.845539</td>\n",
       "      <td>0</td>\n",
       "      <td>Unión Libre</td>\n",
       "      <td>0</td>\n",
       "    </tr>\n",
       "    <tr>\n",
       "      <th>143038</th>\n",
       "      <td>143039</td>\n",
       "      <td>COMERCIO</td>\n",
       "      <td>52.39</td>\n",
       "      <td>6000000.0</td>\n",
       "      <td>24.0</td>\n",
       "      <td>2</td>\n",
       "      <td>0</td>\n",
       "      <td>Propia con Deuda</td>\n",
       "      <td>0</td>\n",
       "      <td>55.000000</td>\n",
       "      <td>0</td>\n",
       "      <td>Casado/a</td>\n",
       "      <td>0</td>\n",
       "    </tr>\n",
       "  </tbody>\n",
       "</table>\n",
       "<p>143039 rows × 13 columns</p>\n",
       "</div>"
      ],
      "text/plain": [
       "            ID Sector_Actividad   Tasa       Monto  Plazo_Meses  Antiguedad  \\\n",
       "0            1         COMERCIO  52.89   2400000.0         12.0           2   \n",
       "1            2      AGRICULTURA  55.00   5582000.0         23.0           2   \n",
       "2            3         COMERCIO  52.39   2300000.0         20.0           2   \n",
       "3            4       ARTESANÍAS  55.20   1774000.0         16.0           2   \n",
       "4            5        SERVICIOS  63.00   2000000.0         14.0           2   \n",
       "...        ...              ...    ...         ...          ...         ...   \n",
       "143034  143035         COMERCIO  52.89   4350000.0         18.0           2   \n",
       "143035  143036         COMERCIO  46.00  15300000.0         12.0           2   \n",
       "143036  143037         COMERCIO  52.39   4500000.0         12.0           2   \n",
       "143037  143038         COMERCIO  43.14   8200000.0         24.0           2   \n",
       "143038  143039         COMERCIO  52.39   6000000.0         24.0           2   \n",
       "\n",
       "        Sexo     Tipo_Vivienda  Tipo_cliente       Edad  Personas_a_Cargo  \\\n",
       "0          1         Arrendada             0  24.000000                 0   \n",
       "1          1         Arrendada             0  34.000000                 1   \n",
       "2          1         Arrendada             0  23.000000                 0   \n",
       "3          0          Familiar             0  22.000000                 0   \n",
       "4          1          Familiar             0  21.000000                 0   \n",
       "...      ...               ...           ...        ...               ...   \n",
       "143034     1  Propia sin Deuda             0  35.000000                 0   \n",
       "143035     1  Propia sin Deuda             0  32.000000                 1   \n",
       "143036     1  Propia sin Deuda             0  42.000000                 2   \n",
       "143037     0         Arrendada             0  42.845539                 0   \n",
       "143038     0  Propia con Deuda             0  55.000000                 0   \n",
       "\n",
       "       Estado_Civil  Mora  \n",
       "0       Unión Libre     0  \n",
       "1          Casado/a     1  \n",
       "2         Soltero/a     0  \n",
       "3         Soltero/a     0  \n",
       "4         Soltero/a     0  \n",
       "...             ...   ...  \n",
       "143034    Soltero/a     0  \n",
       "143035     Casado/a     0  \n",
       "143036  Unión Libre     0  \n",
       "143037  Unión Libre     0  \n",
       "143038     Casado/a     0  \n",
       "\n",
       "[143039 rows x 13 columns]"
      ]
     },
     "execution_count": 159,
     "metadata": {},
     "output_type": "execute_result"
    }
   ],
   "source": [
    "df"
   ]
  },
  {
   "cell_type": "code",
   "execution_count": 160,
   "id": "435f7ef0",
   "metadata": {},
   "outputs": [],
   "source": [
    "df.to_csv(\"mora_pipeline.csv\")"
   ]
  },
  {
   "cell_type": "code",
   "execution_count": 161,
   "id": "72ae9368",
   "metadata": {},
   "outputs": [],
   "source": [
    "# Dividimos el conjunto de datos en características (X) y etiquetas (y)\n",
    "X = df[[\"Tasa\", \"Monto\", \"Plazo_Meses\", \"Sexo\", \"Tipo_cliente\", \"Edad\"]]\n",
    "y = df[\"Mora\"]"
   ]
  },
  {
   "cell_type": "code",
   "execution_count": 162,
   "id": "a9f927ea",
   "metadata": {},
   "outputs": [
    {
     "data": {
      "text/html": [
       "<style>#sk-container-id-1 {color: black;}#sk-container-id-1 pre{padding: 0;}#sk-container-id-1 div.sk-toggleable {background-color: white;}#sk-container-id-1 label.sk-toggleable__label {cursor: pointer;display: block;width: 100%;margin-bottom: 0;padding: 0.3em;box-sizing: border-box;text-align: center;}#sk-container-id-1 label.sk-toggleable__label-arrow:before {content: \"▸\";float: left;margin-right: 0.25em;color: #696969;}#sk-container-id-1 label.sk-toggleable__label-arrow:hover:before {color: black;}#sk-container-id-1 div.sk-estimator:hover label.sk-toggleable__label-arrow:before {color: black;}#sk-container-id-1 div.sk-toggleable__content {max-height: 0;max-width: 0;overflow: hidden;text-align: left;background-color: #f0f8ff;}#sk-container-id-1 div.sk-toggleable__content pre {margin: 0.2em;color: black;border-radius: 0.25em;background-color: #f0f8ff;}#sk-container-id-1 input.sk-toggleable__control:checked~div.sk-toggleable__content {max-height: 200px;max-width: 100%;overflow: auto;}#sk-container-id-1 input.sk-toggleable__control:checked~label.sk-toggleable__label-arrow:before {content: \"▾\";}#sk-container-id-1 div.sk-estimator input.sk-toggleable__control:checked~label.sk-toggleable__label {background-color: #d4ebff;}#sk-container-id-1 div.sk-label input.sk-toggleable__control:checked~label.sk-toggleable__label {background-color: #d4ebff;}#sk-container-id-1 input.sk-hidden--visually {border: 0;clip: rect(1px 1px 1px 1px);clip: rect(1px, 1px, 1px, 1px);height: 1px;margin: -1px;overflow: hidden;padding: 0;position: absolute;width: 1px;}#sk-container-id-1 div.sk-estimator {font-family: monospace;background-color: #f0f8ff;border: 1px dotted black;border-radius: 0.25em;box-sizing: border-box;margin-bottom: 0.5em;}#sk-container-id-1 div.sk-estimator:hover {background-color: #d4ebff;}#sk-container-id-1 div.sk-parallel-item::after {content: \"\";width: 100%;border-bottom: 1px solid gray;flex-grow: 1;}#sk-container-id-1 div.sk-label:hover label.sk-toggleable__label {background-color: #d4ebff;}#sk-container-id-1 div.sk-serial::before {content: \"\";position: absolute;border-left: 1px solid gray;box-sizing: border-box;top: 0;bottom: 0;left: 50%;z-index: 0;}#sk-container-id-1 div.sk-serial {display: flex;flex-direction: column;align-items: center;background-color: white;padding-right: 0.2em;padding-left: 0.2em;position: relative;}#sk-container-id-1 div.sk-item {position: relative;z-index: 1;}#sk-container-id-1 div.sk-parallel {display: flex;align-items: stretch;justify-content: center;background-color: white;position: relative;}#sk-container-id-1 div.sk-item::before, #sk-container-id-1 div.sk-parallel-item::before {content: \"\";position: absolute;border-left: 1px solid gray;box-sizing: border-box;top: 0;bottom: 0;left: 50%;z-index: -1;}#sk-container-id-1 div.sk-parallel-item {display: flex;flex-direction: column;z-index: 1;position: relative;background-color: white;}#sk-container-id-1 div.sk-parallel-item:first-child::after {align-self: flex-end;width: 50%;}#sk-container-id-1 div.sk-parallel-item:last-child::after {align-self: flex-start;width: 50%;}#sk-container-id-1 div.sk-parallel-item:only-child::after {width: 0;}#sk-container-id-1 div.sk-dashed-wrapped {border: 1px dashed gray;margin: 0 0.4em 0.5em 0.4em;box-sizing: border-box;padding-bottom: 0.4em;background-color: white;}#sk-container-id-1 div.sk-label label {font-family: monospace;font-weight: bold;display: inline-block;line-height: 1.2em;}#sk-container-id-1 div.sk-label-container {text-align: center;}#sk-container-id-1 div.sk-container {/* jupyter's `normalize.less` sets `[hidden] { display: none; }` but bootstrap.min.css set `[hidden] { display: none !important; }` so we also need the `!important` here to be able to override the default hidden behavior on the sphinx rendered scikit-learn.org. See: https://github.com/scikit-learn/scikit-learn/issues/21755 */display: inline-block !important;position: relative;}#sk-container-id-1 div.sk-text-repr-fallback {display: none;}</style><div id=\"sk-container-id-1\" class=\"sk-top-container\"><div class=\"sk-text-repr-fallback\"><pre>RandomForestClassifier(random_state=42)</pre><b>In a Jupyter environment, please rerun this cell to show the HTML representation or trust the notebook. <br />On GitHub, the HTML representation is unable to render, please try loading this page with nbviewer.org.</b></div><div class=\"sk-container\" hidden><div class=\"sk-item\"><div class=\"sk-estimator sk-toggleable\"><input class=\"sk-toggleable__control sk-hidden--visually\" id=\"sk-estimator-id-1\" type=\"checkbox\" checked><label for=\"sk-estimator-id-1\" class=\"sk-toggleable__label sk-toggleable__label-arrow\">RandomForestClassifier</label><div class=\"sk-toggleable__content\"><pre>RandomForestClassifier(random_state=42)</pre></div></div></div></div></div>"
      ],
      "text/plain": [
       "RandomForestClassifier(random_state=42)"
      ]
     },
     "execution_count": 162,
     "metadata": {},
     "output_type": "execute_result"
    }
   ],
   "source": [
    "# Dividir el conjunto de datos en entrenamiento y prueba\n",
    "X_train, X_test, y_train, y_test = train_test_split(X, y, test_size=0.2, random_state=42)\n",
    "\n",
    "#Entrenar un modelo de clasificación (usando Random Forest como ejemplo)\n",
    "modelo = RandomForestClassifier(random_state=42)\n",
    "modelo.fit(X_train, y_train)"
   ]
  },
  {
   "cell_type": "code",
   "execution_count": 163,
   "id": "46865fc0",
   "metadata": {},
   "outputs": [
    {
     "name": "stdout",
     "output_type": "stream",
     "text": [
      "\n",
      "Precisión del modelo: 0.84\n"
     ]
    },
    {
     "data": {
      "image/png": "[encoded data removed]",
      "text/plain": [
       "<Figure size 800x600 with 1 Axes>"
      ]
     },
     "metadata": {},
     "output_type": "display_data"
    },
    {
     "name": "stdout",
     "output_type": "stream",
     "text": [
      "\n",
      "Informe de Clasificación:\n",
      "              precision    recall  f1-score   support\n",
      "\n",
      "           0       0.87      0.95      0.91     24056\n",
      "           1       0.48      0.25      0.33      4552\n",
      "\n",
      "    accuracy                           0.84     28608\n",
      "   macro avg       0.67      0.60      0.62     28608\n",
      "weighted avg       0.81      0.84      0.82     28608\n",
      "\n"
     ]
    }
   ],
   "source": [
    "# Evaluación del modelo\n",
    "y_pred = modelo.predict(X_test)\n",
    "\n",
    "# Calcular la precisión del modelo\n",
    "precision = accuracy_score(y_test, y_pred)\n",
    "print(f\"\\nPrecisión del modelo: {precision:.2f}\")\n",
    "\n",
    "# Mostrar la matriz de confusión\n",
    "matriz_confusion = confusion_matrix(y_test, y_pred)\n",
    "plt.figure(figsize=(8, 6))\n",
    "sns.heatmap(matriz_confusion, annot=True, fmt='d', cmap='Blues', cbar=False)\n",
    "plt.xlabel('Predicciones')\n",
    "plt.ylabel('Valores reales')\n",
    "plt.title('Matriz de Confusión')\n",
    "plt.show()\n",
    "\n",
    "# Mostrar el informe de clasificación\n",
    "informe_clasificacion = classification_report(y_test, y_pred)\n",
    "print(\"\\nInforme de Clasificación:\")\n",
    "print(informe_clasificacion)"
   ]
  },
  {
   "cell_type": "markdown",
   "id": "fd70c85d",
   "metadata": {},
   "source": [
    "### 3.1. Conclusión a pregunta SMART"
   ]
  },
  {
   "cell_type": "markdown",
   "id": "6b0e8637",
   "metadata": {},
   "source": [
    "Después de analizar el rendimiento del modelo de clasificación Random Forest Classifier, se observa un valor de precisión (accuracy) de 0.83, lo cual puede parecer satisfactorio a primera vista. Sin embargo, al examinar la matriz de confusión, se revela una discrepancia significativa. Se observa que cuando el modelo predice una mora positiva (1), el 53% de estas predicciones no coincide con la realidad, lo que equivale a 1.310 de 2.445 predicciones. Este hallazgo pone en duda la confiabilidad del modelo para proporcionar respuestas precisas a la pregunta SMART planteada. La baja precisión en la predicción de casos de morosidad puede atribuirse a la escasez de datos de mora en el conjunto de datos utilizado para entrenar el modelo. Por lo tanto, se concluye que se necesitan recopilar más muestras de clientes en mora para mejorar la capacidad predictiva del modelo y garantizar su fiabilidad en la toma de decisiones financieras."
   ]
  }
 ],
 "metadata": {
  "kernelspec": {
   "display_name": "Python 3 (ipykernel)",
   "language": "python",
   "name": "python3"
  },
  "language_info": {
   "codemirror_mode": {
    "name": "ipython",
    "version": 3
   },
   "file_extension": ".py",
   "mimetype": "text/x-python",
   "name": "python",
   "nbconvert_exporter": "python",
   "pygments_lexer": "ipython3",
   "version": "3.11.5"
  }
 },
 "nbformat": 4,
 "nbformat_minor": 5
}
