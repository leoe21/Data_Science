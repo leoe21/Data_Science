{
 "cells": [
  {
   "cell_type": "markdown",
   "metadata": {
    "colab_type": "text",
    "id": "view-in-github"
   },
   "source": [
    "<a href=\"https://colab.research.google.com/github/armandoordonez/eda_couse/blob/main/Pipeline_1.ipynb\" target=\"_parent\"><img src=\"https://colab.research.google.com/assets/colab-badge.svg\" alt=\"Open In Colab\"/></a>"
   ]
  },
  {
   "cell_type": "markdown",
   "metadata": {
    "colab": {
     "base_uri": "https://localhost:8080/"
    },
    "id": "14C24tVVh4Xk",
    "outputId": "4b53d500-fd89-4d77-8dd2-46c9a99990ff"
   },
   "source": [
    "## Ejercicio pipeline con base taller final: Propensión de Mora\n",
    "\n",
    "### Presentado por:\n",
    "#### Luis Esteban Ordoñez Erazo y Raul Echeverry Lopez\n"
   ]
  },
  {
   "cell_type": "code",
   "execution_count": 1,
   "metadata": {
    "colab": {
     "base_uri": "https://localhost:8080/"
    },
    "id": "14C24tVVh4Xk",
    "outputId": "4b53d500-fd89-4d77-8dd2-46c9a99990ff"
   },
   "outputs": [
    {
     "name": "stdout",
     "output_type": "stream",
     "text": [
      "[Pipeline] ............... (step 1 of 3) Processing pca, total=   0.2s\n",
      "[Pipeline] ............... (step 2 of 3) Processing std, total=   0.0s\n",
      "[Pipeline] ..... (step 3 of 3) Processing decision_tree, total=   0.8s\n",
      "0.7580536912751678\n"
     ]
    }
   ],
   "source": [
    "import pandas as pd\n",
    "from sklearn import datasets\n",
    "from sklearn.model_selection import train_test_split\n",
    "from sklearn.preprocessing import StandardScaler\n",
    "from sklearn.preprocessing import LabelEncoder\n",
    "from sklearn.decomposition import PCA\n",
    "from sklearn.tree import DecisionTreeClassifier\n",
    "\n",
    "# scoring data\n",
    "from sklearn.metrics import accuracy_score\n",
    "\n",
    "# dataset\n",
    "df = pd.read_csv(\"mora_pipeline.csv\")\n",
    "X = df[[\"Tasa\", \"Monto\", \"Plazo_Meses\", \"Sexo\", \"Tipo_cliente\", \"Edad\"]]\n",
    "y = df[\"Mora\"]\n",
    "          \n",
    "#The data spliting is executed here\n",
    "X_train, X_test, y_train, y_test = train_test_split(X, y, test_size = 0.50)\n",
    "\n",
    "# importing pipes for making the Pipe flow\n",
    "from sklearn.pipeline import Pipeline\n",
    "# The sequence of pipe flow is :\n",
    "# Data gets scaled >> Classification of decission tree\n",
    "pipe = Pipeline([('pca', PCA(n_components = 2)),('std', StandardScaler()), ('decision_tree', DecisionTreeClassifier())], verbose = True)\n",
    "\n",
    "# fitting the data in the pipeline\n",
    "pipe.fit(X_train, y_train)\n",
    "\n",
    "\n",
    "print(accuracy_score(y_test, pipe.predict(X_test)))"
   ]
  },
  {
   "cell_type": "code",
   "execution_count": 2,
   "metadata": {
    "colab": {
     "base_uri": "https://localhost:8080/"
    },
    "id": "ihqTw6g8iPtg",
    "outputId": "dbabc784-ef40-4bf0-bd63-25bdad118f80"
   },
   "outputs": [
    {
     "name": "stdout",
     "output_type": "stream",
     "text": [
      "[Pipeline] ............... (step 1 of 2) Processing pca, total=   0.1s\n",
      "[Pipeline] ..... (step 2 of 2) Processing decision_tree, total=   1.1s\n",
      "0.758263422818792\n"
     ]
    }
   ],
   "source": [
    "pipe = Pipeline([('pca', PCA(n_components = 2)), ('decision_tree', DecisionTreeClassifier())], verbose = True)\n",
    "\n",
    "# fitting the data in the pipeline\n",
    "pipe.fit(X_train, y_train)\n",
    "\n",
    "# scoring data\n",
    "from sklearn.metrics import accuracy_score\n",
    "print(accuracy_score(y_test, pipe.predict(X_test)))"
   ]
  },
  {
   "cell_type": "code",
   "execution_count": 3,
   "metadata": {
    "colab": {
     "base_uri": "https://localhost:8080/"
    },
    "id": "apzqj_3DiX_5",
    "outputId": "c6fc2904-0dd0-4fab-9b45-291e75ac6622"
   },
   "outputs": [
    {
     "name": "stdout",
     "output_type": "stream",
     "text": [
      "[Pipeline] ..... (step 1 of 1) Processing decision_tree, total=   0.5s\n",
      "0.7930508948545861\n"
     ]
    }
   ],
   "source": [
    "pipe = Pipeline([('decision_tree', DecisionTreeClassifier())], verbose = True)\n",
    "\n",
    "# fitting the data in the pipeline\n",
    "pipe.fit(X_train, y_train)\n",
    "\n",
    "# scoring data\n",
    "from sklearn.metrics import accuracy_score\n",
    "print(accuracy_score(y_test, pipe.predict(X_test)))"
   ]
  },
  {
   "cell_type": "code",
   "execution_count": null,
   "metadata": {
    "id": "_aHFqlzmiede"
   },
   "outputs": [],
   "source": []
  }
 ],
 "metadata": {
  "colab": {
   "authorship_tag": "ABX9TyMBKuIGhLufdyxAJK8s6x5E",
   "include_colab_link": true,
   "provenance": []
  },
  "kernelspec": {
   "display_name": "Python 3 (ipykernel)",
   "language": "python",
   "name": "python3"
  },
  "language_info": {
   "codemirror_mode": {
    "name": "ipython",
    "version": 3
   },
   "file_extension": ".py",
   "mimetype": "text/x-python",
   "name": "python",
   "nbconvert_exporter": "python",
   "pygments_lexer": "ipython3",
   "version": "3.11.5"
  }
 },
 "nbformat": 4,
 "nbformat_minor": 1
}
